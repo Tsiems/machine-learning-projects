{
 "cells": [
  {
   "cell_type": "markdown",
   "metadata": {},
   "source": [
    "# Classification of Play Type in NFL Play-By-Play Data"
   ]
  },
  {
   "cell_type": "markdown",
   "metadata": {},
   "source": [
    "### Ian Johnson, Derek Phanekham, Travis Siems"
   ]
  },
  {
   "cell_type": "markdown",
   "metadata": {},
   "source": [
    "## Introduction"
   ]
  },
  {
   "cell_type": "markdown",
   "metadata": {},
   "source": [
    "The NFL (National Football League) has 32 teams split into two conferences, the AFC and NFC. Each of the 32 teams plays 16 games during the regular season (non-playoff season) every year. Due to the considerable viewership of American football, as well as the pervasiveness of fantasy football, considerable data about the game is collected. During the 2015-2016 season, information about every play from each game that occurred was logged. All of that data was consolidated into a single data set which is analyzed throughout this report.\n",
    "\n",
    "In this report, we will attempt to classify the type of a play, given the game situation before the play began. "
   ]
  },
  {
   "cell_type": "markdown",
   "metadata": {},
   "source": [
    "### The Classification Task\n",
    "\n",
    "We will attempt to classify plays based on play type using information about the state of the game prior to the start of the play. This is expected to be an exceptionally difficult classification task, due to the amount of noise in the dataset (specifically, the decision to run vs pass the ball is often a seemingly random one). A successful classifier would have huge value to defensive coordinators, who could call plays based on the expected offensive playcall. Because it may be very difficult to identify what play will be called, it is relevant to provide a probability of a given playcall in a situation. For example, it would be useful to provide the probability of a 4th down conversion attempt, even if the overall prediction is that a punt occurs. "
   ]
  },
  {
   "cell_type": "markdown",
   "metadata": {},
   "source": [
    "### Data Preparation\n",
    "\n",
    "In order to prepare the data for classification, a number of variables from the original dataset will be removed, as they measure the result of the play, not the state of the game prior to the start of the play. The dataset being included in this report has had previous cleaning and preprocessing performed in our previous report."
   ]
  },
  {
   "cell_type": "code",
   "execution_count": 26,
   "metadata": {
    "collapsed": false
   },
   "outputs": [
    {
     "name": "stdout",
     "output_type": "stream",
     "text": [
      "<class 'pandas.core.frame.DataFrame'>\n",
      "Int64Index: 38600 entries, 0 to 42875\n",
      "Data columns (total 14 columns):\n",
      "GameID           38600 non-null int64\n",
      "Drive            38600 non-null int64\n",
      "qtr              38600 non-null int64\n",
      "down             38600 non-null int64\n",
      "TimeSecs         38600 non-null float64\n",
      "yrdline100       38600 non-null float64\n",
      "ydstogo          38600 non-null float64\n",
      "ydsnet           38600 non-null float64\n",
      "GoalToGo         38600 non-null int64\n",
      "posteam          38600 non-null object\n",
      "DefensiveTeam    38600 non-null object\n",
      "PosTeamScore     38600 non-null float64\n",
      "ScoreDiff        38600 non-null float64\n",
      "PlayType         38600 non-null object\n",
      "dtypes: float64(6), int64(5), object(3)\n",
      "memory usage: 4.4+ MB\n"
     ]
    }
   ],
   "source": [
    "#For final version of report, remove warnings for aesthetics.\n",
    "import warnings\n",
    "warnings.filterwarnings('ignore')\n",
    "\n",
    "#Libraries used for data analysis\n",
    "import pandas as pd\n",
    "import numpy as np\n",
    "from sklearn import preprocessing\n",
    "\n",
    "df = pd.read_csv('data/cleaned.csv') # read in the csv file\n",
    "\n",
    "colsToInclude = ['GameID', 'Drive', 'qtr', 'down',\n",
    "                 'TimeSecs', 'yrdline100','ydstogo','ydsnet',\n",
    "                 'GoalToGo','posteam','DefensiveTeam',\n",
    "                 'PosTeamScore','ScoreDiff', 'PlayType']\n",
    "\n",
    "df = df[colsToInclude]\n",
    "df = df[[p not in [\"Sack\", \"No Play\", \"QB Kneel\", \"Spike\"] for p in df.PlayType]]\n",
    "df.info()"
   ]
  },
  {
   "cell_type": "markdown",
   "metadata": {},
   "source": [
    "A subset of attributes will be one-hot encoded, as they are categorical variables which won't work with our classification algorithm. The following Python function was used for one-hot encoding, and was adapted from the website referenced in the code."
   ]
  },
  {
   "cell_type": "code",
   "execution_count": 27,
   "metadata": {
    "collapsed": true
   },
   "outputs": [],
   "source": [
    "from sklearn.feature_extraction import DictVectorizer\n",
    "\n",
    "#Simple function for 1 hot encoding\n",
    "def encode_onehot(df, cols):\n",
    "    \"\"\"\n",
    "    One-hot encoding is applied to columns specified in a pandas DataFrame.\n",
    "    \n",
    "    Modified from: https://gist.github.com/kljensen/5452382\n",
    "    \n",
    "    Details:\n",
    "    \n",
    "    http://en.wikipedia.org/wiki/One-hot\n",
    "    http://scikit-learn.org/stable/modules/generated/sklearn.preprocessing.OneHotEncoder.html\n",
    "    \n",
    "    @param df pandas DataFrame\n",
    "    @param cols a list of columns to encode\n",
    "    @return a DataFrame with one-hot encoding\n",
    "    \"\"\"\n",
    "    vec = DictVectorizer()\n",
    "    \n",
    "    vec_data = pd.DataFrame(vec.fit_transform(df[cols].to_dict(outtype='records')).toarray())\n",
    "    vec_data.columns = vec.get_feature_names()\n",
    "    vec_data.index = df.index\n",
    "    \n",
    "    df = df.drop(cols, axis=1)\n",
    "    df = df.join(vec_data)\n",
    "    return df\n",
    "\n",
    "df = encode_onehot(df, cols=['posteam', 'DefensiveTeam'])"
   ]
  },
  {
   "cell_type": "markdown",
   "metadata": {},
   "source": [
    "The following are descriptions of the remaining data columns in the play-by-play dataset. Note that the one-hot encoded columns do not follow the structure listed below, but for the sake of readability they are presented as if they were not one-hot encoded.\n",
    "\n",
    "* **GameID** (*nominal*): A unique integer which identifies each game played \n",
    "* **Drive** (*ordinal*): The number of the drive during a game when the play occurred (indexed at one, so the first drive of the game has Drive 1 and the nth drive has Drive n)\n",
    "* **qtr** (*interval*): The quarter of the game when the play occurred\n",
    "* **down** (*interval*): The down when the play occurred (1st, 2nd, 3rd, or 4th)\n",
    "* **TimeSecs** (*interval*): The remaining game time, in seconds, when the play began\n",
    "* **yrdline100** (*ratio*): The absolute yard-line on the field where the play started (from 0 to 100, where 0 is the defensive end zone and 100 is the offensive end zone of the team with the ball)\n",
    "* **ydstogo** (*ratio*): The number of yards from the line of scrimmage to the first-down line\n",
    "* **ydsnet** (*ratio*): The number of yards from the beginning of the drive to the current line of scrimmage\n",
    "* **GoalToGo** (*nominal*): A binary attribute whose value is 1 if there is no first down line (the end-zone is the first down line) or 0 if there is a normal first down line\n",
    "* **posteam** (*nominal*): A 2-or-3 character code representing the team on offense\n",
    "* **PosTeamScore** (*ratio*): The score of the team with possesion of the ball\n",
    "* **DefensiveTeam** (*nominal*): A 2-or-3 character code representing the team on defense\n",
    "* **ScoreDiff**: (*ratio*) The difference in score between the offensive and defensive at the time of the play.\n",
    "* **PlayType**: (*nominal*) An attribute that identifies the type of play (i.e. Kickoff, Run, Pass, Sack, etc)"
   ]
  },
  {
   "cell_type": "markdown",
   "metadata": {},
   "source": [
    "### Performance Metrics\n",
    "\n",
    "The value of a classifier will be evaulated using the following cost matrix. Costs in the matrix which are set to 1 represent play predictions that would never actually occur in the context of a football game. For example, if we predicted a pass play and a kickoff occurs, then the classifier has a significant flaw. \n",
    "\n",
    "Bolded weights represent actual mispredictions that could occur.\n",
    "\n",
    "|                | Actual Play | Pass | Run | Kickoff |     Punt    | Extra Point | Field Goal | Onside Kick |\n",
    "|----------------|-------------|------|-----|---------|-------------|------------|-------------|-------------|\n",
    "| Predicted Play |             |      |     |         |             |            |             | |\n",
    "| Pass           |             | 0    | **0.1** | 1       | **0.15** | **0.15**        | **0.1**         | 1           |  \n",
    "| Run            |             | **0.1**  | 0   | 1       | **0.15** | **0.15**        | **0.1**         | 1           | \n",
    "| Kickoff        |             | 1    | 1   | 0     |  1  | 1           | 1          | **0.75**       |\n",
    "| Punt           |             | **0.25**    | **0.25**   | 1   | 0 |1       |  **0.15**           | 1           |\n",
    "| Extra Point    |             | **0.4**  | **0.4** | 1       | 1 | 0           | 1          | 1           |\n",
    "| Field Goal     |             | **0.4** | **0.4** | 1       | **0.1** | 1           | 0          | 1           |\n",
    "| Onside Kick    |             | 1    | 1   | **0.25**    |  1 |1           | 1          | 0           |\n",
    "\n",
    "\n",
    "This performance metric is the best for this classification problem because the actual potential cost of an incorrect play prediction varies significantly based on the nature of the misclassification. In an actual football game, it would be very costly to predict an extra point and have the opposing team run a pass play. This means that they ran a fake extra point and went for a two-point conversion. However, if a pass play is predicted and a run play occurs, the cost of the error is minimal because the defensive strategy for defending against run and pass plays.\n",
    "\n",
    "Because the goal of this classification is to help inform defensive play-calling, a cost matrix is helpful because it allows a defensive coordinator to set his own costs to produce his own classifier, without any knowledge of the actualy computation that occurs."
   ]
  },
  {
   "cell_type": "markdown",
   "metadata": {},
   "source": [
    "### Cross Validation Methodology\n",
    "\n",
    "We will use a stratified 10-fold cross validation technique to compare the models. We use a sequential partition of the data because this mirrors how data will be collected and analyzed. For our use, we assume that it is okay to use data in the “future” to predict data “now” because it can represent data from a previous football season. For example, if we use the first 90% of data for training and the remaining 10% of data for testing, that would simulate using most of the current season's data to predict plays towards the end of this season. If we use the first 50% and last 40% of data for training and the remaining 10% for testing, this would simulate using 40% of the previous season's data and the first 50% of this season's data to predict plays happening around the middle of the current season. \n",
    "\n",
    "By using stratification, we can use a more representative sample of the distribution of play types. This stratified sample will reduce variance in the estimation. Given that the dataset only covers play-by-play data for one football season and using our assumptions, we can conclude that the stratified 10-fold cross validation technique will give us an ideal comparison between models."
   ]
  },
  {
   "cell_type": "code",
   "execution_count": 28,
   "metadata": {
    "collapsed": false
   },
   "outputs": [],
   "source": [
    "from sklearn.model_selection import cross_val_score\n",
    "from sklearn.model_selection import StratifiedKFold, StratifiedShuffleSplit\n",
    "\n",
    "#Using a 10-fold stratified shuffle split.\n",
    "cv = StratifiedKFold(n_splits=10)\n",
    "\n",
    "y = df.PlayType.values\n",
    "X = df.drop('PlayType', 1).values"
   ]
  },
  {
   "cell_type": "markdown",
   "metadata": {},
   "source": [
    "## Modeling\n",
    "\n",
    "Before we build any models, we define a cost function in Python below, which is used to test all of our forthcoming models. It computes the item-wise product of a confusion matrix and our cost matrix, and returns the sum of all of the elements in the resulting matrix."
   ]
  },
  {
   "cell_type": "code",
   "execution_count": 29,
   "metadata": {
    "collapsed": false
   },
   "outputs": [],
   "source": [
    "from sklearn.metrics import accuracy_score\n",
    "from sklearn.metrics import confusion_matrix\n",
    "from sklearn.metrics import make_scorer\n",
    "\n",
    "cost_mat =     [[0  ,.1  , 1   , .15 , 0.15, .1 , 1   ],\n",
    "                [.1 , 0  , 1   , 0.15, 0.15, 0.1, 1   ],\n",
    "                [1  , 1  , 0   , 1   , 1   , 1  , 0.75],\n",
    "                [.25,0.25, 1   , 0   , 1   ,0.15,  1  ],\n",
    "                [0.4, 0.4, 1   , 1   , 0   , 1  ,  1  ],\n",
    "                [0.4, 0.4, 1   , 0.1 , 1   , 0  ,  1  ],\n",
    "                [1  , 1  , 0.25, 1   , 1   , 1  ,  0  ]]\n",
    "\n",
    "def cost(Y, yhat):\n",
    "    \n",
    "    return np.sum(np.multiply(confusion_matrix(Y,yhat), cost_mat))\n",
    "\n",
    "scorer = make_scorer(cost)"
   ]
  },
  {
   "cell_type": "markdown",
   "metadata": {},
   "source": [
    "### An Accessory Plotting Function\n",
    "\n",
    "The following plotting function will be used for tuning hyperparameters for various algorithms.\n",
    "It is adapted from one of the instructional ML notebooks for CSE 5393"
   ]
  },
  {
   "cell_type": "code",
   "execution_count": 30,
   "metadata": {
    "collapsed": false
   },
   "outputs": [],
   "source": [
    "import matplotlib.pyplot as plt\n",
    "%matplotlib inline \n",
    "plt.style.use('ggplot')\n",
    "\n",
    "#Adapted From MachineLearningNotebooks/09_Evaluation\n",
    "#Credit: Dr. Eric Larson\n",
    "def plot_filled(train_scores,test_scores,train_x_axis, xlabel=''):\n",
    "\n",
    "    test_mean = np.mean(test_scores, axis=1)\n",
    "    test_std = np.std(test_scores, axis=1)\n",
    "\n",
    "    plt.plot(train_x_axis, test_mean,\n",
    "             color='blue', marker='o',\n",
    "             markersize=5, label='testing cost')\n",
    "\n",
    "    plt.fill_between(train_x_axis,\n",
    "                     test_mean + test_std,\n",
    "                     test_mean - test_std,\n",
    "                     alpha=0.15, color='blue')\n",
    "\n",
    "    plt.grid()\n",
    "    plt.xlabel(xlabel)\n",
    "    plt.ylabel('Cost')\n",
    "    plt.legend(loc='upper right')"
   ]
  },
  {
   "cell_type": "markdown",
   "metadata": {},
   "source": [
    "### Logistic Regression"
   ]
  },
  {
   "cell_type": "markdown",
   "metadata": {
    "collapsed": false
   },
   "source": [
    "The first model we will use is a logistic regression model. Before creating the final model, we will tune the cost variable C using a validation curve generated with the cross validation strategy described above. For both the hyperparameter tuning and the final model creation, we will use a class weight dictionary to encode the costs of each class. These costs will be computed using the row sums of the cost matrix."
   ]
  },
  {
   "cell_type": "code",
   "execution_count": 31,
   "metadata": {
    "collapsed": false
   },
   "outputs": [],
   "source": [
    "#Building the class weight map\n",
    "PlayTypes = df.PlayType.value_counts().index.tolist()\n",
    "Costs = [sum(x) for x in cost_mat]\n",
    "\n",
    "ClassWeights = dict(zip(PlayTypes, Costs))"
   ]
  },
  {
   "cell_type": "code",
   "execution_count": 32,
   "metadata": {
    "collapsed": true
   },
   "outputs": [],
   "source": [
    "#Some includes\n",
    "from sklearn.model_selection import validation_curve\n",
    "from sklearn.preprocessing import StandardScaler\n",
    "from sklearn.pipeline import Pipeline\n",
    "from sklearn.linear_model import LogisticRegression"
   ]
  },
  {
   "cell_type": "code",
   "execution_count": 13,
   "metadata": {
    "collapsed": false
   },
   "outputs": [],
   "source": [
    "#Note: This takes a long time to run. Don't re-run it unless you have to!\n",
    "\n",
    "#create pipeline of scaling and logistic regression\n",
    "clf = Pipeline([('sca',StandardScaler()),\n",
    "                ('clf',LogisticRegression(class_weight=ClassWeights))])\n",
    "\n",
    "#Some possible values of \n",
    "param_range = [.0001, .001, .01, .1, 1, 10, 100, 1000, 10000]\n",
    "\n",
    "train_scores, test_scores = validation_curve(\n",
    "                estimator=clf, \n",
    "                X=X, \n",
    "                y=y, \n",
    "                param_name='clf__C', \n",
    "                param_range=param_range,\n",
    "                scoring=scorer,\n",
    "                cv=cv,\n",
    "                n_jobs=-1)"
   ]
  },
  {
   "cell_type": "markdown",
   "metadata": {},
   "source": [
    "In order to assess the optimal value of C, we plot the value of C vs the cost of the produced classifier:"
   ]
  },
  {
   "cell_type": "code",
   "execution_count": 14,
   "metadata": {
    "collapsed": false
   },
   "outputs": [
    {
     "data": {
      "image/png": "[encoded data removed]",
      "text/plain": [
       "<matplotlib.figure.Figure at 0x118443860>"
      ]
     },
     "metadata": {},
     "output_type": "display_data"
    }
   ],
   "source": [
    "plot_filled(train_scores, test_scores, param_range, xlabel='Parameter Sweep')\n",
    "plt.xscale('log')\n",
    "plt.show()"
   ]
  },
  {
   "cell_type": "markdown",
   "metadata": {},
   "source": [
    "Based on the above plot, we can see that the (approximate) optimal value of C is 1. While larger values of C don't percievably change the training cost, they do introduce a larger variance, and likely result in more overfitting. Therefore, C will be set to 1 for our final Logistic Regression model."
   ]
  },
  {
   "cell_type": "code",
   "execution_count": 8,
   "metadata": {
    "collapsed": false
   },
   "outputs": [],
   "source": [
    "#Note: This takes a long time to run. Don't re-run it unless you have to!\n",
    "\n",
    "#Re-define the pipeline, this time with the tuned value of C (C=1)\n",
    "clf = Pipeline([('sca',StandardScaler()),\n",
    "                ('clf',LogisticRegression(C=1, class_weight = ClassWeights))])\n",
    "\n",
    "per_fold_eval_criteria = cross_val_score(estimator=clf,\n",
    "                                    X=X,\n",
    "                                    y=y,\n",
    "                                    cv=cv,\n",
    "                                    scoring=scorer\n",
    "                                   )\n",
    "\n",
    "LRCosts = per_fold_eval_criteria"
   ]
  },
  {
   "cell_type": "code",
   "execution_count": 37,
   "metadata": {
    "collapsed": false
   },
   "outputs": [
    {
     "name": "stdout",
     "output_type": "stream",
     "text": [
      "Mean Cost:  1219.1\n"
     ]
    },
    {
     "data": {
      "image/png": "[encoded data removed]",
      "text/plain": [
       "<matplotlib.figure.Figure at 0x7fc98cf440f0>"
      ]
     },
     "metadata": {},
     "output_type": "display_data"
    }
   ],
   "source": [
    "#Plot the costs of the evaluations on each fold\n",
    "plt.bar(range(len(LRCosts)),LRCosts)\n",
    "plt.ylim([min(LRCosts)-20,max(LRCosts)+5])\n",
    "plt.xlabel(\"Fold\")\n",
    "plt.ylabel(\"Cost\")\n",
    "print(\"Mean Cost: \", np.mean(LRCosts))"
   ]
  },
  {
   "cell_type": "markdown",
   "metadata": {},
   "source": [
    "The above plot shows the costs of the models built and evaluated on each of the ten folds. Note that the y-axis is not zeroed at zero, so the relative heights of the models is not meaningful. The mean cost for the logistic regression models was 3368.4"
   ]
  },
  {
   "cell_type": "markdown",
   "metadata": {},
   "source": [
    "#### Computing Area under ROC Curve"
   ]
  },
  {
   "cell_type": "code",
   "execution_count": 53,
   "metadata": {
    "collapsed": false
   },
   "outputs": [
    {
     "ename": "ValueError",
     "evalue": "could not convert string to float: 'MIN'",
     "output_type": "error",
     "traceback": [
      "\u001b[0;31m---------------------------------------------------------------------------\u001b[0m",
      "\u001b[0;31mValueError\u001b[0m                                Traceback (most recent call last)",
      "\u001b[0;32m<ipython-input-53-20c261d9a02e>\u001b[0m in \u001b[0;36m<module>\u001b[0;34m()\u001b[0m\n\u001b[1;32m     10\u001b[0m                                     \u001b[0my\u001b[0m\u001b[0;34m=\u001b[0m\u001b[0my\u001b[0m\u001b[0;34m,\u001b[0m\u001b[0;34m\u001b[0m\u001b[0m\n\u001b[1;32m     11\u001b[0m                                     \u001b[0mcv\u001b[0m\u001b[0;34m=\u001b[0m\u001b[0mcv\u001b[0m\u001b[0;34m,\u001b[0m\u001b[0;34m\u001b[0m\u001b[0m\n\u001b[0;32m---> 12\u001b[0;31m                                     \u001b[0mscoring\u001b[0m\u001b[0;34m=\u001b[0m\u001b[0mmake_scorer\u001b[0m\u001b[0;34m(\u001b[0m\u001b[0mauc\u001b[0m\u001b[0;34m)\u001b[0m\u001b[0;34m\u001b[0m\u001b[0m\n\u001b[0m\u001b[1;32m     13\u001b[0m                                    )\n",
      "\u001b[0;32m//anaconda/lib/python3.5/site-packages/sklearn/model_selection/_validation.py\u001b[0m in \u001b[0;36mcross_val_score\u001b[0;34m(estimator, X, y, groups, scoring, cv, n_jobs, verbose, fit_params, pre_dispatch)\u001b[0m\n\u001b[1;32m    138\u001b[0m                                               \u001b[0mtrain\u001b[0m\u001b[0;34m,\u001b[0m \u001b[0mtest\u001b[0m\u001b[0;34m,\u001b[0m \u001b[0mverbose\u001b[0m\u001b[0;34m,\u001b[0m \u001b[0;32mNone\u001b[0m\u001b[0;34m,\u001b[0m\u001b[0;34m\u001b[0m\u001b[0m\n\u001b[1;32m    139\u001b[0m                                               fit_params)\n\u001b[0;32m--> 140\u001b[0;31m                       for train, test in cv.split(X, y, groups))\n\u001b[0m\u001b[1;32m    141\u001b[0m     \u001b[0;32mreturn\u001b[0m \u001b[0mnp\u001b[0m\u001b[0;34m.\u001b[0m\u001b[0marray\u001b[0m\u001b[0;34m(\u001b[0m\u001b[0mscores\u001b[0m\u001b[0;34m)\u001b[0m\u001b[0;34m[\u001b[0m\u001b[0;34m:\u001b[0m\u001b[0;34m,\u001b[0m \u001b[0;36m0\u001b[0m\u001b[0;34m]\u001b[0m\u001b[0;34m\u001b[0m\u001b[0m\n\u001b[1;32m    142\u001b[0m \u001b[0;34m\u001b[0m\u001b[0m\n",
      "\u001b[0;32m//anaconda/lib/python3.5/site-packages/sklearn/externals/joblib/parallel.py\u001b[0m in \u001b[0;36m__call__\u001b[0;34m(self, iterable)\u001b[0m\n\u001b[1;32m    756\u001b[0m             \u001b[0;31m# was dispatched. In particular this covers the edge\u001b[0m\u001b[0;34m\u001b[0m\u001b[0;34m\u001b[0m\u001b[0m\n\u001b[1;32m    757\u001b[0m             \u001b[0;31m# case of Parallel used with an exhausted iterator.\u001b[0m\u001b[0;34m\u001b[0m\u001b[0;34m\u001b[0m\u001b[0m\n\u001b[0;32m--> 758\u001b[0;31m             \u001b[0;32mwhile\u001b[0m \u001b[0mself\u001b[0m\u001b[0;34m.\u001b[0m\u001b[0mdispatch_one_batch\u001b[0m\u001b[0;34m(\u001b[0m\u001b[0miterator\u001b[0m\u001b[0;34m)\u001b[0m\u001b[0;34m:\u001b[0m\u001b[0;34m\u001b[0m\u001b[0m\n\u001b[0m\u001b[1;32m    759\u001b[0m                 \u001b[0mself\u001b[0m\u001b[0;34m.\u001b[0m\u001b[0m_iterating\u001b[0m \u001b[0;34m=\u001b[0m \u001b[0;32mTrue\u001b[0m\u001b[0;34m\u001b[0m\u001b[0m\n\u001b[1;32m    760\u001b[0m             \u001b[0;32melse\u001b[0m\u001b[0;34m:\u001b[0m\u001b[0;34m\u001b[0m\u001b[0m\n",
      "\u001b[0;32m//anaconda/lib/python3.5/site-packages/sklearn/externals/joblib/parallel.py\u001b[0m in \u001b[0;36mdispatch_one_batch\u001b[0;34m(self, iterator)\u001b[0m\n\u001b[1;32m    606\u001b[0m                 \u001b[0;32mreturn\u001b[0m \u001b[0;32mFalse\u001b[0m\u001b[0;34m\u001b[0m\u001b[0m\n\u001b[1;32m    607\u001b[0m             \u001b[0;32melse\u001b[0m\u001b[0;34m:\u001b[0m\u001b[0;34m\u001b[0m\u001b[0m\n\u001b[0;32m--> 608\u001b[0;31m                 \u001b[0mself\u001b[0m\u001b[0;34m.\u001b[0m\u001b[0m_dispatch\u001b[0m\u001b[0;34m(\u001b[0m\u001b[0mtasks\u001b[0m\u001b[0;34m)\u001b[0m\u001b[0;34m\u001b[0m\u001b[0m\n\u001b[0m\u001b[1;32m    609\u001b[0m                 \u001b[0;32mreturn\u001b[0m \u001b[0;32mTrue\u001b[0m\u001b[0;34m\u001b[0m\u001b[0m\n\u001b[1;32m    610\u001b[0m \u001b[0;34m\u001b[0m\u001b[0m\n",
      "\u001b[0;32m//anaconda/lib/python3.5/site-packages/sklearn/externals/joblib/parallel.py\u001b[0m in \u001b[0;36m_dispatch\u001b[0;34m(self, batch)\u001b[0m\n\u001b[1;32m    569\u001b[0m         \u001b[0mdispatch_timestamp\u001b[0m \u001b[0;34m=\u001b[0m \u001b[0mtime\u001b[0m\u001b[0;34m.\u001b[0m\u001b[0mtime\u001b[0m\u001b[0;34m(\u001b[0m\u001b[0;34m)\u001b[0m\u001b[0;34m\u001b[0m\u001b[0m\n\u001b[1;32m    570\u001b[0m         \u001b[0mcb\u001b[0m \u001b[0;34m=\u001b[0m \u001b[0mBatchCompletionCallBack\u001b[0m\u001b[0;34m(\u001b[0m\u001b[0mdispatch_timestamp\u001b[0m\u001b[0;34m,\u001b[0m \u001b[0mlen\u001b[0m\u001b[0;34m(\u001b[0m\u001b[0mbatch\u001b[0m\u001b[0;34m)\u001b[0m\u001b[0;34m,\u001b[0m \u001b[0mself\u001b[0m\u001b[0;34m)\u001b[0m\u001b[0;34m\u001b[0m\u001b[0m\n\u001b[0;32m--> 571\u001b[0;31m         \u001b[0mjob\u001b[0m \u001b[0;34m=\u001b[0m \u001b[0mself\u001b[0m\u001b[0;34m.\u001b[0m\u001b[0m_backend\u001b[0m\u001b[0;34m.\u001b[0m\u001b[0mapply_async\u001b[0m\u001b[0;34m(\u001b[0m\u001b[0mbatch\u001b[0m\u001b[0;34m,\u001b[0m \u001b[0mcallback\u001b[0m\u001b[0;34m=\u001b[0m\u001b[0mcb\u001b[0m\u001b[0;34m)\u001b[0m\u001b[0;34m\u001b[0m\u001b[0m\n\u001b[0m\u001b[1;32m    572\u001b[0m         \u001b[0mself\u001b[0m\u001b[0;34m.\u001b[0m\u001b[0m_jobs\u001b[0m\u001b[0;34m.\u001b[0m\u001b[0mappend\u001b[0m\u001b[0;34m(\u001b[0m\u001b[0mjob\u001b[0m\u001b[0;34m)\u001b[0m\u001b[0;34m\u001b[0m\u001b[0m\n\u001b[1;32m    573\u001b[0m \u001b[0;34m\u001b[0m\u001b[0m\n",
      "\u001b[0;32m//anaconda/lib/python3.5/site-packages/sklearn/externals/joblib/_parallel_backends.py\u001b[0m in \u001b[0;36mapply_async\u001b[0;34m(self, func, callback)\u001b[0m\n\u001b[1;32m    107\u001b[0m     \u001b[0;32mdef\u001b[0m \u001b[0mapply_async\u001b[0m\u001b[0;34m(\u001b[0m\u001b[0mself\u001b[0m\u001b[0;34m,\u001b[0m \u001b[0mfunc\u001b[0m\u001b[0;34m,\u001b[0m \u001b[0mcallback\u001b[0m\u001b[0;34m=\u001b[0m\u001b[0;32mNone\u001b[0m\u001b[0;34m)\u001b[0m\u001b[0;34m:\u001b[0m\u001b[0;34m\u001b[0m\u001b[0m\n\u001b[1;32m    108\u001b[0m         \u001b[0;34m\"\"\"Schedule a func to be run\"\"\"\u001b[0m\u001b[0;34m\u001b[0m\u001b[0m\n\u001b[0;32m--> 109\u001b[0;31m         \u001b[0mresult\u001b[0m \u001b[0;34m=\u001b[0m \u001b[0mImmediateResult\u001b[0m\u001b[0;34m(\u001b[0m\u001b[0mfunc\u001b[0m\u001b[0;34m)\u001b[0m\u001b[0;34m\u001b[0m\u001b[0m\n\u001b[0m\u001b[1;32m    110\u001b[0m         \u001b[0;32mif\u001b[0m \u001b[0mcallback\u001b[0m\u001b[0;34m:\u001b[0m\u001b[0;34m\u001b[0m\u001b[0m\n\u001b[1;32m    111\u001b[0m             \u001b[0mcallback\u001b[0m\u001b[0;34m(\u001b[0m\u001b[0mresult\u001b[0m\u001b[0;34m)\u001b[0m\u001b[0;34m\u001b[0m\u001b[0m\n",
      "\u001b[0;32m//anaconda/lib/python3.5/site-packages/sklearn/externals/joblib/_parallel_backends.py\u001b[0m in \u001b[0;36m__init__\u001b[0;34m(self, batch)\u001b[0m\n\u001b[1;32m    320\u001b[0m         \u001b[0;31m# Don't delay the application, to avoid keeping the input\u001b[0m\u001b[0;34m\u001b[0m\u001b[0;34m\u001b[0m\u001b[0m\n\u001b[1;32m    321\u001b[0m         \u001b[0;31m# arguments in memory\u001b[0m\u001b[0;34m\u001b[0m\u001b[0;34m\u001b[0m\u001b[0m\n\u001b[0;32m--> 322\u001b[0;31m         \u001b[0mself\u001b[0m\u001b[0;34m.\u001b[0m\u001b[0mresults\u001b[0m \u001b[0;34m=\u001b[0m \u001b[0mbatch\u001b[0m\u001b[0;34m(\u001b[0m\u001b[0;34m)\u001b[0m\u001b[0;34m\u001b[0m\u001b[0m\n\u001b[0m\u001b[1;32m    323\u001b[0m \u001b[0;34m\u001b[0m\u001b[0m\n\u001b[1;32m    324\u001b[0m     \u001b[0;32mdef\u001b[0m \u001b[0mget\u001b[0m\u001b[0;34m(\u001b[0m\u001b[0mself\u001b[0m\u001b[0;34m)\u001b[0m\u001b[0;34m:\u001b[0m\u001b[0;34m\u001b[0m\u001b[0m\n",
      "\u001b[0;32m//anaconda/lib/python3.5/site-packages/sklearn/externals/joblib/parallel.py\u001b[0m in \u001b[0;36m__call__\u001b[0;34m(self)\u001b[0m\n\u001b[1;32m    129\u001b[0m \u001b[0;34m\u001b[0m\u001b[0m\n\u001b[1;32m    130\u001b[0m     \u001b[0;32mdef\u001b[0m \u001b[0m__call__\u001b[0m\u001b[0;34m(\u001b[0m\u001b[0mself\u001b[0m\u001b[0;34m)\u001b[0m\u001b[0;34m:\u001b[0m\u001b[0;34m\u001b[0m\u001b[0m\n\u001b[0;32m--> 131\u001b[0;31m         \u001b[0;32mreturn\u001b[0m \u001b[0;34m[\u001b[0m\u001b[0mfunc\u001b[0m\u001b[0;34m(\u001b[0m\u001b[0;34m*\u001b[0m\u001b[0margs\u001b[0m\u001b[0;34m,\u001b[0m \u001b[0;34m**\u001b[0m\u001b[0mkwargs\u001b[0m\u001b[0;34m)\u001b[0m \u001b[0;32mfor\u001b[0m \u001b[0mfunc\u001b[0m\u001b[0;34m,\u001b[0m \u001b[0margs\u001b[0m\u001b[0;34m,\u001b[0m \u001b[0mkwargs\u001b[0m \u001b[0;32min\u001b[0m \u001b[0mself\u001b[0m\u001b[0;34m.\u001b[0m\u001b[0mitems\u001b[0m\u001b[0;34m]\u001b[0m\u001b[0;34m\u001b[0m\u001b[0m\n\u001b[0m\u001b[1;32m    132\u001b[0m \u001b[0;34m\u001b[0m\u001b[0m\n\u001b[1;32m    133\u001b[0m     \u001b[0;32mdef\u001b[0m \u001b[0m__len__\u001b[0m\u001b[0;34m(\u001b[0m\u001b[0mself\u001b[0m\u001b[0;34m)\u001b[0m\u001b[0;34m:\u001b[0m\u001b[0;34m\u001b[0m\u001b[0m\n",
      "\u001b[0;32m//anaconda/lib/python3.5/site-packages/sklearn/externals/joblib/parallel.py\u001b[0m in \u001b[0;36m<listcomp>\u001b[0;34m(.0)\u001b[0m\n\u001b[1;32m    129\u001b[0m \u001b[0;34m\u001b[0m\u001b[0m\n\u001b[1;32m    130\u001b[0m     \u001b[0;32mdef\u001b[0m \u001b[0m__call__\u001b[0m\u001b[0;34m(\u001b[0m\u001b[0mself\u001b[0m\u001b[0;34m)\u001b[0m\u001b[0;34m:\u001b[0m\u001b[0;34m\u001b[0m\u001b[0m\n\u001b[0;32m--> 131\u001b[0;31m         \u001b[0;32mreturn\u001b[0m \u001b[0;34m[\u001b[0m\u001b[0mfunc\u001b[0m\u001b[0;34m(\u001b[0m\u001b[0;34m*\u001b[0m\u001b[0margs\u001b[0m\u001b[0;34m,\u001b[0m \u001b[0;34m**\u001b[0m\u001b[0mkwargs\u001b[0m\u001b[0;34m)\u001b[0m \u001b[0;32mfor\u001b[0m \u001b[0mfunc\u001b[0m\u001b[0;34m,\u001b[0m \u001b[0margs\u001b[0m\u001b[0;34m,\u001b[0m \u001b[0mkwargs\u001b[0m \u001b[0;32min\u001b[0m \u001b[0mself\u001b[0m\u001b[0;34m.\u001b[0m\u001b[0mitems\u001b[0m\u001b[0;34m]\u001b[0m\u001b[0;34m\u001b[0m\u001b[0m\n\u001b[0m\u001b[1;32m    132\u001b[0m \u001b[0;34m\u001b[0m\u001b[0m\n\u001b[1;32m    133\u001b[0m     \u001b[0;32mdef\u001b[0m \u001b[0m__len__\u001b[0m\u001b[0;34m(\u001b[0m\u001b[0mself\u001b[0m\u001b[0;34m)\u001b[0m\u001b[0;34m:\u001b[0m\u001b[0;34m\u001b[0m\u001b[0m\n",
      "\u001b[0;32m//anaconda/lib/python3.5/site-packages/sklearn/model_selection/_validation.py\u001b[0m in \u001b[0;36m_fit_and_score\u001b[0;34m(estimator, X, y, scorer, train, test, verbose, parameters, fit_params, return_train_score, return_parameters, return_n_test_samples, return_times, error_score)\u001b[0m\n\u001b[1;32m    236\u001b[0m             \u001b[0mestimator\u001b[0m\u001b[0;34m.\u001b[0m\u001b[0mfit\u001b[0m\u001b[0;34m(\u001b[0m\u001b[0mX_train\u001b[0m\u001b[0;34m,\u001b[0m \u001b[0;34m**\u001b[0m\u001b[0mfit_params\u001b[0m\u001b[0;34m)\u001b[0m\u001b[0;34m\u001b[0m\u001b[0m\n\u001b[1;32m    237\u001b[0m         \u001b[0;32melse\u001b[0m\u001b[0;34m:\u001b[0m\u001b[0;34m\u001b[0m\u001b[0m\n\u001b[0;32m--> 238\u001b[0;31m             \u001b[0mestimator\u001b[0m\u001b[0;34m.\u001b[0m\u001b[0mfit\u001b[0m\u001b[0;34m(\u001b[0m\u001b[0mX_train\u001b[0m\u001b[0;34m,\u001b[0m \u001b[0my_train\u001b[0m\u001b[0;34m,\u001b[0m \u001b[0;34m**\u001b[0m\u001b[0mfit_params\u001b[0m\u001b[0;34m)\u001b[0m\u001b[0;34m\u001b[0m\u001b[0m\n\u001b[0m\u001b[1;32m    239\u001b[0m \u001b[0;34m\u001b[0m\u001b[0m\n\u001b[1;32m    240\u001b[0m     \u001b[0;32mexcept\u001b[0m \u001b[0mException\u001b[0m \u001b[0;32mas\u001b[0m \u001b[0me\u001b[0m\u001b[0;34m:\u001b[0m\u001b[0;34m\u001b[0m\u001b[0m\n",
      "\u001b[0;32m//anaconda/lib/python3.5/site-packages/sklearn/pipeline.py\u001b[0m in \u001b[0;36mfit\u001b[0;34m(self, X, y, **fit_params)\u001b[0m\n\u001b[1;32m    266\u001b[0m             \u001b[0mThis\u001b[0m \u001b[0mestimator\u001b[0m\u001b[0;34m\u001b[0m\u001b[0m\n\u001b[1;32m    267\u001b[0m         \"\"\"\n\u001b[0;32m--> 268\u001b[0;31m         \u001b[0mXt\u001b[0m\u001b[0;34m,\u001b[0m \u001b[0mfit_params\u001b[0m \u001b[0;34m=\u001b[0m \u001b[0mself\u001b[0m\u001b[0;34m.\u001b[0m\u001b[0m_fit\u001b[0m\u001b[0;34m(\u001b[0m\u001b[0mX\u001b[0m\u001b[0;34m,\u001b[0m \u001b[0my\u001b[0m\u001b[0;34m,\u001b[0m \u001b[0;34m**\u001b[0m\u001b[0mfit_params\u001b[0m\u001b[0;34m)\u001b[0m\u001b[0;34m\u001b[0m\u001b[0m\n\u001b[0m\u001b[1;32m    269\u001b[0m         \u001b[0;32mif\u001b[0m \u001b[0mself\u001b[0m\u001b[0;34m.\u001b[0m\u001b[0m_final_estimator\u001b[0m \u001b[0;32mis\u001b[0m \u001b[0;32mnot\u001b[0m \u001b[0;32mNone\u001b[0m\u001b[0;34m:\u001b[0m\u001b[0;34m\u001b[0m\u001b[0m\n\u001b[1;32m    270\u001b[0m             \u001b[0mself\u001b[0m\u001b[0;34m.\u001b[0m\u001b[0m_final_estimator\u001b[0m\u001b[0;34m.\u001b[0m\u001b[0mfit\u001b[0m\u001b[0;34m(\u001b[0m\u001b[0mXt\u001b[0m\u001b[0;34m,\u001b[0m \u001b[0my\u001b[0m\u001b[0;34m,\u001b[0m \u001b[0;34m**\u001b[0m\u001b[0mfit_params\u001b[0m\u001b[0;34m)\u001b[0m\u001b[0;34m\u001b[0m\u001b[0m\n",
      "\u001b[0;32m//anaconda/lib/python3.5/site-packages/sklearn/pipeline.py\u001b[0m in \u001b[0;36m_fit\u001b[0;34m(self, X, y, **fit_params)\u001b[0m\n\u001b[1;32m    232\u001b[0m                 \u001b[0;32mpass\u001b[0m\u001b[0;34m\u001b[0m\u001b[0m\n\u001b[1;32m    233\u001b[0m             \u001b[0;32melif\u001b[0m \u001b[0mhasattr\u001b[0m\u001b[0;34m(\u001b[0m\u001b[0mtransform\u001b[0m\u001b[0;34m,\u001b[0m \u001b[0;34m\"fit_transform\"\u001b[0m\u001b[0;34m)\u001b[0m\u001b[0;34m:\u001b[0m\u001b[0;34m\u001b[0m\u001b[0m\n\u001b[0;32m--> 234\u001b[0;31m                 \u001b[0mXt\u001b[0m \u001b[0;34m=\u001b[0m \u001b[0mtransform\u001b[0m\u001b[0;34m.\u001b[0m\u001b[0mfit_transform\u001b[0m\u001b[0;34m(\u001b[0m\u001b[0mXt\u001b[0m\u001b[0;34m,\u001b[0m \u001b[0my\u001b[0m\u001b[0;34m,\u001b[0m \u001b[0;34m**\u001b[0m\u001b[0mfit_params_steps\u001b[0m\u001b[0;34m[\u001b[0m\u001b[0mname\u001b[0m\u001b[0;34m]\u001b[0m\u001b[0;34m)\u001b[0m\u001b[0;34m\u001b[0m\u001b[0m\n\u001b[0m\u001b[1;32m    235\u001b[0m             \u001b[0;32melse\u001b[0m\u001b[0;34m:\u001b[0m\u001b[0;34m\u001b[0m\u001b[0m\n\u001b[1;32m    236\u001b[0m                 \u001b[0mXt\u001b[0m \u001b[0;34m=\u001b[0m \u001b[0mtransform\u001b[0m\u001b[0;34m.\u001b[0m\u001b[0mfit\u001b[0m\u001b[0;34m(\u001b[0m\u001b[0mXt\u001b[0m\u001b[0;34m,\u001b[0m \u001b[0my\u001b[0m\u001b[0;34m,\u001b[0m \u001b[0;34m**\u001b[0m\u001b[0mfit_params_steps\u001b[0m\u001b[0;34m[\u001b[0m\u001b[0mname\u001b[0m\u001b[0;34m]\u001b[0m\u001b[0;34m)\u001b[0m\u001b[0;31m \u001b[0m\u001b[0;31m\\\u001b[0m\u001b[0;34m\u001b[0m\u001b[0m\n",
      "\u001b[0;32m//anaconda/lib/python3.5/site-packages/sklearn/base.py\u001b[0m in \u001b[0;36mfit_transform\u001b[0;34m(self, X, y, **fit_params)\u001b[0m\n\u001b[1;32m    495\u001b[0m         \u001b[0;32melse\u001b[0m\u001b[0;34m:\u001b[0m\u001b[0;34m\u001b[0m\u001b[0m\n\u001b[1;32m    496\u001b[0m             \u001b[0;31m# fit method of arity 2 (supervised transformation)\u001b[0m\u001b[0;34m\u001b[0m\u001b[0;34m\u001b[0m\u001b[0m\n\u001b[0;32m--> 497\u001b[0;31m             \u001b[0;32mreturn\u001b[0m \u001b[0mself\u001b[0m\u001b[0;34m.\u001b[0m\u001b[0mfit\u001b[0m\u001b[0;34m(\u001b[0m\u001b[0mX\u001b[0m\u001b[0;34m,\u001b[0m \u001b[0my\u001b[0m\u001b[0;34m,\u001b[0m \u001b[0;34m**\u001b[0m\u001b[0mfit_params\u001b[0m\u001b[0;34m)\u001b[0m\u001b[0;34m.\u001b[0m\u001b[0mtransform\u001b[0m\u001b[0;34m(\u001b[0m\u001b[0mX\u001b[0m\u001b[0;34m)\u001b[0m\u001b[0;34m\u001b[0m\u001b[0m\n\u001b[0m\u001b[1;32m    498\u001b[0m \u001b[0;34m\u001b[0m\u001b[0m\n\u001b[1;32m    499\u001b[0m \u001b[0;34m\u001b[0m\u001b[0m\n",
      "\u001b[0;32m//anaconda/lib/python3.5/site-packages/sklearn/preprocessing/data.py\u001b[0m in \u001b[0;36mfit\u001b[0;34m(self, X, y)\u001b[0m\n\u001b[1;32m    558\u001b[0m         \u001b[0;31m# Reset internal state before fitting\u001b[0m\u001b[0;34m\u001b[0m\u001b[0;34m\u001b[0m\u001b[0m\n\u001b[1;32m    559\u001b[0m         \u001b[0mself\u001b[0m\u001b[0;34m.\u001b[0m\u001b[0m_reset\u001b[0m\u001b[0;34m(\u001b[0m\u001b[0;34m)\u001b[0m\u001b[0;34m\u001b[0m\u001b[0m\n\u001b[0;32m--> 560\u001b[0;31m         \u001b[0;32mreturn\u001b[0m \u001b[0mself\u001b[0m\u001b[0;34m.\u001b[0m\u001b[0mpartial_fit\u001b[0m\u001b[0;34m(\u001b[0m\u001b[0mX\u001b[0m\u001b[0;34m,\u001b[0m \u001b[0my\u001b[0m\u001b[0;34m)\u001b[0m\u001b[0;34m\u001b[0m\u001b[0m\n\u001b[0m\u001b[1;32m    561\u001b[0m \u001b[0;34m\u001b[0m\u001b[0m\n\u001b[1;32m    562\u001b[0m     \u001b[0;32mdef\u001b[0m \u001b[0mpartial_fit\u001b[0m\u001b[0;34m(\u001b[0m\u001b[0mself\u001b[0m\u001b[0;34m,\u001b[0m \u001b[0mX\u001b[0m\u001b[0;34m,\u001b[0m \u001b[0my\u001b[0m\u001b[0;34m=\u001b[0m\u001b[0;32mNone\u001b[0m\u001b[0;34m)\u001b[0m\u001b[0;34m:\u001b[0m\u001b[0;34m\u001b[0m\u001b[0m\n",
      "\u001b[0;32m//anaconda/lib/python3.5/site-packages/sklearn/preprocessing/data.py\u001b[0m in \u001b[0;36mpartial_fit\u001b[0;34m(self, X, y)\u001b[0m\n\u001b[1;32m    581\u001b[0m         X = check_array(X, accept_sparse=('csr', 'csc'), copy=self.copy,\n\u001b[1;32m    582\u001b[0m                         \u001b[0mensure_2d\u001b[0m\u001b[0;34m=\u001b[0m\u001b[0;32mFalse\u001b[0m\u001b[0;34m,\u001b[0m \u001b[0mwarn_on_dtype\u001b[0m\u001b[0;34m=\u001b[0m\u001b[0;32mTrue\u001b[0m\u001b[0;34m,\u001b[0m\u001b[0;34m\u001b[0m\u001b[0m\n\u001b[0;32m--> 583\u001b[0;31m                         estimator=self, dtype=FLOAT_DTYPES)\n\u001b[0m\u001b[1;32m    584\u001b[0m \u001b[0;34m\u001b[0m\u001b[0m\n\u001b[1;32m    585\u001b[0m         \u001b[0;32mif\u001b[0m \u001b[0mX\u001b[0m\u001b[0;34m.\u001b[0m\u001b[0mndim\u001b[0m \u001b[0;34m==\u001b[0m \u001b[0;36m1\u001b[0m\u001b[0;34m:\u001b[0m\u001b[0;34m\u001b[0m\u001b[0m\n",
      "\u001b[0;32m//anaconda/lib/python3.5/site-packages/sklearn/utils/validation.py\u001b[0m in \u001b[0;36mcheck_array\u001b[0;34m(array, accept_sparse, dtype, order, copy, force_all_finite, ensure_2d, allow_nd, ensure_min_samples, ensure_min_features, warn_on_dtype, estimator)\u001b[0m\n\u001b[1;32m    380\u001b[0m                                       force_all_finite)\n\u001b[1;32m    381\u001b[0m     \u001b[0;32melse\u001b[0m\u001b[0;34m:\u001b[0m\u001b[0;34m\u001b[0m\u001b[0m\n\u001b[0;32m--> 382\u001b[0;31m         \u001b[0marray\u001b[0m \u001b[0;34m=\u001b[0m \u001b[0mnp\u001b[0m\u001b[0;34m.\u001b[0m\u001b[0marray\u001b[0m\u001b[0;34m(\u001b[0m\u001b[0marray\u001b[0m\u001b[0;34m,\u001b[0m \u001b[0mdtype\u001b[0m\u001b[0;34m=\u001b[0m\u001b[0mdtype\u001b[0m\u001b[0;34m,\u001b[0m \u001b[0morder\u001b[0m\u001b[0;34m=\u001b[0m\u001b[0morder\u001b[0m\u001b[0;34m,\u001b[0m \u001b[0mcopy\u001b[0m\u001b[0;34m=\u001b[0m\u001b[0mcopy\u001b[0m\u001b[0;34m)\u001b[0m\u001b[0;34m\u001b[0m\u001b[0m\n\u001b[0m\u001b[1;32m    383\u001b[0m \u001b[0;34m\u001b[0m\u001b[0m\n\u001b[1;32m    384\u001b[0m         \u001b[0;32mif\u001b[0m \u001b[0mensure_2d\u001b[0m\u001b[0;34m:\u001b[0m\u001b[0;34m\u001b[0m\u001b[0m\n",
      "\u001b[0;31mValueError\u001b[0m: could not convert string to float: 'MIN'"
     ]
    }
   ],
   "source": [
    "#Note: This takes a long time to run. Don't re-run it unless you have to!\n",
    "from sklearn.metrics import roc_auc_score, auc\n",
    "\n",
    "#Re-define the pipeline, this time with the tuned value of C (C=1)\n",
    "clf = Pipeline([('sca',StandardScaler()),\n",
    "                ('clf',LogisticRegression(C=1, class_weight = ClassWeights))])\n",
    "\n",
    "per_fold_eval_criteria = cross_val_score(estimator=clf,\n",
    "                                    X=X,\n",
    "                                    y=y,\n",
    "                                    cv=cv,\n",
    "                                    scoring=make_scorer(auc)\n",
    "                                   )"
   ]
  },
  {
   "cell_type": "markdown",
   "metadata": {},
   "source": [
    "### Support Vector Machine\n",
    "\n",
    "Our next model will use a support vector machine with the RBF kernel. We will tune the hyper-parameters C and gamma for the SVM using the same method used for tuning the logistic regression model. The same cost metric and cross-validation strategy will be used for the SVM as was used for logistic regression."
   ]
  },
  {
   "cell_type": "code",
   "execution_count": 56,
   "metadata": {
    "collapsed": true
   },
   "outputs": [],
   "source": [
    "from sklearn.svm import SVC"
   ]
  },
  {
   "cell_type": "code",
   "execution_count": 16,
   "metadata": {
    "collapsed": false
   },
   "outputs": [],
   "source": [
    "#Note: This takes a VERY long time to run. Don't re-run it unless you have to!\n",
    "\n",
    "#create pipeline of scaling and logistic regression\n",
    "clf = Pipeline([('sca',StandardScaler()),\n",
    "                ('clf',SVC(class_weight=ClassWeights, kernel='rbf'))])\n",
    "\n",
    "#Some possible values of C. Fewer values are used because this takes forever to run.\n",
    "param_range = [.01, .1, 1, 10]\n",
    "\n",
    "train_scores, test_scores = validation_curve(\n",
    "                estimator=clf, \n",
    "                X=X, \n",
    "                y=y, \n",
    "                param_name='clf__C', \n",
    "                param_range=param_range,\n",
    "                scoring=scorer,\n",
    "                cv=cv,\n",
    "                n_jobs=-1)"
   ]
  },
  {
   "cell_type": "markdown",
   "metadata": {},
   "source": [
    "Once again, we plot the value of C vs the cost of the produced classifier to identify the optimal value of C"
   ]
  },
  {
   "cell_type": "code",
   "execution_count": 17,
   "metadata": {
    "collapsed": false
   },
   "outputs": [
    {
     "data": {
      "image/png": "[encoded data removed]",
      "text/plain": [
       "<matplotlib.figure.Figure at 0x118696a20>"
      ]
     },
     "metadata": {},
     "output_type": "display_data"
    }
   ],
   "source": [
    "plot_filled(train_scores, test_scores, param_range, xlabel='Parameter Sweep')\n",
    "plt.xscale('log')\n",
    "plt.show()"
   ]
  },
  {
   "cell_type": "markdown",
   "metadata": {},
   "source": [
    "Once again, we identify that the optimal value of C for the SVM Classifier is 1. At C=1, we have the lowest cost, but we have a high variance in cost. However, the upper-bound of the cost at C=1 is still lower than the upper bound for all other values of C. Therefore, our final SVM classifier will be built using a C of 1. Next, the gamma variable will be tuned, using the same process that was used for tuning C. Note that tuning the parameters in order like this may not result in an optimal solution. However, it is the only way to tune the hyperparameters in a feasible amount of time."
   ]
  },
  {
   "cell_type": "code",
   "execution_count": 18,
   "metadata": {
    "collapsed": true
   },
   "outputs": [],
   "source": [
    "#Note: This takes a VERY long time to run. Don't re-run it unless you have to!\n",
    "\n",
    "#create pipeline of scaling and logistic regression\n",
    "clf = Pipeline([('sca',StandardScaler()),\n",
    "                ('clf',SVC(class_weight=ClassWeights, kernel='rbf', C=1))])\n",
    "\n",
    "#Some possible values of gamma. 1/76 is default (1/num_attributes)\n",
    "param_range = [1/10000, 1/1000 , 1/76, 1/10, 1]\n",
    "\n",
    "train_scores, test_scores = validation_curve(\n",
    "                estimator=clf, \n",
    "                X=X, \n",
    "                y=y, \n",
    "                param_name='clf__gamma', \n",
    "                param_range=param_range,\n",
    "                scoring=scorer,\n",
    "                cv=cv,\n",
    "                n_jobs=-1)"
   ]
  },
  {
   "cell_type": "code",
   "execution_count": 20,
   "metadata": {
    "collapsed": false
   },
   "outputs": [
    {
     "data": {
      "image/png": "[encoded data removed]",
      "text/plain": [
       "<matplotlib.figure.Figure at 0x11744c278>"
      ]
     },
     "metadata": {},
     "output_type": "display_data"
    }
   ],
   "source": [
    "plot_filled(train_scores, test_scores, param_range, xlabel='Parameter Sweep')\n",
    "plt.xscale('log')\n",
    "plt.show()"
   ]
  },
  {
   "cell_type": "markdown",
   "metadata": {},
   "source": [
    "The above plot shows that the optimal value of gamma, in this case, is 1/1000. Note that only 5 values of gamma were evaluated, due to the significant time required to test each possible value of gamma."
   ]
  },
  {
   "cell_type": "code",
   "execution_count": 13,
   "metadata": {
    "collapsed": false
   },
   "outputs": [],
   "source": [
    "#Note: This takes a long time to run. Don't re-run it unless you have to!\n",
    "\n",
    "#Re-define the pipeline, this time with the tuned value of C (C=1) and gamma (gamma=0.1)\n",
    "clf = Pipeline([('sca',StandardScaler()),\n",
    "                ('clf',SVC(C=1, class_weight = ClassWeights, gamma=0.001))])\n",
    "\n",
    "per_fold_eval_criteria = cross_val_score(estimator=clf,\n",
    "                                    X=X,\n",
    "                                    y=y,\n",
    "                                    cv=cv,\n",
    "                                    scoring=scorer,\n",
    "                                    n_jobs=-1\n",
    "                                    )\n",
    "\n",
    "SVMCosts = per_fold_eval_criteria"
   ]
  },
  {
   "cell_type": "code",
   "execution_count": 36,
   "metadata": {
    "collapsed": false
   },
   "outputs": [
    {
     "name": "stdout",
     "output_type": "stream",
     "text": [
      "Mean Cost:  1205.76\n"
     ]
    },
    {
     "data": {
      "image/png": "[encoded data removed]",
      "text/plain": [
       "<matplotlib.figure.Figure at 0x7fc98cfeec18>"
      ]
     },
     "metadata": {},
     "output_type": "display_data"
    }
   ],
   "source": [
    "#Plot the costs of the evaluations on each fold\n",
    "plt.bar(range(len(SVMCosts)),SVMCosts)\n",
    "plt.ylim([min(SVMCosts)-200,max(SVMCosts)+5])\n",
    "plt.xlabel(\"Fold\")\n",
    "plt.ylabel(\"Cost\")\n",
    "print(\"Mean Cost: \", np.mean(SVMCosts))"
   ]
  },
  {
   "cell_type": "markdown",
   "metadata": {},
   "source": [
    "The above plot shows the costs of each of the 10 folds of testing data when run against a model trained with the remaining 9 folds. The costs of this model are saved for comparison against the other algorithms in later analysis. The mean cost of this model is slightly lower than the mean cost of the logistic regression model; however, this may not be statistically meaningful. That will be explored in later sections. Both models have had the most cost associated with classifying the 10th and final fold. If this continues for the remaining models, its meaning may warrant some investigation."
   ]
  },
  {
   "cell_type": "markdown",
   "metadata": {},
   "source": [
    "### Multi-Layer Perceptron"
   ]
  },
  {
   "cell_type": "code",
   "execution_count": 57,
   "metadata": {
    "collapsed": true
   },
   "outputs": [],
   "source": [
    "from sklearn.neural_network import MLPClassifier"
   ]
  },
  {
   "cell_type": "code",
   "execution_count": 29,
   "metadata": {
    "collapsed": false
   },
   "outputs": [],
   "source": [
    "#Note: This takes a VERY long time to run. Don't re-run it unless you have to!\n",
    "\n",
    "#create pipeline of scaling and neural network\n",
    "clf_neural = Pipeline([('sca',StandardScaler()),\n",
    "                ('clf',MLPClassifier(max_iter=1000))])\n",
    "\n",
    "#testing different numbers of hidden layers. 100 is default\n",
    "param_range = [1, 5,10, 50,100]\n",
    "\n",
    "train_scores, test_scores = validation_curve(\n",
    "                estimator=clf_neural, \n",
    "                X=X, \n",
    "                y=y, \n",
    "                param_name='clf__hidden_layer_sizes', \n",
    "                param_range=param_range,\n",
    "                scoring=scorer,\n",
    "                cv=cv,\n",
    "                n_jobs=-1)"
   ]
  },
  {
   "cell_type": "code",
   "execution_count": 30,
   "metadata": {
    "collapsed": false
   },
   "outputs": [
    {
     "data": {
      "image/png": "[encoded data removed]",
      "text/plain": [
       "<matplotlib.figure.Figure at 0x7f8d93be88d0>"
      ]
     },
     "metadata": {},
     "output_type": "display_data"
    }
   ],
   "source": [
    "plot_filled(train_scores, test_scores, param_range, xlabel='Parameter Sweep')\n",
    "plt.xscale('log')\n",
    "plt.show()"
   ]
  },
  {
   "cell_type": "markdown",
   "metadata": {},
   "source": [
    "From this graph we can see that the optimal number of hidden layers to use is 10. With our cost function, 10 hidden layers gives us the lowest cost with the least amount of variance."
   ]
  },
  {
   "cell_type": "code",
   "execution_count": 17,
   "metadata": {
    "collapsed": false
   },
   "outputs": [],
   "source": [
    "#Note: This takes a long time to run. Don't re-run it unless you have to!\n",
    "\n",
    "clf = Pipeline([('sca',StandardScaler()),\n",
    "                ('clf',MLPClassifier(max_iter=1000, hidden_layer_sizes=10))])\n",
    "\n",
    "per_fold_eval_criteria = cross_val_score(estimator=clf,\n",
    "                                    X=X,\n",
    "                                    y=y,\n",
    "                                    cv=cv,\n",
    "                                    scoring=scorer,\n",
    "                                    n_jobs=-1\n",
    "                                   )\n",
    "MLPCosts = per_fold_eval_criteria"
   ]
  },
  {
   "cell_type": "code",
   "execution_count": 35,
   "metadata": {
    "collapsed": false,
    "scrolled": true
   },
   "outputs": [
    {
     "name": "stdout",
     "output_type": "stream",
     "text": [
      "Mean Cost:  1150.765\n"
     ]
    },
    {
     "data": {
      "image/png": "[encoded data removed]",
      "text/plain": [
       "<matplotlib.figure.Figure at 0x7fc98cefaac8>"
      ]
     },
     "metadata": {},
     "output_type": "display_data"
    }
   ],
   "source": [
    "#Plot the costs of the evaluations on each fold\n",
    "plt.bar(range(len(MLPCosts)),MLPCosts)\n",
    "plt.ylim([min(MLPCosts)-200,max(MLPCosts)+5])\n",
    "plt.xlabel(\"Fold\")\n",
    "plt.ylabel(\"Cost\")\n",
    "print(\"Mean Cost: \", np.mean(MLPCosts))"
   ]
  },
  {
   "cell_type": "markdown",
   "metadata": {},
   "source": [
    "The above plot shows the costs of each of the 10 folds of testing data when run against a model trained with the remaining 9 folds. The costs of this model are saved for comparison against the other algorithms in later analysis. The mean cost of this algorithm was below both SVM and Logistic Regression's mean costs by 50. "
   ]
  },
  {
   "cell_type": "markdown",
   "metadata": {},
   "source": [
    "### Random Forest Classifier"
   ]
  },
  {
   "cell_type": "code",
   "execution_count": 58,
   "metadata": {
    "collapsed": true
   },
   "outputs": [],
   "source": [
    "from sklearn.ensemble import RandomForestClassifier\n",
    "from sklearn.calibration import CalibratedClassifierCV\n",
    "from sklearn.metrics import log_loss"
   ]
  },
  {
   "cell_type": "code",
   "execution_count": null,
   "metadata": {
    "collapsed": false
   },
   "outputs": [],
   "source": [
    "#RANDOM FOREST CLASSIFIER\n",
    "\n",
    "#create pipeline of scaling and logistic regression\n",
    "clf = Pipeline([('sca',StandardScaler()),\n",
    "                ('clf',RandomForestClassifier(class_weight=ClassWeights))])\n",
    "\n",
    "#Some possible values of \n",
    "param_range = [10,25,50,100,250,500,1000]\n",
    "\n",
    "train_scores, test_scores = validation_curve(\n",
    "                    estimator=clf, \n",
    "                    X=X, \n",
    "                    y=y, \n",
    "                    param_name='clf__n_estimators', \n",
    "                    param_range=param_range,\n",
    "                    scoring=scorer,\n",
    "                    cv=cv,\n",
    "                    n_jobs=-1)"
   ]
  },
  {
   "cell_type": "code",
   "execution_count": null,
   "metadata": {
    "collapsed": false
   },
   "outputs": [],
   "source": [
    "plot_filled(train_scores, test_scores, param_range, xlabel='Parameter Sweep')\n",
    "plt.xscale('log')\n",
    "plt.show()"
   ]
  },
  {
   "cell_type": "markdown",
   "metadata": {},
   "source": [
    "Based on the above parameter sweep plot, we can see that an ideal value of n_estimators is 250. Beyond 250, there appears to be very minimal decrease in cost, and an increase in cost variance. Therefore, 250 is identified as a good choice. Note that larger values of n_estimators also lead to greatly increased running times, so 250 is a good tradeoff between efficiency and cost minimization."
   ]
  },
  {
   "cell_type": "code",
   "execution_count": 9,
   "metadata": {
    "collapsed": true
   },
   "outputs": [],
   "source": [
    "clf = Pipeline([('sca',StandardScaler()),\n",
    "                ('clf',RandomForestClassifier(class_weight=ClassWeights, n_estimators=250))])\n",
    "\n",
    "per_fold_eval_criteria = cross_val_score(estimator=clf,\n",
    "                                    X=X,\n",
    "                                    y=y,\n",
    "                                    cv=cv,\n",
    "                                    scoring=scorer,\n",
    "                                    n_jobs=-1\n",
    "                                   )\n",
    "\n",
    "RFCosts = per_fold_eval_criteria"
   ]
  },
  {
   "cell_type": "code",
   "execution_count": 34,
   "metadata": {
    "collapsed": false
   },
   "outputs": [
    {
     "name": "stdout",
     "output_type": "stream",
     "text": [
      "Mean Cost:  1017.465\n"
     ]
    },
    {
     "data": {
      "image/png": "[encoded data removed]",
      "text/plain": [
       "<matplotlib.figure.Figure at 0x7fc98cab6c18>"
      ]
     },
     "metadata": {},
     "output_type": "display_data"
    }
   ],
   "source": [
    "#Plot the costs of the evaluations on each fold\n",
    "plt.bar(range(len(RFCosts)),RFCosts)\n",
    "plt.ylim([min(RFCosts)-200,max(RFCosts)+200])\n",
    "plt.xlabel(\"Fold\")\n",
    "plt.ylabel(\"Cost\")\n",
    "print(\"Mean Cost: \", np.mean(RFCosts))"
   ]
  },
  {
   "cell_type": "markdown",
   "metadata": {},
   "source": [
    "The above chart (which shows the costs of the 10 folds from the stratified folds) shows that, random forests, unlike the previous models, which perform worst for fold 10 performs worst for fold 1. Moreover, the mean cost from the 10 folds is significantly lower for random forests than it is for any of the other models, even tuned SVMs and MLPs. Since random forests are a somewhat novel classification algorithm, this is an unexpected result. The following section will examine whether or not the result is statistically significant."
   ]
  },
  {
   "cell_type": "markdown",
   "metadata": {},
   "source": [
    "### Classifier Comparison"
   ]
  },
  {
   "cell_type": "code",
   "execution_count": 33,
   "metadata": {
    "collapsed": false
   },
   "outputs": [],
   "source": [
    "#These are the saved costs of the tests run above.\n",
    "#Run this if you don't want to re-run the classifiers\n",
    "\n",
    "LRCosts = np.array([ 1161.3, 1230.3, 1202.35, 1229.6, 1218.95, 1247.95, 1174.75, 1208.6, 1157.9, 1359.3])\n",
    "SVMCosts = np.array([ 1128.4, 1142.8, 1094.2, 1151.1, 1104.05, 1152.75,  1087.25,  1122.65,\n",
    "  1107.2,   1967.2 ])\n",
    "MLPCosts = np.array([ 1131.5, 1130.45, 1086.05, 1133.5, 1081.2, 1145.4, 1073.0,  1142.85,\n",
    "  1093.4, 1490.3 ])\n",
    "RFCosts = np.array([ 1429.75, 1003.6, 993.9, 953.2, 937.8, 949.85, 929.6, 978.2,\n",
    "   999.75,   999.0  ])\n",
    "ECCosts = np.array([ 1071.2 ,  1108.95,  1109.4 ,  1111.05,  1097.8 ,  1105.55,\n",
    "        1046.4 ,  1086.3 ,  1086.85,  1163.3 ])"
   ]
  },
  {
   "cell_type": "markdown",
   "metadata": {},
   "source": [
    "The following getDifference function is used to create a tuple of the range of possible differences of mean for two sets of costs, with 95% confidence. We use the second of the two confidence interval tests proposed in the ICA3 reversed assignment, because the datasets cannot be assumed to be independent, so the binomial approximation to the normal distribution does not hold."
   ]
  },
  {
   "cell_type": "code",
   "execution_count": 39,
   "metadata": {
    "collapsed": false
   },
   "outputs": [
    {
     "name": "stdout",
     "output_type": "stream",
     "text": [
      "Average LR vs SVM Difference:  [ 170.64403373 -143.96403373]\n",
      "Average LR vs MLP Difference:  [ 143.33155717   -6.66155717]\n",
      "Average LR vs RF Difference:   [ 397.96843539    5.30156461]\n",
      "Average SVM vs MLP Difference: [ 169.08200777  -59.09200777]\n",
      "Average SVM vs RF Difference:  [ 451.73519301  -75.14519301]\n",
      "Average MLP vs RF Difference:  [ 302.19898901  -35.59898901]\n"
     ]
    }
   ],
   "source": [
    "def getDifference(cost1,cost2,z_val=2.26):\n",
    "    diff12 = cost1 - cost2\n",
    "    sigma12 = np.sqrt(np.sum(diff12*diff12) * 1/(10-1))\n",
    "    d12 = (np.mean(diff12) + 1/(np.sqrt(10)) * z_val * sigma12, np.mean(diff12) - 1/(np.sqrt(10)) * z_val * sigma12)\n",
    "    return d12\n",
    "\n",
    "dLR_SVM = np.array(getDifference(LRCosts,SVMCosts))\n",
    "dLR_MLP = np.array(getDifference(LRCosts,MLPCosts))\n",
    "dLR_RF = np.array(getDifference(LRCosts,RFCosts))\n",
    "dSVM_MLP = np.array(getDifference(SVMCosts,MLPCosts))\n",
    "dSVM_RF = np.array(getDifference(SVMCosts,RFCosts))\n",
    "dMLP_RF = np.array(getDifference(MLPCosts,RFCosts))\n",
    "\n",
    "print(\"Average LR vs SVM Difference: \" , dLR_SVM )\n",
    "print(\"Average LR vs MLP Difference: \" , dLR_MLP )\n",
    "print(\"Average LR vs RF Difference:  \" , dLR_RF  )\n",
    "print(\"Average SVM vs MLP Difference:\" , dSVM_MLP)\n",
    "print(\"Average SVM vs RF Difference: \" , dSVM_RF )\n",
    "print(\"Average MLP vs RF Difference: \" , dMLP_RF )"
   ]
  },
  {
   "cell_type": "markdown",
   "metadata": {},
   "source": [
    "What the above confidence intervals show that there is only one pair of classifiers whose results are statistically different with 95% confidence. The Logistic Regression model has a statistically significantly higher cost than the Random Forest model. All other models cannot be statistically shown to be different from one another in terms of cost. "
   ]
  },
  {
   "cell_type": "markdown",
   "metadata": {},
   "source": [
    "### Ensemble Classifier\n",
    "\n",
    "An ensemble classifier is built using the VotingClassifier from sklearn. "
   ]
  },
  {
   "cell_type": "code",
   "execution_count": 59,
   "metadata": {
    "collapsed": false
   },
   "outputs": [],
   "source": [
    "from sklearn.ensemble import VotingClassifier\n",
    "\n",
    "clf = Pipeline([('sca',StandardScaler()),\n",
    "                ('clf', VotingClassifier(\n",
    "                            estimators=[('lr',  LogisticRegression(C=1)), \n",
    "                                        ('svc', SVC(kernel='rbf', C=1)),\n",
    "                                        ('mlp', MLPClassifier(max_iter=1000, hidden_layer_sizes=10)),\n",
    "                                        ('rfc', RandomForestClassifier(n_estimators=250))], \n",
    "                            voting='hard'))\n",
    "                ])\n",
    "\n",
    "per_fold_eval_criteria = cross_val_score(estimator=clf,\n",
    "                                    X=X,\n",
    "                                    y=y,\n",
    "                                    cv=cv,\n",
    "                                    scoring=scorer,\n",
    "                                    n_jobs=-1\n",
    "                                   )\n",
    "\n",
    "ECCosts = per_fold_eval_criteria"
   ]
  },
  {
   "cell_type": "code",
   "execution_count": 38,
   "metadata": {
    "collapsed": false
   },
   "outputs": [
    {
     "name": "stdout",
     "output_type": "stream",
     "text": [
      "Mean Cost:  1098.68\n"
     ]
    },
    {
     "data": {
      "image/png": "[encoded data removed]",
      "text/plain": [
       "<matplotlib.figure.Figure at 0x7fc98d2903c8>"
      ]
     },
     "metadata": {},
     "output_type": "display_data"
    }
   ],
   "source": [
    "#Plot the costs of the evaluations on each fold\n",
    "plt.bar(range(len(ECCosts)),ECCosts)\n",
    "plt.ylim([min(ECCosts)-200,max(ECCosts)+5])\n",
    "plt.xlabel(\"Fold\")\n",
    "plt.ylabel(\"Cost\")\n",
    "print(\"Mean Cost: \", np.mean(ECCosts))"
   ]
  },
  {
   "cell_type": "markdown",
   "metadata": {},
   "source": [
    "The above chart of the costs of the classifiers built and tested on each of the 10 stratified folds shows that the ensemble classifier, like all of the other sklearn classifiers, has the most trouble classifying the 10th fold. We beleive that the general difficulty of classifying the 10th fold may be caused by the fact that the last few games of an NFL season can be very unusual due to teams making late-season changes to either make a last effort to make the playoffs, or to rest important players if they've guaranteed a spot in the playoffs, or have already been eliminated. The next section will see if, with any statistical significance, the ensemble classifier outperforms the individual ones."
   ]
  },
  {
   "cell_type": "markdown",
   "metadata": {},
   "source": [
    "### Comparison of Ensemble to Original Classifiers"
   ]
  },
  {
   "cell_type": "markdown",
   "metadata": {},
   "source": [
    "The same comparison method used for the original classifiers will be used for the final classifier."
   ]
  },
  {
   "cell_type": "code",
   "execution_count": 41,
   "metadata": {
    "collapsed": false
   },
   "outputs": [
    {
     "name": "stdout",
     "output_type": "stream",
     "text": [
      "[[ -26.51349176 -214.32650824]\n",
      " [  86.18766079 -300.34766079]\n",
      " [  29.70927897 -133.87927897]\n",
      " [ 208.98549407  -46.55549407]]\n"
     ]
    }
   ],
   "source": [
    "dEC_LR = getDifference(ECCosts,LRCosts)\n",
    "dEC_SVM = getDifference(ECCosts,SVMCosts)\n",
    "dEC_MLP = getDifference(ECCosts,MLPCosts)\n",
    "dEC_RF = getDifference(ECCosts,RFCosts)\n",
    "\n",
    "ensemble_comparisons = np.array([dEC_LR,dEC_SVM,dEC_MLP,dEC_RF])\n",
    "\n",
    "print(ensemble_comparisons)"
   ]
  },
  {
   "cell_type": "markdown",
   "metadata": {},
   "source": [
    "Each of the four confidence intervals produced from comparing the costs of the individual classifiers to the ensemble classifiers shows no statistically significant difference in costs. Therefore, it cannot be concluded with statistical significance at 95% confidence that the ensemble classifier outperforms any the individual classifiers."
   ]
  },
  {
   "cell_type": "markdown",
   "metadata": {},
   "source": [
    "## Deployment"
   ]
  },
  {
   "cell_type": "code",
   "execution_count": null,
   "metadata": {
    "collapsed": true
   },
   "outputs": [],
   "source": []
  },
  {
   "cell_type": "markdown",
   "metadata": {
    "collapsed": false
   },
   "source": [
    "## An Additional Classifier (in R)\n",
    "\n",
    "For the sake of comparison, one non-sklearn classifier will be used on the dataset. An association-rule-based classifier from R package arulesCBA is used to train a model on the dataset and predict one fold of the dataset in the following R code: \n",
    "\n",
    "```\n",
    "df <- read.csv(\"data/cleaned.csv\", stringsAsFactors = TRUE)\n",
    "df <- df[c('GameID', 'Drive', 'qtr', 'down','TimeSecs', 'yrdline100','ydstogo','ydsnet','GoalToGo','posteam','DefensiveTeam','PosTeamScore','ScoreDiff', 'PlayType')]\n",
    "\n",
    "df <- df[(df$PlayType != \"Sack\"),]\n",
    "df <- df[(df$PlayType != \"No Play\"),]\n",
    "df <- df[(df$PlayType != \"QB Kneel\"),]\n",
    "df <- df[(df$PlayType != \"Spike\"),]\n",
    "df$PlayType <- factor(df$PlayType)\n",
    "\n",
    "df[c(\"GameID\", \"Drive\",\"qtr\",\"down\",\"GoalToGo\",\"posteam\",\"DefensiveTeam\",\"PlayType\")] <- sapply(df[c(\"GameID\", \"Drive\",\"qtr\",\"down\",\"GoalToGo\",\"posteam\",\"DefensiveTeam\",\"PlayType\")], as.factor)\n",
    "\n",
    "library(arulesCBA)\n",
    "\n",
    "df[c(\"TimeSecs\", \"yrdline100\",\"ydstogo\",\"ydsnet\",\"PosTeamScore\",\"ScoreDiff\")] <- sapply(df[c(\"TimeSecs\", \"yrdline100\",\"ydstogo\",\"ydsnet\",\"PosTeamScore\",\"ScoreDiff\")], function(x) discretize(x, categories = 5))\n",
    "df <- as.data.frame(sapply(df, as.factor))\n",
    "\n",
    "classifier <- CBA(df[1:34740,], \"PlayType\", support=0.04, maxtime=0.05, confidence = 0.80)\n",
    "results <- predict(classifier, df[34741:38600,])\n",
    "\n",
    "library(caret)\n",
    "conf <- confusionMatrix(results, df$PlayType[34741:38600])[[2]]\n",
    "\n",
    "write.csv(conf, file=\"data/confusion.csv\", row.names = FALSE, col.names = FALSE)\n",
    "```\n",
    "\n",
    "The arulesCBA classifier was used because we beleived that a rule-based classification strategy would work well for this classification problem. Below, the cost of the model for a single fold is calculated. Note that because stratified folding was not used, and only one fold was evaluated, we can't compare this model to the existing models with statistical significance."
   ]
  },
  {
   "cell_type": "code",
   "execution_count": 34,
   "metadata": {
    "collapsed": false
   },
   "outputs": [
    {
     "name": "stdout",
     "output_type": "stream",
     "text": [
      "Cost: 1671.4\n"
     ]
    }
   ],
   "source": [
    "confMat = pd.read_csv('data/confusion.csv')\n",
    "print(\"Cost:\",np.sum(np.multiply(confMat.values, cost_mat)))"
   ]
  },
  {
   "cell_type": "markdown",
   "metadata": {
    "collapsed": false
   },
   "source": [
    "The cost of the resulting classifier is 1,671. This is above average for each of the individual classifiers built above by about 15%. The rule-based classifier may have produced better results if it weren't for the memory constraints on the way it's currently implemented in R. A novel conclusion is that the rule-based classifier, in this form, is not as strong as the preceding classifiers. However, take note that the hyper-parameters in the CBA algorithm could be tuned to potentially significantly increase the effectiveness of the algorithm if the implementation were more efficient.\n",
    "\n",
    "A more insightful conclusion to draw is that R is clearly far superior to Python, and whoever wrote arulesCBA is an awful developer."
   ]
  }
 ],
 "metadata": {
  "anaconda-cloud": {},
  "kernelspec": {
   "display_name": "Python [Root]",
   "language": "python",
   "name": "Python [Root]"
  },
  "language_info": {
   "codemirror_mode": {
    "name": "ipython",
    "version": 3
   },
   "file_extension": ".py",
   "mimetype": "text/x-python",
   "name": "python",
   "nbconvert_exporter": "python",
   "pygments_lexer": "ipython3",
   "version": "3.5.2"
  }
 },
 "nbformat": 4,
 "nbformat_minor": 0
}
