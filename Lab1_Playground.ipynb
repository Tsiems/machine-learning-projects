{
 "cells": [
  {
   "cell_type": "markdown",
   "metadata": {
    "collapsed": true
   },
   "source": [
    "## Data Loading and Preprocessing"
   ]
  },
  {
   "cell_type": "markdown",
   "metadata": {},
   "source": [
    "To begin, we load the data into a Pandas data frame from a csv file."
   ]
  },
  {
   "cell_type": "code",
   "execution_count": 1,
   "metadata": {
    "collapsed": false
   },
   "outputs": [
    {
     "name": "stderr",
     "output_type": "stream",
     "text": [
      "//anaconda/lib/python3.5/site-packages/IPython/core/interactiveshell.py:2723: DtypeWarning: Columns (26) have mixed types. Specify dtype option on import or set low_memory=False.\n",
      "  interactivity=interactivity, compiler=compiler, result=result)\n"
     ]
    }
   ],
   "source": [
    "import pandas as pd\n",
    "import numpy as np\n",
    "\n",
    "df = pd.read_csv('data/data.csv') # read in the csv file"
   ]
  },
  {
   "cell_type": "markdown",
   "metadata": {},
   "source": [
    "Let's take a cursory glance at the data to see what we're working with."
   ]
  },
  {
   "cell_type": "code",
   "execution_count": 2,
   "metadata": {
    "collapsed": false
   },
   "outputs": [
    {
     "data": {
      "text/html": [
       "<div>\n",
       "<table border=\"1\" class=\"dataframe\">\n",
       "  <thead>\n",
       "    <tr style=\"text-align: right;\">\n",
       "      <th></th>\n",
       "      <th>Unnamed: 0</th>\n",
       "      <th>Date</th>\n",
       "      <th>GameID</th>\n",
       "      <th>Drive</th>\n",
       "      <th>qtr</th>\n",
       "      <th>down</th>\n",
       "      <th>time</th>\n",
       "      <th>TimeUnder</th>\n",
       "      <th>TimeSecs</th>\n",
       "      <th>PlayTimeDiff</th>\n",
       "      <th>...</th>\n",
       "      <th>Accepted.Penalty</th>\n",
       "      <th>PenalizedTeam</th>\n",
       "      <th>PenaltyType</th>\n",
       "      <th>PenalizedPlayer</th>\n",
       "      <th>Penalty.Yards</th>\n",
       "      <th>PosTeamScore</th>\n",
       "      <th>DefTeamScore</th>\n",
       "      <th>ScoreDiff</th>\n",
       "      <th>AbsScoreDiff</th>\n",
       "      <th>Season</th>\n",
       "    </tr>\n",
       "  </thead>\n",
       "  <tbody>\n",
       "    <tr>\n",
       "      <th>0</th>\n",
       "      <td>36</td>\n",
       "      <td>2015-09-10</td>\n",
       "      <td>2015091000</td>\n",
       "      <td>1</td>\n",
       "      <td>1</td>\n",
       "      <td>NaN</td>\n",
       "      <td>15:00</td>\n",
       "      <td>15.0</td>\n",
       "      <td>3600.0</td>\n",
       "      <td>0.0</td>\n",
       "      <td>...</td>\n",
       "      <td>0</td>\n",
       "      <td>NaN</td>\n",
       "      <td>NaN</td>\n",
       "      <td>NaN</td>\n",
       "      <td>0</td>\n",
       "      <td>0.0</td>\n",
       "      <td>0.0</td>\n",
       "      <td>0.0</td>\n",
       "      <td>0.0</td>\n",
       "      <td>2015</td>\n",
       "    </tr>\n",
       "    <tr>\n",
       "      <th>1</th>\n",
       "      <td>51</td>\n",
       "      <td>2015-09-10</td>\n",
       "      <td>2015091000</td>\n",
       "      <td>1</td>\n",
       "      <td>1</td>\n",
       "      <td>1.0</td>\n",
       "      <td>15:00</td>\n",
       "      <td>15.0</td>\n",
       "      <td>3600.0</td>\n",
       "      <td>0.0</td>\n",
       "      <td>...</td>\n",
       "      <td>0</td>\n",
       "      <td>NaN</td>\n",
       "      <td>NaN</td>\n",
       "      <td>NaN</td>\n",
       "      <td>0</td>\n",
       "      <td>0.0</td>\n",
       "      <td>0.0</td>\n",
       "      <td>0.0</td>\n",
       "      <td>0.0</td>\n",
       "      <td>2015</td>\n",
       "    </tr>\n",
       "    <tr>\n",
       "      <th>2</th>\n",
       "      <td>72</td>\n",
       "      <td>2015-09-10</td>\n",
       "      <td>2015091000</td>\n",
       "      <td>1</td>\n",
       "      <td>1</td>\n",
       "      <td>1.0</td>\n",
       "      <td>14:21</td>\n",
       "      <td>15.0</td>\n",
       "      <td>3561.0</td>\n",
       "      <td>39.0</td>\n",
       "      <td>...</td>\n",
       "      <td>0</td>\n",
       "      <td>NaN</td>\n",
       "      <td>NaN</td>\n",
       "      <td>NaN</td>\n",
       "      <td>0</td>\n",
       "      <td>0.0</td>\n",
       "      <td>0.0</td>\n",
       "      <td>0.0</td>\n",
       "      <td>0.0</td>\n",
       "      <td>2015</td>\n",
       "    </tr>\n",
       "    <tr>\n",
       "      <th>3</th>\n",
       "      <td>101</td>\n",
       "      <td>2015-09-10</td>\n",
       "      <td>2015091000</td>\n",
       "      <td>1</td>\n",
       "      <td>1</td>\n",
       "      <td>2.0</td>\n",
       "      <td>14:04</td>\n",
       "      <td>15.0</td>\n",
       "      <td>3544.0</td>\n",
       "      <td>17.0</td>\n",
       "      <td>...</td>\n",
       "      <td>0</td>\n",
       "      <td>NaN</td>\n",
       "      <td>NaN</td>\n",
       "      <td>NaN</td>\n",
       "      <td>0</td>\n",
       "      <td>0.0</td>\n",
       "      <td>0.0</td>\n",
       "      <td>0.0</td>\n",
       "      <td>0.0</td>\n",
       "      <td>2015</td>\n",
       "    </tr>\n",
       "    <tr>\n",
       "      <th>4</th>\n",
       "      <td>122</td>\n",
       "      <td>2015-09-10</td>\n",
       "      <td>2015091000</td>\n",
       "      <td>1</td>\n",
       "      <td>1</td>\n",
       "      <td>1.0</td>\n",
       "      <td>13:26</td>\n",
       "      <td>14.0</td>\n",
       "      <td>3506.0</td>\n",
       "      <td>38.0</td>\n",
       "      <td>...</td>\n",
       "      <td>0</td>\n",
       "      <td>NaN</td>\n",
       "      <td>NaN</td>\n",
       "      <td>NaN</td>\n",
       "      <td>0</td>\n",
       "      <td>0.0</td>\n",
       "      <td>0.0</td>\n",
       "      <td>0.0</td>\n",
       "      <td>0.0</td>\n",
       "      <td>2015</td>\n",
       "    </tr>\n",
       "  </tbody>\n",
       "</table>\n",
       "<p>5 rows × 64 columns</p>\n",
       "</div>"
      ],
      "text/plain": [
       "   Unnamed: 0        Date      GameID  Drive  qtr  down   time  TimeUnder  \\\n",
       "0          36  2015-09-10  2015091000      1    1   NaN  15:00       15.0   \n",
       "1          51  2015-09-10  2015091000      1    1   1.0  15:00       15.0   \n",
       "2          72  2015-09-10  2015091000      1    1   1.0  14:21       15.0   \n",
       "3         101  2015-09-10  2015091000      1    1   2.0  14:04       15.0   \n",
       "4         122  2015-09-10  2015091000      1    1   1.0  13:26       14.0   \n",
       "\n",
       "   TimeSecs  PlayTimeDiff  ...   Accepted.Penalty  PenalizedTeam  PenaltyType  \\\n",
       "0    3600.0           0.0  ...                  0            NaN          NaN   \n",
       "1    3600.0           0.0  ...                  0            NaN          NaN   \n",
       "2    3561.0          39.0  ...                  0            NaN          NaN   \n",
       "3    3544.0          17.0  ...                  0            NaN          NaN   \n",
       "4    3506.0          38.0  ...                  0            NaN          NaN   \n",
       "\n",
       "   PenalizedPlayer  Penalty.Yards  PosTeamScore  DefTeamScore ScoreDiff  \\\n",
       "0              NaN              0           0.0           0.0       0.0   \n",
       "1              NaN              0           0.0           0.0       0.0   \n",
       "2              NaN              0           0.0           0.0       0.0   \n",
       "3              NaN              0           0.0           0.0       0.0   \n",
       "4              NaN              0           0.0           0.0       0.0   \n",
       "\n",
       "  AbsScoreDiff Season  \n",
       "0          0.0   2015  \n",
       "1          0.0   2015  \n",
       "2          0.0   2015  \n",
       "3          0.0   2015  \n",
       "4          0.0   2015  \n",
       "\n",
       "[5 rows x 64 columns]"
      ]
     },
     "execution_count": 2,
     "metadata": {},
     "output_type": "execute_result"
    }
   ],
   "source": [
    "df.head()"
   ]
  },
  {
   "cell_type": "markdown",
   "metadata": {},
   "source": [
    "There's a lot of data that we don't care about. For example, 'PassAttempt' is a binary attribute, but there's also an attribute called 'PlayType' which is set to 'Pass' for a passing play.\n",
    "\n",
    "We define a list of the columns which we're not interested in, and then we delete them"
   ]
  },
  {
   "cell_type": "code",
   "execution_count": 3,
   "metadata": {
    "collapsed": true
   },
   "outputs": [],
   "source": [
    "columns_to_delete = ['Unnamed: 0', 'Date', 'time', 'TimeUnder', \n",
    "                     'PosTeamScore', 'PassAttempt', 'RushAttempt', \n",
    "                     'DefTeamScore', 'Season', 'PlayAttempted']\n",
    "\n",
    "#Iterate through and delete the columns we don't want\n",
    "for col in columns_to_delete:\n",
    "    if col in df:\n",
    "        del df[col]"
   ]
  },
  {
   "cell_type": "markdown",
   "metadata": {},
   "source": [
    "We can then grab a list of the remaining column names"
   ]
  },
  {
   "cell_type": "code",
   "execution_count": 4,
   "metadata": {
    "collapsed": false
   },
   "outputs": [
    {
     "data": {
      "text/plain": [
       "Index(['GameID', 'Drive', 'qtr', 'down', 'TimeSecs', 'PlayTimeDiff',\n",
       "       'SideofField', 'yrdln', 'yrdline100', 'ydstogo', 'ydsnet', 'GoalToGo',\n",
       "       'FirstDown', 'posteam', 'DefensiveTeam', 'desc', 'Yards.Gained', 'sp',\n",
       "       'Touchdown', 'ExPointResult', 'TwoPointConv', 'DefTwoPoint', 'Safety',\n",
       "       'PlayType', 'Passer', 'PassOutcome', 'PassLength', 'PassLocation',\n",
       "       'InterceptionThrown', 'Interceptor', 'Rusher', 'RunLocation', 'RunGap',\n",
       "       'Receiver', 'Reception', 'ReturnResult', 'Returner', 'Tackler1',\n",
       "       'Tackler2', 'FieldGoalResult', 'FieldGoalDistance', 'Fumble',\n",
       "       'RecFumbTeam', 'RecFumbPlayer', 'Sack', 'Challenge.Replay',\n",
       "       'ChalReplayResult', 'Accepted.Penalty', 'PenalizedTeam', 'PenaltyType',\n",
       "       'PenalizedPlayer', 'Penalty.Yards', 'ScoreDiff', 'AbsScoreDiff'],\n",
       "      dtype='object')"
      ]
     },
     "execution_count": 4,
     "metadata": {},
     "output_type": "execute_result"
    }
   ],
   "source": [
    "df.columns"
   ]
  },
  {
   "cell_type": "markdown",
   "metadata": {},
   "source": [
    "Temporary simple data replacement so that we can cast to integers (instead of objects)"
   ]
  },
  {
   "cell_type": "code",
   "execution_count": 5,
   "metadata": {
    "collapsed": false
   },
   "outputs": [],
   "source": [
    "df = df.replace(to_replace=np.nan,value=-1)"
   ]
  },
  {
   "cell_type": "markdown",
   "metadata": {},
   "source": [
    "At this point, lots of things are encoded as objects, or with excesively large data types"
   ]
  },
  {
   "cell_type": "code",
   "execution_count": 6,
   "metadata": {
    "collapsed": false
   },
   "outputs": [
    {
     "name": "stdout",
     "output_type": "stream",
     "text": [
      "<class 'pandas.core.frame.DataFrame'>\n",
      "RangeIndex: 46129 entries, 0 to 46128\n",
      "Data columns (total 54 columns):\n",
      "GameID                46129 non-null int64\n",
      "Drive                 46129 non-null int64\n",
      "qtr                   46129 non-null int64\n",
      "down                  46129 non-null float64\n",
      "TimeSecs              46129 non-null float64\n",
      "PlayTimeDiff          46129 non-null float64\n",
      "SideofField           46129 non-null object\n",
      "yrdln                 46129 non-null float64\n",
      "yrdline100            46129 non-null float64\n",
      "ydstogo               46129 non-null int64\n",
      "ydsnet                46129 non-null int64\n",
      "GoalToGo              46129 non-null float64\n",
      "FirstDown             46129 non-null float64\n",
      "posteam               46129 non-null object\n",
      "DefensiveTeam         46129 non-null object\n",
      "desc                  46129 non-null object\n",
      "Yards.Gained          46129 non-null int64\n",
      "sp                    46129 non-null int64\n",
      "Touchdown             46129 non-null int64\n",
      "ExPointResult         46129 non-null object\n",
      "TwoPointConv          46129 non-null object\n",
      "DefTwoPoint           46129 non-null object\n",
      "Safety                46129 non-null int64\n",
      "PlayType              46129 non-null object\n",
      "Passer                46129 non-null object\n",
      "PassOutcome           46129 non-null object\n",
      "PassLength            46129 non-null object\n",
      "PassLocation          46129 non-null object\n",
      "InterceptionThrown    46129 non-null int64\n",
      "Interceptor           46129 non-null object\n",
      "Rusher                46129 non-null object\n",
      "RunLocation           46129 non-null object\n",
      "RunGap                46129 non-null object\n",
      "Receiver              46129 non-null object\n",
      "Reception             46129 non-null int64\n",
      "ReturnResult          46129 non-null object\n",
      "Returner              46129 non-null object\n",
      "Tackler1              46129 non-null object\n",
      "Tackler2              46129 non-null object\n",
      "FieldGoalResult       46129 non-null object\n",
      "FieldGoalDistance     46129 non-null float64\n",
      "Fumble                46129 non-null int64\n",
      "RecFumbTeam           46129 non-null object\n",
      "RecFumbPlayer         46129 non-null object\n",
      "Sack                  46129 non-null int64\n",
      "Challenge.Replay      46129 non-null int64\n",
      "ChalReplayResult      46129 non-null object\n",
      "Accepted.Penalty      46129 non-null int64\n",
      "PenalizedTeam         46129 non-null object\n",
      "PenaltyType           46129 non-null object\n",
      "PenalizedPlayer       46129 non-null object\n",
      "Penalty.Yards         46129 non-null int64\n",
      "ScoreDiff             46129 non-null float64\n",
      "AbsScoreDiff          46129 non-null float64\n",
      "dtypes: float64(10), int64(16), object(28)\n",
      "memory usage: 19.0+ MB\n"
     ]
    }
   ],
   "source": [
    "df.info()"
   ]
  },
  {
   "cell_type": "markdown",
   "metadata": {},
   "source": [
    "We define four lists based on the types of features we're using.\n",
    "Binary features are separated from the other categorical features so that they can be stored in less space"
   ]
  },
  {
   "cell_type": "code",
   "execution_count": 7,
   "metadata": {
    "collapsed": false
   },
   "outputs": [],
   "source": [
    "continuous_features = ['TimeSecs', 'PlayTimeDiff', 'yrdln', 'yrdline100',\n",
    "                       'ydstogo', 'ydsnet', 'Yards.Gained', 'Penalty.Yards',\n",
    "                       'ScoreDiff', 'AbsScoreDiff']\n",
    "\n",
    "ordinal_features = ['Drive', 'qtr', 'down']\n",
    "binary_features = ['GoalToGo', 'FirstDown','sp', 'Touchdown', 'Safety', 'Fumble']\n",
    "categorical_features = df.columns.difference(continuous_features).difference(ordinal_features)"
   ]
  },
  {
   "cell_type": "markdown",
   "metadata": {},
   "source": [
    "We then cast all of the columns to the appropriate underlying data types"
   ]
  },
  {
   "cell_type": "code",
   "execution_count": 8,
   "metadata": {
    "collapsed": false
   },
   "outputs": [],
   "source": [
    "df[continuous_features] = df[continuous_features].astype(np.float64)\n",
    "df[ordinal_features] = df[ordinal_features].astype(np.int64)\n",
    "df[binary_features] = df[binary_features].astype(np.int8)"
   ]
  },
  {
   "cell_type": "markdown",
   "metadata": {},
   "source": [
    "THIS IS SOME MORE REFORMATTING SHIT I'M DOING FOR NOW. PROLLY GONNA KEEP IT"
   ]
  },
  {
   "cell_type": "code",
   "execution_count": 9,
   "metadata": {
    "collapsed": true
   },
   "outputs": [],
   "source": [
    "df['PassOutcome'].replace(['Complete', 'Incomplete Pass'], [1, 0], inplace=True)"
   ]
  },
  {
   "cell_type": "markdown",
   "metadata": {},
   "source": [
    "Now all of the objects are encoded the way we'd like them to be"
   ]
  },
  {
   "cell_type": "code",
   "execution_count": 10,
   "metadata": {
    "collapsed": false
   },
   "outputs": [
    {
     "name": "stdout",
     "output_type": "stream",
     "text": [
      "<class 'pandas.core.frame.DataFrame'>\n",
      "RangeIndex: 46129 entries, 0 to 46128\n",
      "Data columns (total 54 columns):\n",
      "GameID                46129 non-null int64\n",
      "Drive                 46129 non-null int64\n",
      "qtr                   46129 non-null int64\n",
      "down                  46129 non-null int64\n",
      "TimeSecs              46129 non-null float64\n",
      "PlayTimeDiff          46129 non-null float64\n",
      "SideofField           46129 non-null object\n",
      "yrdln                 46129 non-null float64\n",
      "yrdline100            46129 non-null float64\n",
      "ydstogo               46129 non-null float64\n",
      "ydsnet                46129 non-null float64\n",
      "GoalToGo              46129 non-null int8\n",
      "FirstDown             46129 non-null int8\n",
      "posteam               46129 non-null object\n",
      "DefensiveTeam         46129 non-null object\n",
      "desc                  46129 non-null object\n",
      "Yards.Gained          46129 non-null float64\n",
      "sp                    46129 non-null int8\n",
      "Touchdown             46129 non-null int8\n",
      "ExPointResult         46129 non-null object\n",
      "TwoPointConv          46129 non-null object\n",
      "DefTwoPoint           46129 non-null object\n",
      "Safety                46129 non-null int8\n",
      "PlayType              46129 non-null object\n",
      "Passer                46129 non-null object\n",
      "PassOutcome           46129 non-null int64\n",
      "PassLength            46129 non-null object\n",
      "PassLocation          46129 non-null object\n",
      "InterceptionThrown    46129 non-null int64\n",
      "Interceptor           46129 non-null object\n",
      "Rusher                46129 non-null object\n",
      "RunLocation           46129 non-null object\n",
      "RunGap                46129 non-null object\n",
      "Receiver              46129 non-null object\n",
      "Reception             46129 non-null int64\n",
      "ReturnResult          46129 non-null object\n",
      "Returner              46129 non-null object\n",
      "Tackler1              46129 non-null object\n",
      "Tackler2              46129 non-null object\n",
      "FieldGoalResult       46129 non-null object\n",
      "FieldGoalDistance     46129 non-null float64\n",
      "Fumble                46129 non-null int8\n",
      "RecFumbTeam           46129 non-null object\n",
      "RecFumbPlayer         46129 non-null object\n",
      "Sack                  46129 non-null int64\n",
      "Challenge.Replay      46129 non-null int64\n",
      "ChalReplayResult      46129 non-null object\n",
      "Accepted.Penalty      46129 non-null int64\n",
      "PenalizedTeam         46129 non-null object\n",
      "PenaltyType           46129 non-null object\n",
      "PenalizedPlayer       46129 non-null object\n",
      "Penalty.Yards         46129 non-null float64\n",
      "ScoreDiff             46129 non-null float64\n",
      "AbsScoreDiff          46129 non-null float64\n",
      "dtypes: float64(11), int64(10), int8(6), object(27)\n",
      "memory usage: 17.2+ MB\n"
     ]
    }
   ],
   "source": [
    "df.info()"
   ]
  },
  {
   "cell_type": "markdown",
   "metadata": {},
   "source": [
    "Now we can start to take a look at what's in each of our columns"
   ]
  },
  {
   "cell_type": "code",
   "execution_count": 11,
   "metadata": {
    "collapsed": false
   },
   "outputs": [
    {
     "data": {
      "text/html": [
       "<div>\n",
       "<table border=\"1\" class=\"dataframe\">\n",
       "  <thead>\n",
       "    <tr style=\"text-align: right;\">\n",
       "      <th></th>\n",
       "      <th>GameID</th>\n",
       "      <th>Drive</th>\n",
       "      <th>qtr</th>\n",
       "      <th>down</th>\n",
       "      <th>TimeSecs</th>\n",
       "      <th>PlayTimeDiff</th>\n",
       "      <th>yrdln</th>\n",
       "      <th>yrdline100</th>\n",
       "      <th>ydstogo</th>\n",
       "      <th>ydsnet</th>\n",
       "      <th>...</th>\n",
       "      <th>InterceptionThrown</th>\n",
       "      <th>Reception</th>\n",
       "      <th>FieldGoalDistance</th>\n",
       "      <th>Fumble</th>\n",
       "      <th>Sack</th>\n",
       "      <th>Challenge.Replay</th>\n",
       "      <th>Accepted.Penalty</th>\n",
       "      <th>Penalty.Yards</th>\n",
       "      <th>ScoreDiff</th>\n",
       "      <th>AbsScoreDiff</th>\n",
       "    </tr>\n",
       "  </thead>\n",
       "  <tbody>\n",
       "    <tr>\n",
       "      <th>count</th>\n",
       "      <td>4.612900e+04</td>\n",
       "      <td>46129.000000</td>\n",
       "      <td>46129.000000</td>\n",
       "      <td>46129.000000</td>\n",
       "      <td>46129.000000</td>\n",
       "      <td>46129.000000</td>\n",
       "      <td>46129.000000</td>\n",
       "      <td>46129.000000</td>\n",
       "      <td>46129.000000</td>\n",
       "      <td>46129.000000</td>\n",
       "      <td>...</td>\n",
       "      <td>46129.000000</td>\n",
       "      <td>46129.000000</td>\n",
       "      <td>46129.000000</td>\n",
       "      <td>46129.000000</td>\n",
       "      <td>46129.000000</td>\n",
       "      <td>46129.000000</td>\n",
       "      <td>46129.000000</td>\n",
       "      <td>46129.000000</td>\n",
       "      <td>46129.000000</td>\n",
       "      <td>46129.000000</td>\n",
       "    </tr>\n",
       "    <tr>\n",
       "      <th>mean</th>\n",
       "      <td>2.015164e+09</td>\n",
       "      <td>12.279607</td>\n",
       "      <td>2.583407</td>\n",
       "      <td>1.534176</td>\n",
       "      <td>1685.747989</td>\n",
       "      <td>20.189750</td>\n",
       "      <td>28.495870</td>\n",
       "      <td>49.293286</td>\n",
       "      <td>7.310152</td>\n",
       "      <td>26.672289</td>\n",
       "      <td>...</td>\n",
       "      <td>0.010145</td>\n",
       "      <td>0.259641</td>\n",
       "      <td>-0.160268</td>\n",
       "      <td>0.013592</td>\n",
       "      <td>0.027401</td>\n",
       "      <td>0.008953</td>\n",
       "      <td>0.076633</td>\n",
       "      <td>0.652388</td>\n",
       "      <td>-1.057578</td>\n",
       "      <td>7.345076</td>\n",
       "    </tr>\n",
       "    <tr>\n",
       "      <th>std</th>\n",
       "      <td>2.183164e+05</td>\n",
       "      <td>7.144244</td>\n",
       "      <td>1.134256</td>\n",
       "      <td>1.422973</td>\n",
       "      <td>1065.964474</td>\n",
       "      <td>17.618167</td>\n",
       "      <td>12.657879</td>\n",
       "      <td>24.943136</td>\n",
       "      <td>4.920808</td>\n",
       "      <td>25.379980</td>\n",
       "      <td>...</td>\n",
       "      <td>0.100214</td>\n",
       "      <td>0.438443</td>\n",
       "      <td>5.871452</td>\n",
       "      <td>0.115792</td>\n",
       "      <td>0.163252</td>\n",
       "      <td>0.094198</td>\n",
       "      <td>0.266011</td>\n",
       "      <td>2.716825</td>\n",
       "      <td>10.554045</td>\n",
       "      <td>7.652127</td>\n",
       "    </tr>\n",
       "    <tr>\n",
       "      <th>min</th>\n",
       "      <td>2.015091e+09</td>\n",
       "      <td>1.000000</td>\n",
       "      <td>1.000000</td>\n",
       "      <td>-1.000000</td>\n",
       "      <td>-747.000000</td>\n",
       "      <td>-1.000000</td>\n",
       "      <td>-1.000000</td>\n",
       "      <td>-1.000000</td>\n",
       "      <td>0.000000</td>\n",
       "      <td>-48.000000</td>\n",
       "      <td>...</td>\n",
       "      <td>0.000000</td>\n",
       "      <td>0.000000</td>\n",
       "      <td>-1.000000</td>\n",
       "      <td>0.000000</td>\n",
       "      <td>0.000000</td>\n",
       "      <td>0.000000</td>\n",
       "      <td>0.000000</td>\n",
       "      <td>0.000000</td>\n",
       "      <td>-41.000000</td>\n",
       "      <td>-1.000000</td>\n",
       "    </tr>\n",
       "    <tr>\n",
       "      <th>25%</th>\n",
       "      <td>2.015101e+09</td>\n",
       "      <td>6.000000</td>\n",
       "      <td>2.000000</td>\n",
       "      <td>1.000000</td>\n",
       "      <td>758.000000</td>\n",
       "      <td>5.000000</td>\n",
       "      <td>20.000000</td>\n",
       "      <td>31.000000</td>\n",
       "      <td>3.000000</td>\n",
       "      <td>5.000000</td>\n",
       "      <td>...</td>\n",
       "      <td>0.000000</td>\n",
       "      <td>0.000000</td>\n",
       "      <td>-1.000000</td>\n",
       "      <td>0.000000</td>\n",
       "      <td>0.000000</td>\n",
       "      <td>0.000000</td>\n",
       "      <td>0.000000</td>\n",
       "      <td>0.000000</td>\n",
       "      <td>-7.000000</td>\n",
       "      <td>1.000000</td>\n",
       "    </tr>\n",
       "    <tr>\n",
       "      <th>50%</th>\n",
       "      <td>2.015111e+09</td>\n",
       "      <td>12.000000</td>\n",
       "      <td>3.000000</td>\n",
       "      <td>2.000000</td>\n",
       "      <td>1800.000000</td>\n",
       "      <td>16.000000</td>\n",
       "      <td>30.000000</td>\n",
       "      <td>50.000000</td>\n",
       "      <td>9.000000</td>\n",
       "      <td>20.000000</td>\n",
       "      <td>...</td>\n",
       "      <td>0.000000</td>\n",
       "      <td>0.000000</td>\n",
       "      <td>-1.000000</td>\n",
       "      <td>0.000000</td>\n",
       "      <td>0.000000</td>\n",
       "      <td>0.000000</td>\n",
       "      <td>0.000000</td>\n",
       "      <td>0.000000</td>\n",
       "      <td>0.000000</td>\n",
       "      <td>6.000000</td>\n",
       "    </tr>\n",
       "    <tr>\n",
       "      <th>75%</th>\n",
       "      <td>2.015121e+09</td>\n",
       "      <td>18.000000</td>\n",
       "      <td>4.000000</td>\n",
       "      <td>3.000000</td>\n",
       "      <td>2579.000000</td>\n",
       "      <td>37.000000</td>\n",
       "      <td>38.000000</td>\n",
       "      <td>71.000000</td>\n",
       "      <td>10.000000</td>\n",
       "      <td>45.000000</td>\n",
       "      <td>...</td>\n",
       "      <td>0.000000</td>\n",
       "      <td>1.000000</td>\n",
       "      <td>-1.000000</td>\n",
       "      <td>0.000000</td>\n",
       "      <td>0.000000</td>\n",
       "      <td>0.000000</td>\n",
       "      <td>0.000000</td>\n",
       "      <td>0.000000</td>\n",
       "      <td>4.000000</td>\n",
       "      <td>11.000000</td>\n",
       "    </tr>\n",
       "    <tr>\n",
       "      <th>max</th>\n",
       "      <td>2.016010e+09</td>\n",
       "      <td>33.000000</td>\n",
       "      <td>5.000000</td>\n",
       "      <td>4.000000</td>\n",
       "      <td>3600.000000</td>\n",
       "      <td>940.000000</td>\n",
       "      <td>50.000000</td>\n",
       "      <td>99.000000</td>\n",
       "      <td>42.000000</td>\n",
       "      <td>99.000000</td>\n",
       "      <td>...</td>\n",
       "      <td>1.000000</td>\n",
       "      <td>1.000000</td>\n",
       "      <td>66.000000</td>\n",
       "      <td>1.000000</td>\n",
       "      <td>1.000000</td>\n",
       "      <td>1.000000</td>\n",
       "      <td>1.000000</td>\n",
       "      <td>55.000000</td>\n",
       "      <td>41.000000</td>\n",
       "      <td>41.000000</td>\n",
       "    </tr>\n",
       "  </tbody>\n",
       "</table>\n",
       "<p>8 rows × 27 columns</p>\n",
       "</div>"
      ],
      "text/plain": [
       "             GameID         Drive           qtr          down      TimeSecs  \\\n",
       "count  4.612900e+04  46129.000000  46129.000000  46129.000000  46129.000000   \n",
       "mean   2.015164e+09     12.279607      2.583407      1.534176   1685.747989   \n",
       "std    2.183164e+05      7.144244      1.134256      1.422973   1065.964474   \n",
       "min    2.015091e+09      1.000000      1.000000     -1.000000   -747.000000   \n",
       "25%    2.015101e+09      6.000000      2.000000      1.000000    758.000000   \n",
       "50%    2.015111e+09     12.000000      3.000000      2.000000   1800.000000   \n",
       "75%    2.015121e+09     18.000000      4.000000      3.000000   2579.000000   \n",
       "max    2.016010e+09     33.000000      5.000000      4.000000   3600.000000   \n",
       "\n",
       "       PlayTimeDiff         yrdln    yrdline100       ydstogo        ydsnet  \\\n",
       "count  46129.000000  46129.000000  46129.000000  46129.000000  46129.000000   \n",
       "mean      20.189750     28.495870     49.293286      7.310152     26.672289   \n",
       "std       17.618167     12.657879     24.943136      4.920808     25.379980   \n",
       "min       -1.000000     -1.000000     -1.000000      0.000000    -48.000000   \n",
       "25%        5.000000     20.000000     31.000000      3.000000      5.000000   \n",
       "50%       16.000000     30.000000     50.000000      9.000000     20.000000   \n",
       "75%       37.000000     38.000000     71.000000     10.000000     45.000000   \n",
       "max      940.000000     50.000000     99.000000     42.000000     99.000000   \n",
       "\n",
       "           ...       InterceptionThrown     Reception  FieldGoalDistance  \\\n",
       "count      ...             46129.000000  46129.000000       46129.000000   \n",
       "mean       ...                 0.010145      0.259641          -0.160268   \n",
       "std        ...                 0.100214      0.438443           5.871452   \n",
       "min        ...                 0.000000      0.000000          -1.000000   \n",
       "25%        ...                 0.000000      0.000000          -1.000000   \n",
       "50%        ...                 0.000000      0.000000          -1.000000   \n",
       "75%        ...                 0.000000      1.000000          -1.000000   \n",
       "max        ...                 1.000000      1.000000          66.000000   \n",
       "\n",
       "             Fumble          Sack  Challenge.Replay  Accepted.Penalty  \\\n",
       "count  46129.000000  46129.000000      46129.000000      46129.000000   \n",
       "mean       0.013592      0.027401          0.008953          0.076633   \n",
       "std        0.115792      0.163252          0.094198          0.266011   \n",
       "min        0.000000      0.000000          0.000000          0.000000   \n",
       "25%        0.000000      0.000000          0.000000          0.000000   \n",
       "50%        0.000000      0.000000          0.000000          0.000000   \n",
       "75%        0.000000      0.000000          0.000000          0.000000   \n",
       "max        1.000000      1.000000          1.000000          1.000000   \n",
       "\n",
       "       Penalty.Yards     ScoreDiff  AbsScoreDiff  \n",
       "count   46129.000000  46129.000000  46129.000000  \n",
       "mean        0.652388     -1.057578      7.345076  \n",
       "std         2.716825     10.554045      7.652127  \n",
       "min         0.000000    -41.000000     -1.000000  \n",
       "25%         0.000000     -7.000000      1.000000  \n",
       "50%         0.000000      0.000000      6.000000  \n",
       "75%         0.000000      4.000000     11.000000  \n",
       "max        55.000000     41.000000     41.000000  \n",
       "\n",
       "[8 rows x 27 columns]"
      ]
     },
     "execution_count": 11,
     "metadata": {},
     "output_type": "execute_result"
    }
   ],
   "source": [
    "df.describe()"
   ]
  },
  {
   "cell_type": "code",
   "execution_count": 12,
   "metadata": {
    "collapsed": true
   },
   "outputs": [],
   "source": [
    "import matplotlib.pyplot as plt\n",
    "import warnings\n",
    "warnings.simplefilter('ignore', DeprecationWarning)\n",
    "#Embed figures in the Jupyter Notebook\n",
    "%matplotlib inline\n",
    "\n",
    "#Use GGPlot style for matplotlib\n",
    "plt.style.use('ggplot')"
   ]
  },
  {
   "cell_type": "code",
   "execution_count": 13,
   "metadata": {
    "collapsed": false
   },
   "outputs": [],
   "source": [
    "pass_plays = df[df['PlayType'] == \"Pass\"]\n",
    "pass_plays_grouped = pass_plays.groupby(by=['Passer'])"
   ]
  },
  {
   "cell_type": "markdown",
   "metadata": {},
   "source": [
    "We can take a random sample of passers and show their completion rate:"
   ]
  },
  {
   "cell_type": "code",
   "execution_count": 14,
   "metadata": {
    "collapsed": false
   },
   "outputs": [
    {
     "data": {
      "text/plain": [
       "<matplotlib.axes._subplots.AxesSubplot at 0x11780ec50>"
      ]
     },
     "execution_count": 14,
     "metadata": {},
     "output_type": "execute_result"
    },
    {
     "data": {
      "image/png": "[encoded data removed]",
      "text/plain": [
       "<matplotlib.figure.Figure at 0x11780e048>"
      ]
     },
     "metadata": {},
     "output_type": "display_data"
    }
   ],
   "source": [
    "completion_rate = pass_plays_grouped.PassOutcome.sum() / pass_plays_grouped.PassOutcome.count()\n",
    "completion_rate_sampled = completion_rate.sample(10)\n",
    "completion_rate_sampled.sort_values(inplace=True)\n",
    "completion_rate_sampled.plot(kind='barh')"
   ]
  },
  {
   "cell_type": "markdown",
   "metadata": {},
   "source": [
    "We can also group by both passer and receiver, to check for highly effective QB-Receiver combos."
   ]
  },
  {
   "cell_type": "code",
   "execution_count": 15,
   "metadata": {
    "collapsed": false
   },
   "outputs": [
    {
     "data": {
      "text/plain": [
       "<matplotlib.axes._subplots.AxesSubplot at 0x117c35c88>"
      ]
     },
     "execution_count": 15,
     "metadata": {},
     "output_type": "execute_result"
    },
    {
     "data": {
      "image/png": "[encoded data removed]",
      "text/plain": [
       "<matplotlib.figure.Figure at 0x117d26128>"
      ]
     },
     "metadata": {},
     "output_type": "display_data"
    }
   ],
   "source": [
    "pass_plays_grouped = pass_plays.groupby(by=['Passer', 'Receiver'])\n",
    "completion_rate = pass_plays_grouped.PassOutcome.sum() / pass_plays_grouped.PassOutcome.count()\n",
    "completion_rate_sampled = completion_rate.sample(10)\n",
    "completion_rate_sampled.sort_values(inplace=True)\n",
    "completion_rate_sampled.plot(kind='barh')"
   ]
  },
  {
   "cell_type": "markdown",
   "metadata": {},
   "source": [
    "We can eliminate combos who didn't have at least 10 receptions together, and then re-sample the data. This will remove noise from QB-receiver combos who have very high or low completion rates because they've played very little together."
   ]
  },
  {
   "cell_type": "code",
   "execution_count": 16,
   "metadata": {
    "collapsed": false
   },
   "outputs": [
    {
     "data": {
      "text/plain": [
       "<matplotlib.axes._subplots.AxesSubplot at 0x117e532b0>"
      ]
     },
     "execution_count": 16,
     "metadata": {},
     "output_type": "execute_result"
    },
    {
     "data": {
      "image/png": "[encoded data removed]",
      "text/plain": [
       "<matplotlib.figure.Figure at 0x117e5cb00>"
      ]
     },
     "metadata": {},
     "output_type": "display_data"
    }
   ],
   "source": [
    "pass_plays_grouped_filtered = pass_plays_grouped.filter(lambda g: len(g)>10).groupby(by=['Passer', 'Receiver'])\n",
    "completion_rate = pass_plays_grouped_filtered.PassOutcome.sum() / pass_plays_grouped_filtered.PassOutcome.count()\n",
    "completion_rate_sampled = completion_rate.sample(10)\n",
    "completion_rate_sampled.sort_values(inplace=True)\n",
    "completion_rate_sampled.plot(kind='barh')"
   ]
  },
  {
   "cell_type": "markdown",
   "metadata": {},
   "source": [
    "We can also extract the highest-completion percentage combos.\n",
    "Here we take the top-10 most reliable QB-receiver pairs."
   ]
  },
  {
   "cell_type": "code",
   "execution_count": 17,
   "metadata": {
    "collapsed": false
   },
   "outputs": [
    {
     "data": {
      "text/plain": [
       "Passer            Receiver   \n",
       "B.Weeden          L.Dunbar       1.000000\n",
       "B.Roethlisberger  D.Williams     1.000000\n",
       "M.Schaub          J.Allen        0.941176\n",
       "M.Vick            L.Bell         0.933333\n",
       "D.Carr            L.Smith        0.923077\n",
       "D.Brees           T.Hightower    0.923077\n",
       "P.Rivers          J.Phillips     0.909091\n",
       "B.Hoyer           A.Blue         0.909091\n",
       "T.Romo            J.Witten       0.894737\n",
       "S.Bradford        B.Celek        0.894737\n",
       "Name: PassOutcome, dtype: float64"
      ]
     },
     "execution_count": 17,
     "metadata": {},
     "output_type": "execute_result"
    }
   ],
   "source": [
    "completion_rate.sort_values(inplace=True, ascending = False)\n",
    "completion_rate = pd.Series(completion_rate)\n",
    "completion_rate[0:10]"
   ]
  },
  {
   "cell_type": "markdown",
   "metadata": {
    "collapsed": true
   },
   "source": [
    "Next, let's find the top ten rushers based on yards-per-carry (only for rushers who have more than 10 carries)"
   ]
  },
  {
   "cell_type": "code",
   "execution_count": 18,
   "metadata": {
    "collapsed": false
   },
   "outputs": [],
   "source": [
    "rush_plays = df[(df.Rusher != -1)]\n",
    "rush_plays_grouped = rush_plays.groupby(by=['Rusher']).filter(lambda g: len(g) > 10).groupby(by=[\"Rusher\"])"
   ]
  },
  {
   "cell_type": "code",
   "execution_count": 19,
   "metadata": {
    "collapsed": false
   },
   "outputs": [
    {
     "data": {
      "text/plain": [
       "Rusher\n",
       "T.Austin     8.080000\n",
       "M.Vick       8.076923\n",
       "J.Landry     7.882353\n",
       "A.Rodgers    7.739130\n",
       "M.Mariota    7.666667\n",
       "D.Carr       7.300000\n",
       "B.Gabbert    7.200000\n",
       "E.Manning    7.181818\n",
       "A.Luck       7.074074\n",
       "B.Bortles    6.976744\n",
       "Name: Yards.Gained, dtype: float64"
      ]
     },
     "execution_count": 19,
     "metadata": {},
     "output_type": "execute_result"
    }
   ],
   "source": [
    "yards_per_carry = rush_plays_grouped[\"Yards.Gained\"].sum() / rush_plays_grouped[\"Yards.Gained\"].count()\n",
    "yards_per_carry.sort_values(inplace=True, ascending=False)\n",
    "yards_per_carry[0:10]"
   ]
  },
  {
   "cell_type": "markdown",
   "metadata": {
    "collapsed": false
   },
   "source": [
    "Now let's take a look at defenses. Which defenses allowed the fewest overall yards?"
   ]
  },
  {
   "cell_type": "code",
   "execution_count": 20,
   "metadata": {
    "collapsed": false
   },
   "outputs": [],
   "source": [
    "def_play_groups = df.groupby(\"DefensiveTeam\")"
   ]
  },
  {
   "cell_type": "code",
   "execution_count": 21,
   "metadata": {
    "collapsed": false
   },
   "outputs": [
    {
     "data": {
      "text/plain": [
       "DefensiveTeam\n",
       "DEN    5613.0\n",
       "BAL    6401.0\n",
       "SEA    6489.0\n",
       "CAR    6615.0\n",
       "ATL    6645.0\n",
       "DAL    6659.0\n",
       "TEN    6720.0\n",
       "GB     6745.0\n",
       "HOU    6753.0\n",
       "Name: Yards.Gained, dtype: float64"
      ]
     },
     "execution_count": 21,
     "metadata": {},
     "output_type": "execute_result"
    }
   ],
   "source": [
    "def_yards_allowed = def_play_groups[\"Yards.Gained\"].sum()\n",
    "def_yards_allowed.sort_values(inplace=True)\n",
    "def_yards_allowed[1:10]"
   ]
  },
  {
   "cell_type": "markdown",
   "metadata": {},
   "source": [
    "It looks like the Denver Broncos allowed the fewest yards overall. Go Broncos!\n",
    "Let's see if there were any specific weaknesses in the Broncos' defense."
   ]
  },
  {
   "cell_type": "code",
   "execution_count": 22,
   "metadata": {
    "collapsed": false
   },
   "outputs": [
    {
     "name": "stdout",
     "output_type": "stream",
     "text": [
      "Passing yards: 3576.0\n",
      "Rushing yards: 1345.0\n"
     ]
    }
   ],
   "source": [
    "broncos_def_plays = df[df.DefensiveTeam == \"DEN\"]\n",
    "broncos_def_pass_plays = broncos_def_plays[broncos_def_plays.PlayType == \"Pass\"]\n",
    "broncos_def_rush_plays = broncos_def_plays[broncos_def_plays.PlayType == \"Run\"]\n",
    "\n",
    "print(\"Passing yards: \" + str(broncos_def_pass_plays[\"Yards.Gained\"].sum()))\n",
    "print(\"Rushing yards: \" + str(broncos_def_rush_plays[\"Yards.Gained\"].sum()))"
   ]
  },
  {
   "cell_type": "markdown",
   "metadata": {},
   "source": [
    "It looks like they gave up a lot more passing yards than rushing yards.\n",
    "Let's see what QBs caused the Denver defense the most trouble."
   ]
  },
  {
   "cell_type": "code",
   "execution_count": 23,
   "metadata": {
    "collapsed": false
   },
   "outputs": [
    {
     "data": {
      "text/plain": [
       "Passer\n",
       "P.Rivers            430.0\n",
       "D.Carr              415.0\n",
       "A.Smith             398.0\n",
       "B.Roethlisberger    380.0\n",
       "T.Brady             280.0\n",
       "M.Stafford          280.0\n",
       "T.Bridgewater       269.0\n",
       "J.Cutler            265.0\n",
       "A.Luck              252.0\n",
       "J.McCown            213.0\n",
       "Name: Yards.Gained, dtype: float64"
      ]
     },
     "execution_count": 23,
     "metadata": {},
     "output_type": "execute_result"
    }
   ],
   "source": [
    "pass_plays = df[df.PlayType == \"Pass\"]\n",
    "pass_plays_against_den = pass_plays[pass_plays.DefensiveTeam == \"DEN\"]\n",
    "pass_plays_against_den_grouped = pass_plays_against_den.groupby(\"Passer\")\n",
    "qbs_yards_against_den = pass_plays_against_den_grouped[\"Yards.Gained\"].sum()\n",
    "qbs_yards_against_den.sort_values(inplace=True, ascending=False)\n",
    "qbs_yards_against_den[0:10]"
   ]
  },
  {
   "cell_type": "markdown",
   "metadata": {},
   "source": [
    "It looks like the Raiders' Derek Carr caused a lot of trouble.\n",
    "From this data we can see that when the Broncos play the Raiders, they need to focus more on pass defense.\n",
    "\n",
    "To figure out which Oakland WR Denver should put their best cornerback on, let's see which Oakland receiver was the highest-performing against Denver."
   ]
  },
  {
   "cell_type": "code",
   "execution_count": 24,
   "metadata": {
    "collapsed": false
   },
   "outputs": [
    {
     "data": {
      "text/plain": [
       "Receiver\n",
       "C.Walford     97.0\n",
       "M.Rivera      82.0\n",
       "M.Crabtree    73.0\n",
       "M.Reece       49.0\n",
       "A.Cooper      47.0\n",
       "Name: Yards.Gained, dtype: float64"
      ]
     },
     "execution_count": 24,
     "metadata": {},
     "output_type": "execute_result"
    }
   ],
   "source": [
    "oak_pass_plays_against_den = pass_plays_against_den[pass_plays_against_den.posteam == \"OAK\"]\n",
    "oak_pass_plays_against_den_grouped = oak_pass_plays_against_den.groupby(\"Receiver\")\n",
    "oak_receivers_yards_against_den = oak_pass_plays_against_den_grouped[\"Yards.Gained\"].sum()\n",
    "oak_receivers_yards_against_den.sort_values(inplace=True, ascending=False)\n",
    "oak_receivers_yards_against_den[0:5]"
   ]
  },
  {
   "cell_type": "markdown",
   "metadata": {},
   "source": [
    "M. Rivera and M. Crabtree were the dominant receivers. Going in to the game against Oakland this year, we can expext Denver to put their best cornerbacks on them.\n",
    "\n",
    "But who are their best cornerbacks? We can best judge that by ranking Denver cornerbacks by interception counts."
   ]
  },
  {
   "cell_type": "code",
   "execution_count": 25,
   "metadata": {
    "collapsed": false
   },
   "outputs": [
    {
     "data": {
      "text/plain": [
       "Interceptor\n",
       "A.Talib        3\n",
       "D.Trevathan    2\n",
       "Name: Interceptor, dtype: int64"
      ]
     },
     "execution_count": 25,
     "metadata": {},
     "output_type": "execute_result"
    }
   ],
   "source": [
    "denver_interceptions = pass_plays_against_den[pass_plays_against_den.InterceptionThrown == 1]\n",
    "denver_interceptions_grouped = denver_interceptions.groupby(\"Interceptor\")\n",
    "denver_cornerback_interceptions = denver_interceptions_grouped.Interceptor.count()\n",
    "denver_cornerback_interceptions_sorted = denver_cornerback_interceptions.sort_values(ascending=False)\n",
    "\n",
    "denver_cornerback_interceptions_sorted[0:2]"
   ]
  },
  {
   "cell_type": "markdown",
   "metadata": {},
   "source": [
    "The Broncos' top choices to cover M. Rivera and M. Crabtree, therefore, are A. Talib and D. Trevathan"
   ]
  },
  {
   "cell_type": "code",
   "execution_count": null,
   "metadata": {
    "collapsed": true
   },
   "outputs": [],
   "source": []
  }
 ],
 "metadata": {
  "anaconda-cloud": {},
  "kernelspec": {
   "display_name": "Python [Root]",
   "language": "python",
   "name": "Python [Root]"
  },
  "language_info": {
   "codemirror_mode": {
    "name": "ipython",
    "version": 3
   },
   "file_extension": ".py",
   "mimetype": "text/x-python",
   "name": "python",
   "nbconvert_exporter": "python",
   "pygments_lexer": "ipython3",
   "version": "3.5.2"
  }
 },
 "nbformat": 4,
 "nbformat_minor": 0
}
