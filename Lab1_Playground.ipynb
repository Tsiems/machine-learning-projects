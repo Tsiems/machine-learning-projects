{
 "cells": [
  {
   "cell_type": "markdown",
   "metadata": {
    "collapsed": true
   },
   "source": [
    "## Data Loading and Preprocessing"
   ]
  },
  {
   "cell_type": "markdown",
   "metadata": {},
   "source": [
    "To begin, we load the data into a Pandas data frame from a csv file."
   ]
  },
  {
   "cell_type": "code",
   "execution_count": null,
   "metadata": {
    "collapsed": false
   },
   "outputs": [],
   "source": [
    "import pandas as pd\n",
    "import numpy as np\n",
    "\n",
    "df = pd.read_csv('data/data.csv') # read in the csv file"
   ]
  },
  {
   "cell_type": "markdown",
   "metadata": {},
   "source": [
    "Let's take a cursory glance at the data to see what we're working with."
   ]
  },
  {
   "cell_type": "code",
   "execution_count": null,
   "metadata": {
    "collapsed": false
   },
   "outputs": [],
   "source": [
    "df.head()"
   ]
  },
  {
   "cell_type": "markdown",
   "metadata": {},
   "source": [
    "There's a lot of data that we don't care about. For example, 'PassAttempt' is a binary attribute, but there's also an attribute called 'PlayType' which is set to 'Pass' for a passing play.\n",
    "\n",
    "We define a list of the columns which we're not interested in, and then we delete them"
   ]
  },
  {
   "cell_type": "code",
   "execution_count": null,
   "metadata": {
    "collapsed": true
   },
   "outputs": [],
   "source": [
    "columns_to_delete = ['Unnamed: 0', 'Date', 'time', 'TimeUnder', \n",
    "                     'PosTeamScore', 'PassAttempt', 'RushAttempt', \n",
    "                     'DefTeamScore', 'Season', 'PlayAttempted']\n",
    "\n",
    "#Iterate through and delete the columns we don't want\n",
    "for col in columns_to_delete:\n",
    "    if col in df:\n",
    "        del df[col]"
   ]
  },
  {
   "cell_type": "markdown",
   "metadata": {},
   "source": [
    "We can then grab a list of the remaining column names"
   ]
  },
  {
   "cell_type": "code",
   "execution_count": null,
   "metadata": {
    "collapsed": false
   },
   "outputs": [],
   "source": [
    "df.columns"
   ]
  },
  {
   "cell_type": "markdown",
   "metadata": {},
   "source": [
    "Temporary simple data replacement so that we can cast to integers (instead of objects)"
   ]
  },
  {
   "cell_type": "code",
   "execution_count": null,
   "metadata": {
    "collapsed": false
   },
   "outputs": [],
   "source": [
    "df = df.replace(to_replace=np.nan,value=-1)"
   ]
  },
  {
   "cell_type": "markdown",
   "metadata": {},
   "source": [
    "At this point, lots of things are encoded as objects, or with excesively large data types"
   ]
  },
  {
   "cell_type": "code",
   "execution_count": null,
   "metadata": {
    "collapsed": false
   },
   "outputs": [],
   "source": [
    "df.info()"
   ]
  },
  {
   "cell_type": "markdown",
   "metadata": {},
   "source": [
    "We define four lists based on the types of features we're using.\n",
    "Binary features are separated from the other categorical features so that they can be stored in less space"
   ]
  },
  {
   "cell_type": "code",
   "execution_count": null,
   "metadata": {
    "collapsed": false
   },
   "outputs": [],
   "source": [
    "continuous_features = ['TimeSecs', 'PlayTimeDiff', 'yrdln', 'yrdline100',\n",
    "                       'ydstogo', 'ydsnet', 'Yards.Gained', 'Penalty.Yards',\n",
    "                       'ScoreDiff', 'AbsScoreDiff']\n",
    "\n",
    "ordinal_features = ['Drive', 'qtr', 'down']\n",
    "binary_features = ['GoalToGo', 'FirstDown','sp', 'Touchdown', 'Safety', 'Fumble']\n",
    "categorical_features = df.columns.difference(continuous_features).difference(ordinal_features)"
   ]
  },
  {
   "cell_type": "markdown",
   "metadata": {},
   "source": [
    "We then cast all of the columns to the appropriate underlying data types"
   ]
  },
  {
   "cell_type": "code",
   "execution_count": null,
   "metadata": {
    "collapsed": false
   },
   "outputs": [],
   "source": [
    "df[continuous_features] = df[continuous_features].astype(np.float64)\n",
    "df[ordinal_features] = df[ordinal_features].astype(np.int64)\n",
    "df[binary_features] = df[binary_features].astype(np.int8)"
   ]
  },
  {
   "cell_type": "markdown",
   "metadata": {},
   "source": [
    "THIS IS SOME MORE REFORMATTING SHIT I'M DOING FOR NOW. PROLLY GONNA KEEP IT"
   ]
  },
  {
   "cell_type": "code",
   "execution_count": null,
   "metadata": {
    "collapsed": true
   },
   "outputs": [],
   "source": [
    "df['PassOutcome'].replace(['Complete', 'Incomplete Pass'], [1, 0], inplace=True)"
   ]
  },
  {
   "cell_type": "markdown",
   "metadata": {},
   "source": [
    "Now all of the objects are encoded the way we'd like them to be"
   ]
  },
  {
   "cell_type": "code",
   "execution_count": null,
   "metadata": {
    "collapsed": false
   },
   "outputs": [],
   "source": [
    "df.info()"
   ]
  },
  {
   "cell_type": "markdown",
   "metadata": {},
   "source": [
    "Now we can start to take a look at what's in each of our columns"
   ]
  },
  {
   "cell_type": "code",
   "execution_count": null,
   "metadata": {
    "collapsed": false
   },
   "outputs": [],
   "source": [
    "df.describe()"
   ]
  },
  {
   "cell_type": "code",
   "execution_count": null,
   "metadata": {
    "collapsed": true
   },
   "outputs": [],
   "source": [
    "import matplotlib.pyplot as plt\n",
    "import warnings\n",
    "warnings.simplefilter('ignore', DeprecationWarning)\n",
    "#Embed figures in the Jupyter Notebook\n",
    "%matplotlib inline\n",
    "\n",
    "#Use GGPlot style for matplotlib\n",
    "plt.style.use('ggplot')"
   ]
  },
  {
   "cell_type": "code",
   "execution_count": null,
   "metadata": {
    "collapsed": false
   },
   "outputs": [],
   "source": [
    "pass_plays = df[df['PlayType'] == \"Pass\"]\n",
    "pass_plays_grouped = pass_plays.groupby(by=['Passer'])"
   ]
  },
  {
   "cell_type": "markdown",
   "metadata": {},
   "source": [
    "We can take a random sample of passers and show their completion rate:"
   ]
  },
  {
   "cell_type": "code",
   "execution_count": null,
   "metadata": {
    "collapsed": false
   },
   "outputs": [],
   "source": [
    "completion_rate = pass_plays_grouped.PassOutcome.sum() / pass_plays_grouped.PassOutcome.count()\n",
    "completion_rate_sampled = completion_rate.sample(10)\n",
    "completion_rate_sampled.sort_values(inplace=True)\n",
    "completion_rate_sampled.plot(kind='barh')"
   ]
  },
  {
   "cell_type": "markdown",
   "metadata": {},
   "source": [
    "We can also group by both passer and receiver, to check for highly effective QB-Receiver combos."
   ]
  },
  {
   "cell_type": "code",
   "execution_count": null,
   "metadata": {
    "collapsed": false
   },
   "outputs": [],
   "source": [
    "pass_plays_grouped = pass_plays.groupby(by=['Passer', 'Receiver'])\n",
    "completion_rate = pass_plays_grouped.PassOutcome.sum() / pass_plays_grouped.PassOutcome.count()\n",
    "completion_rate_sampled = completion_rate.sample(10)\n",
    "completion_rate_sampled.sort_values(inplace=True)\n",
    "completion_rate_sampled.plot(kind='barh')"
   ]
  },
  {
   "cell_type": "markdown",
   "metadata": {},
   "source": [
    "We can eliminate combos who didn't have at least 10 receptions together, and then re-sample the data. This will remove noise from QB-receiver combos who have very high or low completion rates because they've played very little together."
   ]
  },
  {
   "cell_type": "code",
   "execution_count": null,
   "metadata": {
    "collapsed": false
   },
   "outputs": [],
   "source": [
    "pass_plays_grouped_filtered = pass_plays_grouped.filter(lambda g: len(g)>10).groupby(by=['Passer', 'Receiver'])\n",
    "completion_rate = pass_plays_grouped_filtered.PassOutcome.sum() / pass_plays_grouped_filtered.PassOutcome.count()\n",
    "completion_rate_sampled = completion_rate.sample(10)\n",
    "completion_rate_sampled.sort_values(inplace=True)\n",
    "completion_rate_sampled.plot(kind='barh')"
   ]
  },
  {
   "cell_type": "markdown",
   "metadata": {},
   "source": [
    "We can also extract the highest-completion percentage combos.\n",
    "Here we take the top-10 most reliable QB-receiver pairs."
   ]
  },
  {
   "cell_type": "code",
   "execution_count": null,
   "metadata": {
    "collapsed": false
   },
   "outputs": [],
   "source": [
    "completion_rate.sort_values(inplace=True, ascending = False)\n",
    "completion_rate = pd.Series(completion_rate)\n",
    "completion_rate[0:10]"
   ]
  },
  {
   "cell_type": "markdown",
   "metadata": {
    "collapsed": true
   },
   "source": [
    "Next, let's find the top ten rushers based on yards-per-carry (only for rushers who have more than 10 carries)"
   ]
  },
  {
   "cell_type": "code",
   "execution_count": null,
   "metadata": {
    "collapsed": false
   },
   "outputs": [],
   "source": [
    "rush_plays = df[(df.Rusher != -1)]\n",
    "rush_plays_grouped = rush_plays.groupby(by=['Rusher']).filter(lambda g: len(g) > 10).groupby(by=[\"Rusher\"])"
   ]
  },
  {
   "cell_type": "code",
   "execution_count": null,
   "metadata": {
    "collapsed": false
   },
   "outputs": [],
   "source": [
    "yards_per_carry = rush_plays_grouped[\"Yards.Gained\"].sum() / rush_plays_grouped[\"Yards.Gained\"].count()\n",
    "yards_per_carry.sort_values(inplace=True, ascending=False)\n",
    "yards_per_carry[0:10]"
   ]
  },
  {
   "cell_type": "markdown",
   "metadata": {
    "collapsed": false
   },
   "source": [
    "Now let's take a look at defenses. Which defenses allowed the fewest overall yards?"
   ]
  },
  {
   "cell_type": "code",
   "execution_count": null,
   "metadata": {
    "collapsed": false
   },
   "outputs": [],
   "source": [
    "def_play_groups = df.groupby(\"DefensiveTeam\")"
   ]
  },
  {
   "cell_type": "code",
   "execution_count": null,
   "metadata": {
    "collapsed": false
   },
   "outputs": [],
   "source": [
    "def_yards_allowed = def_play_groups[\"Yards.Gained\"].sum()\n",
    "def_yards_allowed.sort_values(inplace=True)\n",
    "def_yards_allowed[1:10]"
   ]
  },
  {
   "cell_type": "markdown",
   "metadata": {},
   "source": [
    "It looks like the Denver Broncos allowed the fewest yards overall. Go Broncos!\n",
    "Let's see if there were any specific weaknesses in the Broncos' defense."
   ]
  },
  {
   "cell_type": "code",
   "execution_count": null,
   "metadata": {
    "collapsed": false
   },
   "outputs": [],
   "source": [
    "broncos_def_plays = df[df.DefensiveTeam == \"DEN\"]\n",
    "broncos_def_pass_plays = broncos_def_plays[broncos_def_plays.PlayType == \"Pass\"]\n",
    "broncos_def_rush_plays = broncos_def_plays[broncos_def_plays.PlayType == \"Run\"]\n",
    "\n",
    "print(\"Passing yards: \" + str(broncos_def_pass_plays[\"Yards.Gained\"].sum()))\n",
    "print(\"Rushing yards: \" + str(broncos_def_rush_plays[\"Yards.Gained\"].sum()))"
   ]
  },
  {
   "cell_type": "markdown",
   "metadata": {},
   "source": [
    "It looks like they gave up a lot more passing yards than rushing yards.\n",
    "Let's see what QBs caused the Denver defense the most trouble."
   ]
  },
  {
   "cell_type": "code",
   "execution_count": null,
   "metadata": {
    "collapsed": false
   },
   "outputs": [],
   "source": [
    "pass_plays = df[df.PlayType == \"Pass\"]\n",
    "pass_plays_against_den = pass_plays[pass_plays.DefensiveTeam == \"DEN\"]\n",
    "pass_plays_against_den_grouped = pass_plays_against_den.groupby(\"Passer\")\n",
    "qbs_yards_against_den = pass_plays_against_den_grouped[\"Yards.Gained\"].sum()\n",
    "qbs_yards_against_den.sort_values(inplace=True, ascending=False)\n",
    "qbs_yards_against_den[0:10]"
   ]
  },
  {
   "cell_type": "markdown",
   "metadata": {},
   "source": [
    "It looks like the Raiders' Derek Carr caused a lot of trouble.\n",
    "From this data we can see that when the Broncos play the Raiders, they need to focus more on pass defense.\n",
    "\n",
    "To figure out which Oakland WR Denver should put their best cornerback on, let's see which Oakland receiver was the highest-performing against Denver."
   ]
  },
  {
   "cell_type": "code",
   "execution_count": null,
   "metadata": {
    "collapsed": false
   },
   "outputs": [],
   "source": [
    "oak_pass_plays_against_den = pass_plays_against_den[pass_plays_against_den.posteam == \"OAK\"]\n",
    "oak_pass_plays_against_den_grouped = oak_pass_plays_against_den.groupby(\"Receiver\")\n",
    "oak_receivers_yards_against_den = oak_pass_plays_against_den_grouped[\"Yards.Gained\"].sum()\n",
    "oak_receivers_yards_against_den.sort_values(inplace=True, ascending=False)\n",
    "oak_receivers_yards_against_den[0:5]"
   ]
  },
  {
   "cell_type": "markdown",
   "metadata": {},
   "source": [
    "M. Rivera and M. Crabtree were the dominant receivers. Going in to the game against Oakland this year, we can expext Denver to put their best cornerbacks on them.\n",
    "\n",
    "But who are their best cornerbacks? We can best judge that by ranking Denver cornerbacks by interception counts."
   ]
  },
  {
   "cell_type": "code",
   "execution_count": null,
   "metadata": {
    "collapsed": false
   },
   "outputs": [],
   "source": [
    "denver_interceptions = pass_plays_against_den[pass_plays_against_den.InterceptionThrown == 1]\n",
    "denver_interceptions_grouped = denver_interceptions.groupby(\"Interceptor\")\n",
    "denver_cornerback_interceptions = denver_interceptions_grouped.Interceptor.count()\n",
    "denver_cornerback_interceptions_sorted = denver_cornerback_interceptions.sort_values(ascending=False)\n",
    "\n",
    "denver_cornerback_interceptions_sorted[0:2]"
   ]
  },
  {
   "cell_type": "markdown",
   "metadata": {},
   "source": [
    "The Broncos' top choices to cover M. Rivera and M. Crabtree, therefore, are A. Talib and D. Trevathan"
   ]
  },
  {
   "cell_type": "code",
   "execution_count": null,
   "metadata": {
    "collapsed": true
   },
   "outputs": [],
   "source": []
  }
 ],
 "metadata": {
  "anaconda-cloud": {},
  "kernelspec": {
   "display_name": "Python [Root]",
   "language": "python",
   "name": "Python [Root]"
  },
  "language_info": {
   "codemirror_mode": {
    "name": "ipython",
    "version": 3
   },
   "file_extension": ".py",
   "mimetype": "text/x-python",
   "name": "python",
   "nbconvert_exporter": "python",
   "pygments_lexer": "ipython3",
   "version": "3.5.2"
  }
 },
 "nbformat": 4,
 "nbformat_minor": 0
}
