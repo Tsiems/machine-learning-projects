{
 "cells": [
  {
   "cell_type": "markdown",
   "metadata": {},
   "source": [
    "# Exploring NFL Play-By-Play Data"
   ]
  },
  {
   "cell_type": "markdown",
   "metadata": {},
   "source": [
    "### Ian Johnson, Derek Phanekham, Travis Siems"
   ]
  },
  {
   "cell_type": "markdown",
   "metadata": {},
   "source": [
    "## Introduction"
   ]
  },
  {
   "cell_type": "markdown",
   "metadata": {},
   "source": [
    "The NFL (National Football League) has 32 teams split into two conferences, the AFC and NFC. Each of the 32 teams plays 16 games during the regular season (non-playoff season) every year. Due to the considerable viewership of American football, as well as the pervasiveness of fantasy football, considerable data about the game is collected. During the 2015-2016 season, information about every play from each game that occurred was logged. All of that data was consolidated into a single data set which is analyzed throughout this report."
   ]
  },
  {
   "cell_type": "markdown",
   "metadata": {},
   "source": [
    "## Business Understanding"
   ]
  },
  {
   "cell_type": "markdown",
   "metadata": {},
   "source": [
    "* [10 points] Give an overview of the dataset and the analyses you will be performing. What is your plan for analyzing the data and why? This section is easiest to write as a planning phase for the assignment. \n",
    "\n",
    "### Motivations and Intended Analyses"
   ]
  },
  {
   "cell_type": "markdown",
   "metadata": {},
   "source": [
    "The data being used for analysis is a table of 63 attributes for 46,129 rows (plays). The data will be analyzed to identify two potential insights. The first goal, motivated by the prevalance of fantasy football, is to identify players who perform exceptionally well, and specifically to identify in what situations a player excels. The second goal, motivated by the need for coaching insights, is to produce situationally-aware metrics for the potential success of a play. For example: given a field location, score differential, team, and time, identify what type of play is most likely to be successful. "
   ]
  },
  {
   "cell_type": "markdown",
   "metadata": {},
   "source": [
    "#### Player Performance Insights"
   ]
  },
  {
   "cell_type": "markdown",
   "metadata": {},
   "source": [
    "Two forms of player performance analysis are relevant for fantasy football and general player performance evaluation. The first is a novel analysis, wherein all players of a certain position are ranked based on their performance at that position. This analysis can provide insight into identifying which players are most valueable for a fantasy team. The second is player-to-player comparison. Fantasy players are often faced with a decision of which player to play on their fantasy team in any given week. They must choose between players based on their individual player performances, as well as their matchups for the week. Consider a situation where player A is individually superior to player B, but player B is facing a team whose defense is very weak, while player A is facing a team whose defense is strong. Which player is expected to outperform the other? This question can be answered by analyzing the performance of each individual player against their respective opponents."
   ]
  },
  {
   "cell_type": "markdown",
   "metadata": {},
   "source": [
    "#### Play-Calling Optimization"
   ]
  },
  {
   "cell_type": "markdown",
   "metadata": {},
   "source": [
    "Offensive play-calling is a very difficult task, and is often a cause of error for teams and coaches. Providing a data-informed situational understanding of the probable outcomes of certain types of plays could help inform coaches' play-calling. Analyzing the statistical outcomes of play-calls can be done on  a league-wide, per-team, or per-matchup basis. As the analysis becomes more specific (narrowing down to a specific team, or a specific matchup of two teams), the relevance of the analysis increases, but so does the margin of error."
   ]
  },
  {
   "cell_type": "markdown",
   "metadata": {},
   "source": [
    "* [10 points] Describe the purpose of the data set you selected (i.e., why was this data collected in the first place?). Why is this data important and how will you know if you have mined useful knowledge from the dataset? How would you measure the effectiveness of a good learning algorithm in terms of its business use? Be specific.\n",
    "\n",
    "### Data Purpose and Performance Metrics"
   ]
  },
  {
   "cell_type": "markdown",
   "metadata": {},
   "source": [
    "The vast amount of money, pride, and time involved in NFL football is profound. It is for that reason that the play-by-play data was gathered in the first place. The intent of analyzing the data is to identify trends or statistics which can meaningfully influence the decisions made by coaches and It is important to define a metric by which the results of any analyses will be measured. Since two main forms of analysis will occur, two performance metrics must be defined."
   ]
  },
  {
   "cell_type": "markdown",
   "metadata": {},
   "source": [
    "#### Metrics for Player Performance Insights"
   ]
  },
  {
   "cell_type": "markdown",
   "metadata": {},
   "source": [
    "Any meaningful player performance analysis must include a novel look at season-long player performance. For a running back, for example, total carries, yards, and touchdowns must be calculated. However, this novel analysis is simply a baseline. In order for a player performance analysis to be considered effective or meaningful, specific trends must be identified for that player which do not appear during routine stat summaries. For example, for a running back, a meaningful and effective analysis may conclude that the player in question performs significantly better when playing against teams whose defenses are very strong against passing plays, or that he performs significantly better when playing away, as opposed to at home."
   ]
  },
  {
   "cell_type": "markdown",
   "metadata": {},
   "source": [
    "#### Metrics for Play-Calling Optimization"
   ]
  },
  {
   "cell_type": "markdown",
   "metadata": {},
   "source": [
    "In order to effectively inform offensive play-calling, play-call analysis must discover trends which identify, for a given game scenario, play calls which have statistically significantly higher probable yardage outcomes than other play calls. For example, given a scenario where an offense is down by 14 points in the 3rd quarter, on their own 35 yard line, an effective play-call analysis would be one that identified that a run play would produce statistically significantly more yardarge than a passing play.\n",
    "\n",
    "Play-calling optimization could also be effective in a generalized scenario. For example, an effective analysis may reveal that offenses have the most success with running up the middle of the offensive line when near the goal line, but have more success with runs to the outside when nearer to the middle of the field. "
   ]
  },
  {
   "cell_type": "markdown",
   "metadata": {},
   "source": [
    "## Data Understanding"
   ]
  },
  {
   "cell_type": "markdown",
   "metadata": {},
   "source": [
    "* [10 points] Describe the meaning and type of data (scale, values, etc.) for each attribute in the data file. \n",
    "\n",
    "### Data Attributes\n",
    "\n",
    "The following are descriptions of the data attributes from the play-by-play data which will be considered in the analysis of the dataset."
   ]
  },
  {
   "cell_type": "markdown",
   "metadata": {},
   "source": [
    "* **GameID** (*nominal*): A unique integer which identifies each game played \n",
    "* **Drive** (*ordinal*): The number of the drive during a game when the play occured (indexed at one, so the first drive of the game has Drive 1 and the nth drive has Drive n)\n",
    "* **qtr** (*interval*): The quarter of the game when the play occured\n",
    "* **down** (*interval*): The down when the play occured (1st, 2nd, 3rd, or 4th)\n",
    "* **TimeSecs** (*interval*): The remaining game time, in seconds, when the play began\n",
    "* **PlayTimeDiff**: The amount of time that passed between the beginning of the previous play and the beginning of the current play, in seconds\n",
    "* **SideofField** (*nominal*): What side of the field the play started on (the 2-or-3 character code for the team whose defensive end zone is nearest to the ball at the start of the play)\n",
    "* **yrdln** (*continuous*): The yard-line on the field where the play started (from 0-50)\n",
    "* **yrdline100** (*continuous*): The absolute yard-line on the field where the play started (from 0 to 100, where 0 is the defensive end zone and 100 is the offensive end zone of the team with the ball)\n",
    "* **ydstogo** (*continuous*): The number of yards from the line of scrimmage to the first-down line\n",
    "* **ydsnet** (*continuous*): The number of yards from the beginning of the drive to the current line of scrimmage\n",
    "* **GoalToGo** (*nominal*): A binary attribute whose value is 1 if there is no first down line (the end-zone is the first down line) or 0 if there is a normal first down line\n",
    "* **FirstDown** (*nominal*): A binary attribute whose value is 1 if a first down was gained on the play, or 0 if no first down occurred\n",
    "* **posteam** (*nominal*): A 2-or-3 character code representing the team on offense\n",
    "* **DefensiveTeam** (*nominal*): A 2-or-3 character code representing the team on defense\n",
    "* **desc** (*nominal*): A plain-english text description of the play\n",
    "* **Yards.Gained** (*continuous*): The number of yards gained on the play\n",
    "* **sp** (*nominal*): A binary attribute whose value is 1 if the play was a scoring play, or 0 if the play was not a scoring play\n",
    "* **Touchdown** (*nominal*): A binary attribute whose value is 1 if a touchdown was scored on the play, or 0 if a touchdown was not scored on the play\n",
    "* **ExPointResult** (*nominal*): A binary attribute whose value is 1 if an extra point was scored on the play, or 0 if an extra point was not scored on the play\n",
    "* **TwoPointConv**: Description\n",
    "* **DefTwoPoint**: Description\n",
    "* **Safety**: Description\n",
    "* **PlayType**: Description\n",
    "* **Passer**: Description\n",
    "* **PassOutcome**: Description\n",
    "* **PassLength**: Description\n",
    "* **PassLocation**: Description\n",
    "* **InterceptionThrown**: Description\n",
    "* **Interceptor**: Description\n",
    "* **Rusher**: Description\n",
    "* **RunLocation**: Description\n",
    "* **RunGap**: Description\n",
    "* **Receiver**: Description\n",
    "* **Reception**: Description\n",
    "* **ReturnResult**: Description\n",
    "* **Returner**: Description\n",
    "* **Tackler1**: Description\n",
    "* **Tackler2**: Description\n",
    "* **FieldGoalResult**: Description\n",
    "* **FieldGoalDistance**: Description\n",
    "* **Fumble**: Description\n",
    "* **RecFumbTeam**: Description\n",
    "* **RecFumbPlayer**: Description\n",
    "* **Sack**: Description\n",
    "* **Challenge.Replay**: Description\n",
    "* **ChalReplayResult**: Description\n",
    "* **Accepted.Penalty**: Description\n",
    "* **PenalizedTeam**: Description\n",
    "* **PenaltyType**: Description\n",
    "* **PenalizedPlayer**: Description\n",
    "* **Penalty.Yards**: Description\n",
    "* **ScoreDiff**: Description\n",
    "* **AbsScoreDiff**: Description"
   ]
  },
  {
   "cell_type": "markdown",
   "metadata": {},
   "source": [
    "* [15 points] Verify data quality: Explain any missing values, duplicate data, and outliers. Are those mistakes? How do you deal with these problems? Give justifications for your methods (elimination or imputation).\n",
    "\n",
    "### Data Quality"
   ]
  },
  {
   "cell_type": "markdown",
   "metadata": {},
   "source": [
    "#### Loading the Data\n",
    "\n",
    "Before data quality can be assessed, the data must be loaded into memory and extraneous attributes must be removed."
   ]
  },
  {
   "cell_type": "code",
   "execution_count": null,
   "metadata": {
    "collapsed": false
   },
   "outputs": [],
   "source": [
    "#Libraries used for data analysis\n",
    "import pandas as pd\n",
    "import numpy as np\n",
    "\n",
    "df = pd.read_csv('data/data.csv') # read in the csv file\n",
    "\n",
    "#List of attributes which aren't going to be used for analysis\n",
    "columns_to_delete = ['Unnamed: 0', 'Date', 'time', 'TimeUnder', \n",
    "                     'PosTeamScore', 'PassAttempt', 'RushAttempt', \n",
    "                     'DefTeamScore', 'Season', 'PlayAttempted']\n",
    "\n",
    "#Iterate through and delete the columns we don't want\n",
    "for col in columns_to_delete:\n",
    "    if col in df:\n",
    "        del df[col]"
   ]
  },
  {
   "cell_type": "markdown",
   "metadata": {},
   "source": [
    "#### Missing Data\n",
    "Missing data needs to be identified and either removed or imputed.\n",
    "\n",
    "For many columns, there is intentionally missing data (for example, the \"Interceptor\" column is N/A when no interception was thrown).\n",
    "\n",
    "In order to help identify missing data, the attributes will be labeled as continuous, ordinal, binary, or categorical, and each scale of data will be imputed on its own."
   ]
  },
  {
   "cell_type": "code",
   "execution_count": null,
   "metadata": {
    "collapsed": false
   },
   "outputs": [],
   "source": [
    "#Defining list of column names of each of the scales of variables being used.\n",
    "#Interval and Ratio features are grouped together, and binary features are separated from other ordinal features\n",
    "continuous_features = ['TimeSecs', 'PlayTimeDiff', 'yrdln', 'yrdline100',\n",
    "                       'ydstogo', 'ydsnet', 'Yards.Gained', 'Penalty.Yards',\n",
    "                       'ScoreDiff', 'AbsScoreDiff']\n",
    "ordinal_features = ['Drive', 'qtr', 'down']\n",
    "binary_features = ['GoalToGo', 'FirstDown','sp', 'Touchdown', 'Safety', 'Fumble']\n",
    "categorical_features = df.columns.difference(continuous_features).difference(ordinal_features)"
   ]
  },
  {
   "cell_type": "markdown",
   "metadata": {},
   "source": [
    "##### Missing Data for Categorical Features\n",
    "\n",
    "First, the categorical features will be examined for missing data. Only three categorical columns have missing data: FieldGoalDistance, FirstDown, and GoalToGo. For each of these attributes, missing data represents plays where the attribute does not apply. FieldGoalDistance is set to NaN when no field goal occurs, and GoalToGo and FirstDown are set to NaN when the play is not an n-th down play (i.e. it's a kickoff or an extra point). Because these attributes are not meaningful for plays where they are set to NaN, it is acceptable to leave the missing data in those columns as NaN, as rows with NaN will be excluded from analysis related to those attributes. (For instance, to analyze field goal plays, it's completely reasonable to exclude all plays where no field goal attempt was made)."
   ]
  },
  {
   "cell_type": "markdown",
   "metadata": {},
   "source": [
    "##### Missing Data for Ordinal Features\n",
    "\n",
    "Next, the ordinal features will be examined for missing data. The only column with missing data in this scale is down. Down is set to NaN for plays which are not an n-th down plays, so no data imputation or deletion need occur."
   ]
  },
  {
   "cell_type": "markdown",
   "metadata": {},
   "source": [
    "##### Missing Data for Binary Features\n",
    "\n",
    "Next, the binary features will be examined for missing data. The only columns with missing data in this scale are GoalToGo and FirstDown. Those two features are set to NaN for plays which are not n-th down plays, so no data imputation or deletion need occur."
   ]
  },
  {
   "cell_type": "markdown",
   "metadata": {},
   "source": [
    "##### Missing Data for Continuous Features\n",
    "\n",
    "Finally, the continuous features will be examined for missing data. The continuous variables will be checked for missing data one-by-one, and imputation or deletion will occur on an attribute-by-attribute basis.\n",
    "\n",
    "First, the dataset will be examined to see which columns include NaN values."
   ]
  },
  {
   "cell_type": "code",
   "execution_count": null,
   "metadata": {
    "collapsed": false
   },
   "outputs": [],
   "source": [
    "df[continuous_features].describe()"
   ]
  },
  {
   "cell_type": "markdown",
   "metadata": {},
   "source": [
    "There are many plays in the dataset which are placeholder rows which represent the end of a quarter, half, or game. Many of these plays have NA values for a number of continuous attributes. All of these plays will be removed from the dataset, as they don't represent actual plays that occurred on the field."
   ]
  },
  {
   "cell_type": "code",
   "execution_count": null,
   "metadata": {
    "collapsed": false
   },
   "outputs": [],
   "source": [
    "df = df[[\"end\" != x[0:3].lower() for x in df.desc]]\n",
    "df[continuous_features].describe()"
   ]
  },
  {
   "cell_type": "markdown",
   "metadata": {},
   "source": [
    "Removing the \"End of *something*\" plays eliminates all NaN values for TimeSecs and PlayTimeDiff\n",
    "\n",
    "The remaining continuous attributes with NaN columns will be evaluated one-by-one and imputation or deletion will occur on an attribute-by-attribute basis. \n",
    "\n",
    "The remaining missing attributes are all caused by TimeOut plays or Two-Minute-Warning plays. Because these rows are not actual plays, they can be deleted from the dataset."
   ]
  },
  {
   "cell_type": "code",
   "execution_count": null,
   "metadata": {
    "collapsed": false
   },
   "outputs": [],
   "source": [
    "# Remove rows representing Timeouts and Two-Minute-Warnings\n",
    "df = df[[play not in [\"Timeout\", \"Two Minute Warning\"] for play in df.PlayType]]"
   ]
  },
  {
   "cell_type": "markdown",
   "metadata": {},
   "source": [
    "Removing the timeouts and two-minute-warnings removes all remaining NaN values from the continuous feature set."
   ]
  },
  {
   "cell_type": "code",
   "execution_count": null,
   "metadata": {
    "collapsed": false
   },
   "outputs": [],
   "source": [
    "df[continuous_features].describe()"
   ]
  },
  {
   "cell_type": "markdown",
   "metadata": {},
   "source": [
    "Now that NaN values have been removed, columns can be coerced to the correct encoding for their data type. However, because NaNs exist in the data, some columns can not be coerced into numeric representations. In order to allow for coercion to numeric representations, NaN values will be replaced with -1. The value -1 will only exist in categorical and ordinal features, so it will not skew the data in the continuous columns. "
   ]
  },
  {
   "cell_type": "code",
   "execution_count": null,
   "metadata": {
    "collapsed": false
   },
   "outputs": [],
   "source": [
    "#Replace NaNs in categorical and ordinal columns with -1\n",
    "df = df.replace(to_replace=np.nan,value=-1)\n",
    "\n",
    "#Coercing the data columns to the correct types\n",
    "df[continuous_features] = df[continuous_features].astype(np.float64)\n",
    "df[ordinal_features] = df[ordinal_features].astype(np.int64)\n",
    "df[binary_features] = df[binary_features].astype(np.int8)"
   ]
  },
  {
   "cell_type": "markdown",
   "metadata": {},
   "source": [
    "#### Dataset After Missing Data Removal\n",
    "\n",
    "After deleting missing data (rows for end of play and timeouts/two-minute warnings), 42867 of the 46128 original play rows remain in the data set. (About 93% of the data). The 7% of rows that were eliminated were not relevant to the analyses in this report, so the loss of those rows is acceptable. \n",
    "\n",
    "In addition, the removal and re-encoding of data reduced the dataset's size in memory from 22.5MB to 16.3MB, a decrease in memory expense of over 25%."
   ]
  },
  {
   "cell_type": "code",
   "execution_count": 148,
   "metadata": {
    "collapsed": false
   },
   "outputs": [
    {
     "name": "stdout",
     "output_type": "stream",
     "text": [
      "<class 'pandas.core.frame.DataFrame'>\n",
      "Int64Index: 42876 entries, 0 to 46128\n",
      "Data columns (total 54 columns):\n",
      "GameID                42876 non-null int64\n",
      "Drive                 42876 non-null int64\n",
      "qtr                   42876 non-null int64\n",
      "down                  42876 non-null int64\n",
      "TimeSecs              42876 non-null float64\n",
      "PlayTimeDiff          42876 non-null float64\n",
      "SideofField           42876 non-null object\n",
      "yrdln                 42876 non-null float64\n",
      "yrdline100            42876 non-null float64\n",
      "ydstogo               42876 non-null float64\n",
      "ydsnet                42876 non-null float64\n",
      "GoalToGo              42876 non-null int8\n",
      "FirstDown             42876 non-null int8\n",
      "posteam               42876 non-null object\n",
      "DefensiveTeam         42876 non-null object\n",
      "desc                  42876 non-null object\n",
      "Yards.Gained          42876 non-null float64\n",
      "sp                    42876 non-null int8\n",
      "Touchdown             42876 non-null int8\n",
      "ExPointResult         42876 non-null object\n",
      "TwoPointConv          42876 non-null object\n",
      "DefTwoPoint           42876 non-null object\n",
      "Safety                42876 non-null int8\n",
      "PlayType              42876 non-null object\n",
      "Passer                42876 non-null object\n",
      "PassOutcome           42876 non-null object\n",
      "PassLength            42876 non-null object\n",
      "PassLocation          42876 non-null object\n",
      "InterceptionThrown    42876 non-null int64\n",
      "Interceptor           42876 non-null object\n",
      "Rusher                42876 non-null object\n",
      "RunLocation           42876 non-null object\n",
      "RunGap                42876 non-null object\n",
      "Receiver              42876 non-null object\n",
      "Reception             42876 non-null int64\n",
      "ReturnResult          42876 non-null object\n",
      "Returner              42876 non-null object\n",
      "Tackler1              42876 non-null object\n",
      "Tackler2              42876 non-null object\n",
      "FieldGoalResult       42876 non-null object\n",
      "FieldGoalDistance     42876 non-null float64\n",
      "Fumble                42876 non-null int8\n",
      "RecFumbTeam           42876 non-null object\n",
      "RecFumbPlayer         42876 non-null object\n",
      "Sack                  42876 non-null int64\n",
      "Challenge.Replay      42876 non-null int64\n",
      "ChalReplayResult      42876 non-null object\n",
      "Accepted.Penalty      42876 non-null int64\n",
      "PenalizedTeam         42876 non-null object\n",
      "PenaltyType           42876 non-null object\n",
      "PenalizedPlayer       42876 non-null object\n",
      "Penalty.Yards         42876 non-null float64\n",
      "ScoreDiff             42876 non-null float64\n",
      "AbsScoreDiff          42876 non-null float64\n",
      "dtypes: float64(11), int64(9), int8(6), object(28)\n",
      "memory usage: 16.3+ MB\n"
     ]
    }
   ],
   "source": [
    "df.info()"
   ]
  },
  {
   "cell_type": "markdown",
   "metadata": {},
   "source": [
    "## Data Visualization"
   ]
  },
  {
   "cell_type": "markdown",
   "metadata": {},
   "source": [
    "* [10 points] Visualize appropriate statistics (e.g., range, mode, mean, median, variance, counts) for a subset of attributes. Describe anything meaningful or potentially interesting. Note: You can also use data from other sources for comparison. Explain why the statistics run are  meaningful for the attribute. "
   ]
  },
  {
   "cell_type": "code",
   "execution_count": null,
   "metadata": {
    "collapsed": true
   },
   "outputs": [],
   "source": []
  },
  {
   "cell_type": "markdown",
   "metadata": {},
   "source": [
    "* [15 points] Visualize relationships between interesting attributes: Look at the attributes via scatter plots, correlation, cross-tabulation, group-wise averages, etc. as appropriate. Explain any interesting relationships. Important: Interpret the implications for each visualization. Explain for each attribute why the chosen visualization is appropriate."
   ]
  },
  {
   "cell_type": "markdown",
   "metadata": {},
   "source": [
    "* [15 points] Identify and explain interesting relationships between features and the class you are trying to predict (i.e., relationships with variables and the target classification)."
   ]
  },
  {
   "cell_type": "markdown",
   "metadata": {},
   "source": [
    "* [5 points] Are there other features that could be added to the data or created from existing features?  Which ones? "
   ]
  },
  {
   "cell_type": "code",
   "execution_count": null,
   "metadata": {
    "collapsed": true
   },
   "outputs": [],
   "source": []
  }
 ],
 "metadata": {
  "anaconda-cloud": {},
  "kernelspec": {
   "display_name": "Python [Root]",
   "language": "python",
   "name": "Python [Root]"
  },
  "language_info": {
   "codemirror_mode": {
    "name": "ipython",
    "version": 3
   },
   "file_extension": ".py",
   "mimetype": "text/x-python",
   "name": "python",
   "nbconvert_exporter": "python",
   "pygments_lexer": "ipython3",
   "version": "3.5.2"
  }
 },
 "nbformat": 4,
 "nbformat_minor": 0
}
