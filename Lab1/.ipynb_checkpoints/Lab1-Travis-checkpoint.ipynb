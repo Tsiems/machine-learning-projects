{
 "cells": [
  {
   "cell_type": "markdown",
   "metadata": {},
   "source": [
    "# Lab 1: Exploring NFL Play-By-Play Data"
   ]
  },
  {
   "cell_type": "markdown",
   "metadata": {
    "collapsed": true
   },
   "source": [
    "## Data Loading and Preprocessing"
   ]
  },
  {
   "cell_type": "markdown",
   "metadata": {},
   "source": [
    "To begin, we load the data into a Pandas data frame from a csv file."
   ]
  },
  {
   "cell_type": "code",
   "execution_count": 45,
   "metadata": {
    "collapsed": false
   },
   "outputs": [
    {
     "name": "stderr",
     "output_type": "stream",
     "text": [
      "/Users/travissiems/anaconda/envs/testenv/lib/python3.5/site-packages/IPython/core/interactiveshell.py:2723: DtypeWarning: Columns (26) have mixed types. Specify dtype option on import or set low_memory=False.\n",
      "  interactivity=interactivity, compiler=compiler, result=result)\n"
     ]
    }
   ],
   "source": [
    "import pandas as pd\n",
    "import numpy as np\n",
    "\n",
    "df = pd.read_csv('data/data.csv') # read in the csv file"
   ]
  },
  {
   "cell_type": "markdown",
   "metadata": {},
   "source": [
    "Let's take a cursory glance at the data to see what we're working with."
   ]
  },
  {
   "cell_type": "code",
   "execution_count": 46,
   "metadata": {
    "collapsed": false
   },
   "outputs": [
    {
     "data": {
      "text/html": [
       "<div>\n",
       "<table border=\"1\" class=\"dataframe\">\n",
       "  <thead>\n",
       "    <tr style=\"text-align: right;\">\n",
       "      <th></th>\n",
       "      <th>Unnamed: 0</th>\n",
       "      <th>Date</th>\n",
       "      <th>GameID</th>\n",
       "      <th>Drive</th>\n",
       "      <th>qtr</th>\n",
       "      <th>down</th>\n",
       "      <th>time</th>\n",
       "      <th>TimeUnder</th>\n",
       "      <th>TimeSecs</th>\n",
       "      <th>PlayTimeDiff</th>\n",
       "      <th>...</th>\n",
       "      <th>Accepted.Penalty</th>\n",
       "      <th>PenalizedTeam</th>\n",
       "      <th>PenaltyType</th>\n",
       "      <th>PenalizedPlayer</th>\n",
       "      <th>Penalty.Yards</th>\n",
       "      <th>PosTeamScore</th>\n",
       "      <th>DefTeamScore</th>\n",
       "      <th>ScoreDiff</th>\n",
       "      <th>AbsScoreDiff</th>\n",
       "      <th>Season</th>\n",
       "    </tr>\n",
       "  </thead>\n",
       "  <tbody>\n",
       "    <tr>\n",
       "      <th>0</th>\n",
       "      <td>36</td>\n",
       "      <td>2015-09-10</td>\n",
       "      <td>2015091000</td>\n",
       "      <td>1</td>\n",
       "      <td>1</td>\n",
       "      <td>NaN</td>\n",
       "      <td>15:00</td>\n",
       "      <td>15.0</td>\n",
       "      <td>3600.0</td>\n",
       "      <td>0.0</td>\n",
       "      <td>...</td>\n",
       "      <td>0</td>\n",
       "      <td>NaN</td>\n",
       "      <td>NaN</td>\n",
       "      <td>NaN</td>\n",
       "      <td>0</td>\n",
       "      <td>0.0</td>\n",
       "      <td>0.0</td>\n",
       "      <td>0.0</td>\n",
       "      <td>0.0</td>\n",
       "      <td>2015</td>\n",
       "    </tr>\n",
       "    <tr>\n",
       "      <th>1</th>\n",
       "      <td>51</td>\n",
       "      <td>2015-09-10</td>\n",
       "      <td>2015091000</td>\n",
       "      <td>1</td>\n",
       "      <td>1</td>\n",
       "      <td>1.0</td>\n",
       "      <td>15:00</td>\n",
       "      <td>15.0</td>\n",
       "      <td>3600.0</td>\n",
       "      <td>0.0</td>\n",
       "      <td>...</td>\n",
       "      <td>0</td>\n",
       "      <td>NaN</td>\n",
       "      <td>NaN</td>\n",
       "      <td>NaN</td>\n",
       "      <td>0</td>\n",
       "      <td>0.0</td>\n",
       "      <td>0.0</td>\n",
       "      <td>0.0</td>\n",
       "      <td>0.0</td>\n",
       "      <td>2015</td>\n",
       "    </tr>\n",
       "    <tr>\n",
       "      <th>2</th>\n",
       "      <td>72</td>\n",
       "      <td>2015-09-10</td>\n",
       "      <td>2015091000</td>\n",
       "      <td>1</td>\n",
       "      <td>1</td>\n",
       "      <td>1.0</td>\n",
       "      <td>14:21</td>\n",
       "      <td>15.0</td>\n",
       "      <td>3561.0</td>\n",
       "      <td>39.0</td>\n",
       "      <td>...</td>\n",
       "      <td>0</td>\n",
       "      <td>NaN</td>\n",
       "      <td>NaN</td>\n",
       "      <td>NaN</td>\n",
       "      <td>0</td>\n",
       "      <td>0.0</td>\n",
       "      <td>0.0</td>\n",
       "      <td>0.0</td>\n",
       "      <td>0.0</td>\n",
       "      <td>2015</td>\n",
       "    </tr>\n",
       "    <tr>\n",
       "      <th>3</th>\n",
       "      <td>101</td>\n",
       "      <td>2015-09-10</td>\n",
       "      <td>2015091000</td>\n",
       "      <td>1</td>\n",
       "      <td>1</td>\n",
       "      <td>2.0</td>\n",
       "      <td>14:04</td>\n",
       "      <td>15.0</td>\n",
       "      <td>3544.0</td>\n",
       "      <td>17.0</td>\n",
       "      <td>...</td>\n",
       "      <td>0</td>\n",
       "      <td>NaN</td>\n",
       "      <td>NaN</td>\n",
       "      <td>NaN</td>\n",
       "      <td>0</td>\n",
       "      <td>0.0</td>\n",
       "      <td>0.0</td>\n",
       "      <td>0.0</td>\n",
       "      <td>0.0</td>\n",
       "      <td>2015</td>\n",
       "    </tr>\n",
       "    <tr>\n",
       "      <th>4</th>\n",
       "      <td>122</td>\n",
       "      <td>2015-09-10</td>\n",
       "      <td>2015091000</td>\n",
       "      <td>1</td>\n",
       "      <td>1</td>\n",
       "      <td>1.0</td>\n",
       "      <td>13:26</td>\n",
       "      <td>14.0</td>\n",
       "      <td>3506.0</td>\n",
       "      <td>38.0</td>\n",
       "      <td>...</td>\n",
       "      <td>0</td>\n",
       "      <td>NaN</td>\n",
       "      <td>NaN</td>\n",
       "      <td>NaN</td>\n",
       "      <td>0</td>\n",
       "      <td>0.0</td>\n",
       "      <td>0.0</td>\n",
       "      <td>0.0</td>\n",
       "      <td>0.0</td>\n",
       "      <td>2015</td>\n",
       "    </tr>\n",
       "  </tbody>\n",
       "</table>\n",
       "<p>5 rows × 64 columns</p>\n",
       "</div>"
      ],
      "text/plain": [
       "   Unnamed: 0        Date      GameID  Drive  qtr  down   time  TimeUnder  \\\n",
       "0          36  2015-09-10  2015091000      1    1   NaN  15:00       15.0   \n",
       "1          51  2015-09-10  2015091000      1    1   1.0  15:00       15.0   \n",
       "2          72  2015-09-10  2015091000      1    1   1.0  14:21       15.0   \n",
       "3         101  2015-09-10  2015091000      1    1   2.0  14:04       15.0   \n",
       "4         122  2015-09-10  2015091000      1    1   1.0  13:26       14.0   \n",
       "\n",
       "   TimeSecs  PlayTimeDiff  ...   Accepted.Penalty  PenalizedTeam  PenaltyType  \\\n",
       "0    3600.0           0.0  ...                  0            NaN          NaN   \n",
       "1    3600.0           0.0  ...                  0            NaN          NaN   \n",
       "2    3561.0          39.0  ...                  0            NaN          NaN   \n",
       "3    3544.0          17.0  ...                  0            NaN          NaN   \n",
       "4    3506.0          38.0  ...                  0            NaN          NaN   \n",
       "\n",
       "   PenalizedPlayer  Penalty.Yards  PosTeamScore  DefTeamScore ScoreDiff  \\\n",
       "0              NaN              0           0.0           0.0       0.0   \n",
       "1              NaN              0           0.0           0.0       0.0   \n",
       "2              NaN              0           0.0           0.0       0.0   \n",
       "3              NaN              0           0.0           0.0       0.0   \n",
       "4              NaN              0           0.0           0.0       0.0   \n",
       "\n",
       "  AbsScoreDiff Season  \n",
       "0          0.0   2015  \n",
       "1          0.0   2015  \n",
       "2          0.0   2015  \n",
       "3          0.0   2015  \n",
       "4          0.0   2015  \n",
       "\n",
       "[5 rows x 64 columns]"
      ]
     },
     "execution_count": 46,
     "metadata": {},
     "output_type": "execute_result"
    }
   ],
   "source": [
    "df.head()"
   ]
  },
  {
   "cell_type": "markdown",
   "metadata": {},
   "source": [
    "There's a lot of data that we don't care about. For example, 'PassAttempt' is a binary attribute, but there's also an attribute called 'PlayType' which is set to 'Pass' for a passing play.\n",
    "\n",
    "We define a list of the columns which we're not interested in, and then we delete them"
   ]
  },
  {
   "cell_type": "code",
   "execution_count": 47,
   "metadata": {
    "collapsed": true
   },
   "outputs": [],
   "source": [
    "columns_to_delete = ['Unnamed: 0', 'Date', 'time', 'TimeUnder', \n",
    "                     'PosTeamScore', 'PassAttempt', 'RushAttempt', \n",
    "                     'DefTeamScore', 'Season', 'PlayAttempted']\n",
    "\n",
    "#Iterate through and delete the columns we don't want\n",
    "for col in columns_to_delete:\n",
    "    if col in df:\n",
    "        del df[col]"
   ]
  },
  {
   "cell_type": "markdown",
   "metadata": {},
   "source": [
    "We can then grab a list of the remaining column names"
   ]
  },
  {
   "cell_type": "code",
   "execution_count": 48,
   "metadata": {
    "collapsed": false
   },
   "outputs": [
    {
     "data": {
      "text/plain": [
       "Index(['GameID', 'Drive', 'qtr', 'down', 'TimeSecs', 'PlayTimeDiff',\n",
       "       'SideofField', 'yrdln', 'yrdline100', 'ydstogo', 'ydsnet', 'GoalToGo',\n",
       "       'FirstDown', 'posteam', 'DefensiveTeam', 'desc', 'Yards.Gained', 'sp',\n",
       "       'Touchdown', 'ExPointResult', 'TwoPointConv', 'DefTwoPoint', 'Safety',\n",
       "       'PlayType', 'Passer', 'PassOutcome', 'PassLength', 'PassLocation',\n",
       "       'InterceptionThrown', 'Interceptor', 'Rusher', 'RunLocation', 'RunGap',\n",
       "       'Receiver', 'Reception', 'ReturnResult', 'Returner', 'Tackler1',\n",
       "       'Tackler2', 'FieldGoalResult', 'FieldGoalDistance', 'Fumble',\n",
       "       'RecFumbTeam', 'RecFumbPlayer', 'Sack', 'Challenge.Replay',\n",
       "       'ChalReplayResult', 'Accepted.Penalty', 'PenalizedTeam', 'PenaltyType',\n",
       "       'PenalizedPlayer', 'Penalty.Yards', 'ScoreDiff', 'AbsScoreDiff'],\n",
       "      dtype='object')"
      ]
     },
     "execution_count": 48,
     "metadata": {},
     "output_type": "execute_result"
    }
   ],
   "source": [
    "df.columns"
   ]
  },
  {
   "cell_type": "markdown",
   "metadata": {},
   "source": [
    "Temporary simple data replacement so that we can cast to integers (instead of objects)"
   ]
  },
  {
   "cell_type": "code",
   "execution_count": 49,
   "metadata": {
    "collapsed": false
   },
   "outputs": [
    {
     "name": "stdout",
     "output_type": "stream",
     "text": [
      "<class 'pandas.core.frame.DataFrame'>\n",
      "RangeIndex: 46129 entries, 0 to 46128\n",
      "Data columns (total 54 columns):\n",
      "GameID                46129 non-null int64\n",
      "Drive                 46129 non-null int64\n",
      "qtr                   46129 non-null int64\n",
      "down                  39006 non-null float64\n",
      "TimeSecs              46102 non-null float64\n",
      "PlayTimeDiff          46075 non-null float64\n",
      "SideofField           46063 non-null object\n",
      "yrdln                 46021 non-null float64\n",
      "yrdline100            46021 non-null float64\n",
      "ydstogo               46129 non-null int64\n",
      "ydsnet                46129 non-null int64\n",
      "GoalToGo              46021 non-null float64\n",
      "FirstDown             42811 non-null float64\n",
      "posteam               42878 non-null object\n",
      "DefensiveTeam         42878 non-null object\n",
      "desc                  46129 non-null object\n",
      "Yards.Gained          46129 non-null int64\n",
      "sp                    46129 non-null int64\n",
      "Touchdown             46129 non-null int64\n",
      "ExPointResult         1131 non-null object\n",
      "TwoPointConv          89 non-null object\n",
      "DefTwoPoint           5 non-null object\n",
      "Safety                46129 non-null int64\n",
      "PlayType              46129 non-null object\n",
      "Passer                19398 non-null object\n",
      "PassOutcome           19435 non-null object\n",
      "PassLength            19291 non-null object\n",
      "PassLocation          19291 non-null object\n",
      "InterceptionThrown    46129 non-null int64\n",
      "Interceptor           467 non-null object\n",
      "Rusher                13080 non-null object\n",
      "RunLocation           12969 non-null object\n",
      "RunGap                9588 non-null object\n",
      "Receiver              18458 non-null object\n",
      "Reception             46129 non-null int64\n",
      "ReturnResult          2340 non-null object\n",
      "Returner              2490 non-null object\n",
      "Tackler1              24903 non-null object\n",
      "Tackler2              3356 non-null object\n",
      "FieldGoalResult       1001 non-null object\n",
      "FieldGoalDistance     989 non-null float64\n",
      "Fumble                46129 non-null int64\n",
      "RecFumbTeam           481 non-null object\n",
      "RecFumbPlayer         481 non-null object\n",
      "Sack                  46129 non-null int64\n",
      "Challenge.Replay      46129 non-null int64\n",
      "ChalReplayResult      413 non-null object\n",
      "Accepted.Penalty      46129 non-null int64\n",
      "PenalizedTeam         3535 non-null object\n",
      "PenaltyType           1952 non-null object\n",
      "PenalizedPlayer       3404 non-null object\n",
      "Penalty.Yards         46129 non-null int64\n",
      "ScoreDiff             42878 non-null float64\n",
      "AbsScoreDiff          42878 non-null float64\n",
      "dtypes: float64(10), int64(16), object(28)\n",
      "memory usage: 19.0+ MB\n"
     ]
    }
   ],
   "source": [
    "df.info()"
   ]
  },
  {
   "cell_type": "code",
   "execution_count": 50,
   "metadata": {
    "collapsed": true
   },
   "outputs": [],
   "source": [
    "df = df.replace(to_replace=np.nan,value=-1)"
   ]
  },
  {
   "cell_type": "markdown",
   "metadata": {},
   "source": [
    "At this point, lots of things are encoded as objects, or with excesively large data types"
   ]
  },
  {
   "cell_type": "code",
   "execution_count": 51,
   "metadata": {
    "collapsed": false
   },
   "outputs": [
    {
     "name": "stdout",
     "output_type": "stream",
     "text": [
      "<class 'pandas.core.frame.DataFrame'>\n",
      "RangeIndex: 46129 entries, 0 to 46128\n",
      "Data columns (total 54 columns):\n",
      "GameID                46129 non-null int64\n",
      "Drive                 46129 non-null int64\n",
      "qtr                   46129 non-null int64\n",
      "down                  46129 non-null float64\n",
      "TimeSecs              46129 non-null float64\n",
      "PlayTimeDiff          46129 non-null float64\n",
      "SideofField           46129 non-null object\n",
      "yrdln                 46129 non-null float64\n",
      "yrdline100            46129 non-null float64\n",
      "ydstogo               46129 non-null int64\n",
      "ydsnet                46129 non-null int64\n",
      "GoalToGo              46129 non-null float64\n",
      "FirstDown             46129 non-null float64\n",
      "posteam               46129 non-null object\n",
      "DefensiveTeam         46129 non-null object\n",
      "desc                  46129 non-null object\n",
      "Yards.Gained          46129 non-null int64\n",
      "sp                    46129 non-null int64\n",
      "Touchdown             46129 non-null int64\n",
      "ExPointResult         46129 non-null object\n",
      "TwoPointConv          46129 non-null object\n",
      "DefTwoPoint           46129 non-null object\n",
      "Safety                46129 non-null int64\n",
      "PlayType              46129 non-null object\n",
      "Passer                46129 non-null object\n",
      "PassOutcome           46129 non-null object\n",
      "PassLength            46129 non-null object\n",
      "PassLocation          46129 non-null object\n",
      "InterceptionThrown    46129 non-null int64\n",
      "Interceptor           46129 non-null object\n",
      "Rusher                46129 non-null object\n",
      "RunLocation           46129 non-null object\n",
      "RunGap                46129 non-null object\n",
      "Receiver              46129 non-null object\n",
      "Reception             46129 non-null int64\n",
      "ReturnResult          46129 non-null object\n",
      "Returner              46129 non-null object\n",
      "Tackler1              46129 non-null object\n",
      "Tackler2              46129 non-null object\n",
      "FieldGoalResult       46129 non-null object\n",
      "FieldGoalDistance     46129 non-null float64\n",
      "Fumble                46129 non-null int64\n",
      "RecFumbTeam           46129 non-null object\n",
      "RecFumbPlayer         46129 non-null object\n",
      "Sack                  46129 non-null int64\n",
      "Challenge.Replay      46129 non-null int64\n",
      "ChalReplayResult      46129 non-null object\n",
      "Accepted.Penalty      46129 non-null int64\n",
      "PenalizedTeam         46129 non-null object\n",
      "PenaltyType           46129 non-null object\n",
      "PenalizedPlayer       46129 non-null object\n",
      "Penalty.Yards         46129 non-null int64\n",
      "ScoreDiff             46129 non-null float64\n",
      "AbsScoreDiff          46129 non-null float64\n",
      "dtypes: float64(10), int64(16), object(28)\n",
      "memory usage: 19.0+ MB\n"
     ]
    }
   ],
   "source": [
    "df.info()"
   ]
  },
  {
   "cell_type": "markdown",
   "metadata": {},
   "source": [
    "We define four lists based on the types of features we're using.\n",
    "Binary features are separated from the other categorical features so that they can be stored in less space"
   ]
  },
  {
   "cell_type": "code",
   "execution_count": 52,
   "metadata": {
    "collapsed": false
   },
   "outputs": [],
   "source": [
    "continuous_features = ['TimeSecs', 'PlayTimeDiff', 'yrdln', 'yrdline100',\n",
    "                       'ydstogo', 'ydsnet', 'Yards.Gained', 'Penalty.Yards',\n",
    "                       'ScoreDiff', 'AbsScoreDiff']\n",
    "\n",
    "ordinal_features = ['Drive', 'qtr', 'down']\n",
    "binary_features = ['GoalToGo', 'FirstDown','sp', 'Touchdown', 'Safety', 'Fumble']\n",
    "categorical_features = df.columns.difference(continuous_features).difference(ordinal_features)"
   ]
  },
  {
   "cell_type": "markdown",
   "metadata": {},
   "source": [
    "We then cast all of the columns to the appropriate underlying data types"
   ]
  },
  {
   "cell_type": "code",
   "execution_count": 53,
   "metadata": {
    "collapsed": false
   },
   "outputs": [],
   "source": [
    "df[continuous_features] = df[continuous_features].astype(np.float64)\n",
    "df[ordinal_features] = df[ordinal_features].astype(np.int64)\n",
    "df[binary_features] = df[binary_features].astype(np.int8)"
   ]
  },
  {
   "cell_type": "markdown",
   "metadata": {},
   "source": [
    "THIS IS SOME MORE REFORMATTING SHIT I'M DOING FOR NOW. PROLLY GONNA KEEP IT"
   ]
  },
  {
   "cell_type": "code",
   "execution_count": 54,
   "metadata": {
    "collapsed": true
   },
   "outputs": [],
   "source": [
    "df['PassOutcome'].replace(['Complete', 'Incomplete Pass'], [1, 0], inplace=True)"
   ]
  },
  {
   "cell_type": "code",
   "execution_count": 55,
   "metadata": {
    "collapsed": false
   },
   "outputs": [],
   "source": [
    "df = df[df[\"PlayType\"] != 'Quarter End']\n",
    "df = df[df[\"PlayType\"] != 'Two Minute Warning']\n",
    "df = df[df[\"PlayType\"] != 'End of Game']"
   ]
  },
  {
   "cell_type": "markdown",
   "metadata": {},
   "source": [
    "Now all of the objects are encoded the way we'd like them to be"
   ]
  },
  {
   "cell_type": "code",
   "execution_count": 56,
   "metadata": {
    "collapsed": false
   },
   "outputs": [
    {
     "name": "stdout",
     "output_type": "stream",
     "text": [
      "<class 'pandas.core.frame.DataFrame'>\n",
      "Int64Index: 44762 entries, 0 to 46128\n",
      "Data columns (total 54 columns):\n",
      "GameID                44762 non-null int64\n",
      "Drive                 44762 non-null int64\n",
      "qtr                   44762 non-null int64\n",
      "down                  44762 non-null int64\n",
      "TimeSecs              44762 non-null float64\n",
      "PlayTimeDiff          44762 non-null float64\n",
      "SideofField           44762 non-null object\n",
      "yrdln                 44762 non-null float64\n",
      "yrdline100            44762 non-null float64\n",
      "ydstogo               44762 non-null float64\n",
      "ydsnet                44762 non-null float64\n",
      "GoalToGo              44762 non-null int8\n",
      "FirstDown             44762 non-null int8\n",
      "posteam               44762 non-null object\n",
      "DefensiveTeam         44762 non-null object\n",
      "desc                  44762 non-null object\n",
      "Yards.Gained          44762 non-null float64\n",
      "sp                    44762 non-null int8\n",
      "Touchdown             44762 non-null int8\n",
      "ExPointResult         44762 non-null object\n",
      "TwoPointConv          44762 non-null object\n",
      "DefTwoPoint           44762 non-null object\n",
      "Safety                44762 non-null int8\n",
      "PlayType              44762 non-null object\n",
      "Passer                44762 non-null object\n",
      "PassOutcome           44762 non-null int64\n",
      "PassLength            44762 non-null object\n",
      "PassLocation          44762 non-null object\n",
      "InterceptionThrown    44762 non-null int64\n",
      "Interceptor           44762 non-null object\n",
      "Rusher                44762 non-null object\n",
      "RunLocation           44762 non-null object\n",
      "RunGap                44762 non-null object\n",
      "Receiver              44762 non-null object\n",
      "Reception             44762 non-null int64\n",
      "ReturnResult          44762 non-null object\n",
      "Returner              44762 non-null object\n",
      "Tackler1              44762 non-null object\n",
      "Tackler2              44762 non-null object\n",
      "FieldGoalResult       44762 non-null object\n",
      "FieldGoalDistance     44762 non-null float64\n",
      "Fumble                44762 non-null int8\n",
      "RecFumbTeam           44762 non-null object\n",
      "RecFumbPlayer         44762 non-null object\n",
      "Sack                  44762 non-null int64\n",
      "Challenge.Replay      44762 non-null int64\n",
      "ChalReplayResult      44762 non-null object\n",
      "Accepted.Penalty      44762 non-null int64\n",
      "PenalizedTeam         44762 non-null object\n",
      "PenaltyType           44762 non-null object\n",
      "PenalizedPlayer       44762 non-null object\n",
      "Penalty.Yards         44762 non-null float64\n",
      "ScoreDiff             44762 non-null float64\n",
      "AbsScoreDiff          44762 non-null float64\n",
      "dtypes: float64(11), int64(10), int8(6), object(27)\n",
      "memory usage: 17.0+ MB\n"
     ]
    }
   ],
   "source": [
    "df.info()"
   ]
  },
  {
   "cell_type": "markdown",
   "metadata": {},
   "source": [
    "Now we can start to take a look at what's in each of our columns"
   ]
  },
  {
   "cell_type": "code",
   "execution_count": 57,
   "metadata": {
    "collapsed": false
   },
   "outputs": [
    {
     "data": {
      "text/html": [
       "<div>\n",
       "<table border=\"1\" class=\"dataframe\">\n",
       "  <thead>\n",
       "    <tr style=\"text-align: right;\">\n",
       "      <th></th>\n",
       "      <th>GameID</th>\n",
       "      <th>Drive</th>\n",
       "      <th>qtr</th>\n",
       "      <th>down</th>\n",
       "      <th>TimeSecs</th>\n",
       "      <th>PlayTimeDiff</th>\n",
       "      <th>yrdln</th>\n",
       "      <th>yrdline100</th>\n",
       "      <th>ydstogo</th>\n",
       "      <th>ydsnet</th>\n",
       "      <th>...</th>\n",
       "      <th>InterceptionThrown</th>\n",
       "      <th>Reception</th>\n",
       "      <th>FieldGoalDistance</th>\n",
       "      <th>Fumble</th>\n",
       "      <th>Sack</th>\n",
       "      <th>Challenge.Replay</th>\n",
       "      <th>Accepted.Penalty</th>\n",
       "      <th>Penalty.Yards</th>\n",
       "      <th>ScoreDiff</th>\n",
       "      <th>AbsScoreDiff</th>\n",
       "    </tr>\n",
       "  </thead>\n",
       "  <tbody>\n",
       "    <tr>\n",
       "      <th>count</th>\n",
       "      <td>4.476200e+04</td>\n",
       "      <td>44762.000000</td>\n",
       "      <td>44762.000000</td>\n",
       "      <td>44762.000000</td>\n",
       "      <td>44762.000000</td>\n",
       "      <td>44762.000000</td>\n",
       "      <td>44762.000000</td>\n",
       "      <td>44762.000000</td>\n",
       "      <td>44762.000000</td>\n",
       "      <td>44762.000000</td>\n",
       "      <td>...</td>\n",
       "      <td>44762.000000</td>\n",
       "      <td>44762.000000</td>\n",
       "      <td>44762.000000</td>\n",
       "      <td>44762.000000</td>\n",
       "      <td>44762.000000</td>\n",
       "      <td>44762.000000</td>\n",
       "      <td>44762.000000</td>\n",
       "      <td>44762.000000</td>\n",
       "      <td>44762.000000</td>\n",
       "      <td>44762.000000</td>\n",
       "    </tr>\n",
       "    <tr>\n",
       "      <th>mean</th>\n",
       "      <td>2.015164e+09</td>\n",
       "      <td>12.194920</td>\n",
       "      <td>2.580135</td>\n",
       "      <td>1.611568</td>\n",
       "      <td>1699.955342</td>\n",
       "      <td>20.229860</td>\n",
       "      <td>28.521827</td>\n",
       "      <td>49.954381</td>\n",
       "      <td>7.533399</td>\n",
       "      <td>26.854207</td>\n",
       "      <td>...</td>\n",
       "      <td>0.010455</td>\n",
       "      <td>0.267571</td>\n",
       "      <td>-0.134623</td>\n",
       "      <td>0.014007</td>\n",
       "      <td>0.028238</td>\n",
       "      <td>0.009227</td>\n",
       "      <td>0.078973</td>\n",
       "      <td>0.672311</td>\n",
       "      <td>-1.059336</td>\n",
       "      <td>7.599929</td>\n",
       "    </tr>\n",
       "    <tr>\n",
       "      <th>std</th>\n",
       "      <td>2.181743e+05</td>\n",
       "      <td>7.132299</td>\n",
       "      <td>1.134654</td>\n",
       "      <td>1.372797</td>\n",
       "      <td>1064.910674</td>\n",
       "      <td>17.735978</td>\n",
       "      <td>12.630670</td>\n",
       "      <td>24.916942</td>\n",
       "      <td>4.824107</td>\n",
       "      <td>25.428661</td>\n",
       "      <td>...</td>\n",
       "      <td>0.101716</td>\n",
       "      <td>0.442697</td>\n",
       "      <td>5.958572</td>\n",
       "      <td>0.117522</td>\n",
       "      <td>0.165655</td>\n",
       "      <td>0.095612</td>\n",
       "      <td>0.269700</td>\n",
       "      <td>2.755569</td>\n",
       "      <td>10.713988</td>\n",
       "      <td>7.625716</td>\n",
       "    </tr>\n",
       "    <tr>\n",
       "      <th>min</th>\n",
       "      <td>2.015091e+09</td>\n",
       "      <td>1.000000</td>\n",
       "      <td>1.000000</td>\n",
       "      <td>-1.000000</td>\n",
       "      <td>-747.000000</td>\n",
       "      <td>-1.000000</td>\n",
       "      <td>-1.000000</td>\n",
       "      <td>-1.000000</td>\n",
       "      <td>0.000000</td>\n",
       "      <td>-48.000000</td>\n",
       "      <td>...</td>\n",
       "      <td>0.000000</td>\n",
       "      <td>0.000000</td>\n",
       "      <td>-1.000000</td>\n",
       "      <td>0.000000</td>\n",
       "      <td>0.000000</td>\n",
       "      <td>0.000000</td>\n",
       "      <td>0.000000</td>\n",
       "      <td>0.000000</td>\n",
       "      <td>-41.000000</td>\n",
       "      <td>-1.000000</td>\n",
       "    </tr>\n",
       "    <tr>\n",
       "      <th>25%</th>\n",
       "      <td>2.015101e+09</td>\n",
       "      <td>6.000000</td>\n",
       "      <td>2.000000</td>\n",
       "      <td>1.000000</td>\n",
       "      <td>771.000000</td>\n",
       "      <td>5.000000</td>\n",
       "      <td>20.000000</td>\n",
       "      <td>32.000000</td>\n",
       "      <td>4.000000</td>\n",
       "      <td>5.000000</td>\n",
       "      <td>...</td>\n",
       "      <td>0.000000</td>\n",
       "      <td>0.000000</td>\n",
       "      <td>-1.000000</td>\n",
       "      <td>0.000000</td>\n",
       "      <td>0.000000</td>\n",
       "      <td>0.000000</td>\n",
       "      <td>0.000000</td>\n",
       "      <td>0.000000</td>\n",
       "      <td>-7.000000</td>\n",
       "      <td>2.000000</td>\n",
       "    </tr>\n",
       "    <tr>\n",
       "      <th>50%</th>\n",
       "      <td>2.015111e+09</td>\n",
       "      <td>12.000000</td>\n",
       "      <td>3.000000</td>\n",
       "      <td>2.000000</td>\n",
       "      <td>1800.000000</td>\n",
       "      <td>16.000000</td>\n",
       "      <td>30.000000</td>\n",
       "      <td>51.000000</td>\n",
       "      <td>10.000000</td>\n",
       "      <td>20.000000</td>\n",
       "      <td>...</td>\n",
       "      <td>0.000000</td>\n",
       "      <td>0.000000</td>\n",
       "      <td>-1.000000</td>\n",
       "      <td>0.000000</td>\n",
       "      <td>0.000000</td>\n",
       "      <td>0.000000</td>\n",
       "      <td>0.000000</td>\n",
       "      <td>0.000000</td>\n",
       "      <td>0.000000</td>\n",
       "      <td>6.000000</td>\n",
       "    </tr>\n",
       "    <tr>\n",
       "      <th>75%</th>\n",
       "      <td>2.015121e+09</td>\n",
       "      <td>18.000000</td>\n",
       "      <td>4.000000</td>\n",
       "      <td>3.000000</td>\n",
       "      <td>2589.000000</td>\n",
       "      <td>37.000000</td>\n",
       "      <td>38.000000</td>\n",
       "      <td>72.000000</td>\n",
       "      <td>10.000000</td>\n",
       "      <td>45.000000</td>\n",
       "      <td>...</td>\n",
       "      <td>0.000000</td>\n",
       "      <td>1.000000</td>\n",
       "      <td>-1.000000</td>\n",
       "      <td>0.000000</td>\n",
       "      <td>0.000000</td>\n",
       "      <td>0.000000</td>\n",
       "      <td>0.000000</td>\n",
       "      <td>0.000000</td>\n",
       "      <td>4.000000</td>\n",
       "      <td>11.000000</td>\n",
       "    </tr>\n",
       "    <tr>\n",
       "      <th>max</th>\n",
       "      <td>2.016010e+09</td>\n",
       "      <td>33.000000</td>\n",
       "      <td>5.000000</td>\n",
       "      <td>4.000000</td>\n",
       "      <td>3600.000000</td>\n",
       "      <td>940.000000</td>\n",
       "      <td>50.000000</td>\n",
       "      <td>99.000000</td>\n",
       "      <td>42.000000</td>\n",
       "      <td>99.000000</td>\n",
       "      <td>...</td>\n",
       "      <td>1.000000</td>\n",
       "      <td>1.000000</td>\n",
       "      <td>66.000000</td>\n",
       "      <td>1.000000</td>\n",
       "      <td>1.000000</td>\n",
       "      <td>1.000000</td>\n",
       "      <td>1.000000</td>\n",
       "      <td>55.000000</td>\n",
       "      <td>41.000000</td>\n",
       "      <td>41.000000</td>\n",
       "    </tr>\n",
       "  </tbody>\n",
       "</table>\n",
       "<p>8 rows × 27 columns</p>\n",
       "</div>"
      ],
      "text/plain": [
       "             GameID         Drive           qtr          down      TimeSecs  \\\n",
       "count  4.476200e+04  44762.000000  44762.000000  44762.000000  44762.000000   \n",
       "mean   2.015164e+09     12.194920      2.580135      1.611568   1699.955342   \n",
       "std    2.181743e+05      7.132299      1.134654      1.372797   1064.910674   \n",
       "min    2.015091e+09      1.000000      1.000000     -1.000000   -747.000000   \n",
       "25%    2.015101e+09      6.000000      2.000000      1.000000    771.000000   \n",
       "50%    2.015111e+09     12.000000      3.000000      2.000000   1800.000000   \n",
       "75%    2.015121e+09     18.000000      4.000000      3.000000   2589.000000   \n",
       "max    2.016010e+09     33.000000      5.000000      4.000000   3600.000000   \n",
       "\n",
       "       PlayTimeDiff         yrdln    yrdline100       ydstogo        ydsnet  \\\n",
       "count  44762.000000  44762.000000  44762.000000  44762.000000  44762.000000   \n",
       "mean      20.229860     28.521827     49.954381      7.533399     26.854207   \n",
       "std       17.735978     12.630670     24.916942      4.824107     25.428661   \n",
       "min       -1.000000     -1.000000     -1.000000      0.000000    -48.000000   \n",
       "25%        5.000000     20.000000     32.000000      4.000000      5.000000   \n",
       "50%       16.000000     30.000000     51.000000     10.000000     20.000000   \n",
       "75%       37.000000     38.000000     72.000000     10.000000     45.000000   \n",
       "max      940.000000     50.000000     99.000000     42.000000     99.000000   \n",
       "\n",
       "           ...       InterceptionThrown     Reception  FieldGoalDistance  \\\n",
       "count      ...             44762.000000  44762.000000       44762.000000   \n",
       "mean       ...                 0.010455      0.267571          -0.134623   \n",
       "std        ...                 0.101716      0.442697           5.958572   \n",
       "min        ...                 0.000000      0.000000          -1.000000   \n",
       "25%        ...                 0.000000      0.000000          -1.000000   \n",
       "50%        ...                 0.000000      0.000000          -1.000000   \n",
       "75%        ...                 0.000000      1.000000          -1.000000   \n",
       "max        ...                 1.000000      1.000000          66.000000   \n",
       "\n",
       "             Fumble          Sack  Challenge.Replay  Accepted.Penalty  \\\n",
       "count  44762.000000  44762.000000      44762.000000      44762.000000   \n",
       "mean       0.014007      0.028238          0.009227          0.078973   \n",
       "std        0.117522      0.165655          0.095612          0.269700   \n",
       "min        0.000000      0.000000          0.000000          0.000000   \n",
       "25%        0.000000      0.000000          0.000000          0.000000   \n",
       "50%        0.000000      0.000000          0.000000          0.000000   \n",
       "75%        0.000000      0.000000          0.000000          0.000000   \n",
       "max        1.000000      1.000000          1.000000          1.000000   \n",
       "\n",
       "       Penalty.Yards     ScoreDiff  AbsScoreDiff  \n",
       "count   44762.000000  44762.000000  44762.000000  \n",
       "mean        0.672311     -1.059336      7.599929  \n",
       "std         2.755569     10.713988      7.625716  \n",
       "min         0.000000    -41.000000     -1.000000  \n",
       "25%         0.000000     -7.000000      2.000000  \n",
       "50%         0.000000      0.000000      6.000000  \n",
       "75%         0.000000      4.000000     11.000000  \n",
       "max        55.000000     41.000000     41.000000  \n",
       "\n",
       "[8 rows x 27 columns]"
      ]
     },
     "execution_count": 57,
     "metadata": {},
     "output_type": "execute_result"
    }
   ],
   "source": [
    "df.describe()"
   ]
  },
  {
   "cell_type": "code",
   "execution_count": 58,
   "metadata": {
    "collapsed": true
   },
   "outputs": [],
   "source": [
    "import matplotlib.pyplot as plt\n",
    "import warnings\n",
    "warnings.simplefilter('ignore', DeprecationWarning)\n",
    "#Embed figures in the Jupyter Notebook\n",
    "%matplotlib inline\n",
    "\n",
    "#Use GGPlot style for matplotlib\n",
    "plt.style.use('ggplot')"
   ]
  },
  {
   "cell_type": "code",
   "execution_count": 59,
   "metadata": {
    "collapsed": false
   },
   "outputs": [],
   "source": [
    "pass_plays = df[df['PlayType'] == \"Pass\"]\n",
    "pass_plays_grouped = pass_plays.groupby(by=['Passer'])"
   ]
  },
  {
   "cell_type": "markdown",
   "metadata": {},
   "source": [
    "Look at the number of yards gained by a FirstDown"
   ]
  },
  {
   "cell_type": "code",
   "execution_count": 60,
   "metadata": {
    "collapsed": false
   },
   "outputs": [
    {
     "name": "stdout",
     "output_type": "stream",
     "text": [
      "FirstDown\n",
      "-1     3007\n",
      " 0    29370\n",
      " 1    12385\n",
      "Name: Yards.Gained, dtype: int64\n",
      "-----------------------------\n",
      "FirstDown\n",
      "-1     24201.0\n",
      " 0     81642.0\n",
      " 1    119522.0\n",
      "Name: Yards.Gained, dtype: float64\n",
      "-----------------------------\n",
      "FirstDown\n",
      "-1    8.048221\n",
      " 0    2.779775\n",
      " 1    9.650545\n",
      "Name: Yards.Gained, dtype: float64\n"
     ]
    }
   ],
   "source": [
    "first_downs_grouped = df.groupby(by=['FirstDown'])\n",
    "\n",
    "print(first_downs_grouped['Yards.Gained'].count())\n",
    "print(\"-----------------------------\")\n",
    "print(first_downs_grouped['Yards.Gained'].sum())\n",
    "print(\"-----------------------------\")\n",
    "print(first_downs_grouped['Yards.Gained'].sum()/first_downs_grouped['Yards.Gained'].count())"
   ]
  },
  {
   "cell_type": "markdown",
   "metadata": {},
   "source": [
    "Group by play type"
   ]
  },
  {
   "cell_type": "code",
   "execution_count": 61,
   "metadata": {
    "collapsed": false
   },
   "outputs": [
    {
     "name": "stdout",
     "output_type": "stream",
     "text": [
      "PlayType\n",
      "Extra Point     1126\n",
      "Field Goal       988\n",
      "Kickoff         2565\n",
      "No Play         2608\n",
      "Onside Kick       67\n",
      "Pass           18323\n",
      "Punt            2429\n",
      "QB Kneel         425\n",
      "Run            13129\n",
      "Sack            1191\n",
      "Spike             52\n",
      "Timeout         1859\n",
      "Name: Yards.Gained, dtype: int64\n",
      "-----------------------------\n",
      "PlayType\n",
      "Extra Point         0.0\n",
      "Field Goal        197.0\n",
      "Kickoff         25217.0\n",
      "No Play          6370.0\n",
      "Onside Kick        49.0\n",
      "Pass           133854.0\n",
      "Punt            11364.0\n",
      "QB Kneel         -453.0\n",
      "Run             56627.0\n",
      "Sack            -7868.0\n",
      "Spike               0.0\n",
      "Timeout             8.0\n",
      "Name: Yards.Gained, dtype: float64\n",
      "-----------------------------\n",
      "PlayType\n",
      "Extra Point    0.000000\n",
      "Field Goal     0.199393\n",
      "Kickoff        9.831189\n",
      "No Play        2.442485\n",
      "Onside Kick    0.731343\n",
      "Pass           7.305245\n",
      "Punt           4.678469\n",
      "QB Kneel      -1.065882\n",
      "Run            4.313124\n",
      "Sack          -6.606213\n",
      "Spike          0.000000\n",
      "Timeout        0.004303\n",
      "Name: Yards.Gained, dtype: float64\n"
     ]
    }
   ],
   "source": [
    "plays_grouped = df.groupby(by=['PlayType'])\n",
    "print(plays_grouped['Yards.Gained'].count())\n",
    "print(\"-----------------------------\")\n",
    "print(plays_grouped['Yards.Gained'].sum())\n",
    "print(\"-----------------------------\")\n",
    "print(plays_grouped['Yards.Gained'].sum()/plays_grouped['Yards.Gained'].count())"
   ]
  },
  {
   "cell_type": "markdown",
   "metadata": {},
   "source": [
    "We can eliminate combos who didn't have at least 10 receptions together, and then re-sample the data. This will remove noise from QB-receiver combos who have very high or low completion rates because they've played very little together."
   ]
  },
  {
   "cell_type": "code",
   "execution_count": 62,
   "metadata": {
    "collapsed": false
   },
   "outputs": [
    {
     "data": {
      "image/png": "[encoded data removed]",
      "text/plain": [
       "<matplotlib.figure.Figure at 0x11a8e05c0>"
      ]
     },
     "metadata": {},
     "output_type": "display_data"
    }
   ],
   "source": [
    "size = 10\n",
    "corr = df.corr()\n",
    "fig, ax = plt.subplots(figsize=(size, size))\n",
    "ax.matshow(corr)\n",
    "plt.xticks(range(len(corr.columns)), corr.columns);\n",
    "for tick in ax.get_xticklabels():\n",
    "    tick.set_rotation(90)\n",
    "plt.yticks(range(len(corr.columns)), corr.columns);"
   ]
  },
  {
   "cell_type": "markdown",
   "metadata": {},
   "source": [
    "We can also extract the highest-completion percentage combos.\n",
    "Here we take the top-10 most reliable QB-receiver pairs."
   ]
  },
  {
   "cell_type": "code",
   "execution_count": 63,
   "metadata": {
    "collapsed": false
   },
   "outputs": [],
   "source": [
    "import seaborn as sns"
   ]
  },
  {
   "cell_type": "code",
   "execution_count": 64,
   "metadata": {
    "collapsed": false
   },
   "outputs": [
    {
     "name": "stdout",
     "output_type": "stream",
     "text": [
      "       FieldGoalDistance  ydstogo\n",
      "0                   -1.0      0.0\n",
      "1                   -1.0     10.0\n",
      "2                   -1.0     10.0\n",
      "3                   -1.0      1.0\n",
      "4                   -1.0     10.0\n",
      "5                   -1.0     10.0\n",
      "6                   -1.0     10.0\n",
      "7                   -1.0     18.0\n",
      "8                   -1.0     28.0\n",
      "9                   -1.0     22.0\n",
      "10                  44.0     12.0\n",
      "11                  -1.0     10.0\n",
      "12                  -1.0     10.0\n",
      "13                  -1.0     10.0\n",
      "14                  -1.0     10.0\n",
      "15                  -1.0     10.0\n",
      "16                  -1.0     10.0\n",
      "17                  -1.0     10.0\n",
      "18                  -1.0     10.0\n",
      "19                  -1.0      4.0\n",
      "20                  -1.0      5.0\n",
      "21                  -1.0     10.0\n",
      "22                  -1.0     15.0\n",
      "23                  -1.0     12.0\n",
      "24                  -1.0     18.0\n",
      "25                  -1.0      1.0\n",
      "26                  -1.0     10.0\n",
      "27                  -1.0      2.0\n",
      "28                  -1.0      1.0\n",
      "29                  -1.0     10.0\n",
      "...                  ...      ...\n",
      "46098               -1.0      4.0\n",
      "46099               -1.0     10.0\n",
      "46100               -1.0     10.0\n",
      "46101               -1.0      7.0\n",
      "46102               -1.0      3.0\n",
      "46103               43.0     10.0\n",
      "46104               -1.0      0.0\n",
      "46105               -1.0     10.0\n",
      "46106               -1.0     10.0\n",
      "46107               -1.0     10.0\n",
      "46108               -1.0     10.0\n",
      "46109               -1.0     10.0\n",
      "46110               -1.0     10.0\n",
      "46111               -1.0     13.0\n",
      "46112               -1.0      0.0\n",
      "46113               -1.0     13.0\n",
      "46114               -1.0     10.0\n",
      "46116               -1.0     10.0\n",
      "46117               -1.0      0.0\n",
      "46118               -1.0      5.0\n",
      "46119               -1.0      0.0\n",
      "46120               -1.0      3.0\n",
      "46121               -1.0     10.0\n",
      "46122               -1.0     10.0\n",
      "46123               -1.0     10.0\n",
      "46124               -1.0     10.0\n",
      "46125               -1.0     10.0\n",
      "46126               -1.0      3.0\n",
      "46127               -1.0      3.0\n",
      "46128               -1.0      2.0\n",
      "\n",
      "[44762 rows x 2 columns]\n"
     ]
    }
   ],
   "source": [
    "# df_dropped = df.dropna()\n",
    "# df_dropped.info()\n",
    "selected_types = df.select_dtypes(exclude=[\"object\"])\n",
    "\n",
    "useful_attributes = df[['FieldGoalDistance','ydstogo']]\n",
    "print(useful_attributes)"
   ]
  },
  {
   "cell_type": "code",
   "execution_count": 65,
   "metadata": {
    "collapsed": false
   },
   "outputs": [
    {
     "data": {
      "text/plain": [
       "<matplotlib.axes._subplots.AxesSubplot at 0x117c54d68>"
      ]
     },
     "execution_count": 65,
     "metadata": {},
     "output_type": "execute_result"
    },
    {
     "data": {
      "image/png": "[encoded data removed]",
      "text/plain": [
       "<matplotlib.figure.Figure at 0x11a8e00b8>"
      ]
     },
     "metadata": {},
     "output_type": "display_data"
    }
   ],
   "source": [
    "sns.heatmap(corr)"
   ]
  },
  {
   "cell_type": "code",
   "execution_count": 66,
   "metadata": {
    "collapsed": false
   },
   "outputs": [
    {
     "data": {
      "text/plain": [
       "[None,\n",
       " None,\n",
       " None,\n",
       " None,\n",
       " None,\n",
       " None,\n",
       " None,\n",
       " None,\n",
       " None,\n",
       " None,\n",
       " None,\n",
       " None,\n",
       " None,\n",
       " None,\n",
       " None,\n",
       " None,\n",
       " None,\n",
       " None,\n",
       " None,\n",
       " None,\n",
       " None,\n",
       " None,\n",
       " None,\n",
       " None,\n",
       " None,\n",
       " None,\n",
       " None]"
      ]
     },
     "execution_count": 66,
     "metadata": {},
     "output_type": "execute_result"
    },
    {
     "data": {
      "image/png": "[encoded data removed]",
      "text/plain": [
       "<matplotlib.figure.Figure at 0x128ab4940>"
      ]
     },
     "metadata": {},
     "output_type": "display_data"
    }
   ],
   "source": [
    "cluster_corr = sns.clustermap(corr)\n",
    "plt.setp(cluster_corr.ax_heatmap.yaxis.get_majorticklabels(), rotation=0)\n",
    "# plt.xticks(rotation=90)\n"
   ]
  },
  {
   "cell_type": "code",
   "execution_count": null,
   "metadata": {
    "collapsed": true
   },
   "outputs": [],
   "source": []
  }
 ],
 "metadata": {
  "anaconda-cloud": {},
  "kernelspec": {
   "display_name": "Python [Root]",
   "language": "python",
   "name": "Python [Root]"
  },
  "language_info": {
   "codemirror_mode": {
    "name": "ipython",
    "version": 3
   },
   "file_extension": ".py",
   "mimetype": "text/x-python",
   "name": "python",
   "nbconvert_exporter": "python",
   "pygments_lexer": "ipython3",
   "version": "3.5.2"
  }
 },
 "nbformat": 4,
 "nbformat_minor": 0
}
